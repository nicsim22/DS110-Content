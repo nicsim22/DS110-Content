{
  "cells": [
    {
      "cell_type": "markdown",
      "metadata": {
        "id": "view-in-github",
        "colab_type": "text"
      },
      "source": [
        "<a href=\"https://colab.research.google.com/github/nicsim22/DS110-Content/blob/main/R10_NLPComplexitySorting_F24_sol.ipynb\" target=\"_parent\"><img src=\"https://colab.research.google.com/assets/colab-badge.svg\" alt=\"Open In Colab\"/></a>"
      ]
    },
    {
      "cell_type": "markdown",
      "metadata": {
        "id": "1ipzLanro2WA"
      },
      "source": [
        "# Embeddings\n",
        "\n",
        "Here are two small lists of words:  a list of animals, and a list of words that aren't animals.  Use word2vec to turn each word into a vector, and then use these vectors as inputs to a scikit-learn classifier that decides whether a word is an animal word or not. You can use whatever classifier you're comfortable with.  Then try writing the is_animal() function, which takes a string, a word vector lookup dictionary, and a trained classifier, and outputs 1 if the string is an animal and 0 otherwise.  Use the provided code to try out your is_animal() function on some test strings."
      ]
    },
    {
      "cell_type": "code",
      "execution_count": null,
      "metadata": {
        "id": "p5UNbaclo2WF"
      },
      "outputs": [],
      "source": [
        "animals = ['pig', 'cow', 'sheep', 'bird', 'horse', 'zebra', 'fly', 'octopus', 'fish']"
      ]
    },
    {
      "cell_type": "code",
      "execution_count": null,
      "metadata": {
        "id": "XyBjfrlto2WG"
      },
      "outputs": [],
      "source": [
        "not_animals = ['car', 'king', 'planet', 'light', 'red', 'thus', 'zoo', 'mouth']"
      ]
    },
    {
      "cell_type": "code",
      "execution_count": null,
      "metadata": {
        "id": "BDot7ZlJo2WG"
      },
      "outputs": [],
      "source": [
        "import gensim.downloader as api\n",
        "\n",
        "wv = api.load('word2vec-google-news-300')"
      ]
    },
    {
      "cell_type": "code",
      "execution_count": null,
      "metadata": {
        "id": "_O6iZQkBo2WH"
      },
      "outputs": [],
      "source": [
        "import numpy as np\n",
        "\n",
        "# to_vectors:  takes a list of strings and a word2vec lookup table,\n",
        "# and returns the corresponding list of vectors\n",
        "def to_vectors(word_list, wv):\n",
        "    return [wv[w] for w in word_list]\n",
        "\n",
        "# Done for you:  to_matrix, converting the word list to a matrix\n",
        "# of the kind expected by scikit-learn\n",
        "def to_matrix(word_list, wv):\n",
        "    lst = to_vectors(word_list, wv)\n",
        "    return np.array(lst)\n",
        "\n",
        "# Also done for you:  creation of the overall matrix of positive\n",
        "# and negative examples of the kind expected by scikit-learn,\n",
        "# plus creation of the list of training labels (1 for yes, 0 for no).\n",
        "# More advanced students, consider trying to write this yourself.\n",
        "def create_training_data(pos_word_list, neg_word_list, wv):\n",
        "    pos_matrix = to_matrix(pos_word_list, wv)\n",
        "    neg_matrix = to_matrix(neg_word_list, wv)\n",
        "    pos_labels = [1] * len(pos_word_list)\n",
        "    neg_labels = [0] * len(neg_word_list)\n",
        "    features = np.concatenate((pos_matrix, neg_matrix))\n",
        "    labels = pos_labels + neg_labels\n",
        "    return features, labels\n",
        "\n",
        "features, data = create_training_data(animals, not_animals, wv)"
      ]
    },
    {
      "cell_type": "code",
      "execution_count": null,
      "metadata": {
        "id": "qzLG2d8Po2WL"
      },
      "outputs": [],
      "source": [
        "from sklearn.ensemble import RandomForestClassifier\n",
        "\n",
        "clf = RandomForestClassifier(n_estimators = 200)\n",
        "clf.fit(features, data)"
      ]
    },
    {
      "cell_type": "code",
      "execution_count": null,
      "metadata": {
        "id": "VCrpk9NYo2WM"
      },
      "outputs": [],
      "source": [
        "# is_animal: given a string, a word vector lookup table, and a\n",
        "# trained classifier, return 1 if classifier says yes, 0 otherwise\n",
        "def is_animal(s, wv, clf):\n",
        "    return clf.predict([wv[s]])"
      ]
    },
    {
      "cell_type": "code",
      "execution_count": null,
      "metadata": {
        "id": "hjRfC_KDo2WM"
      },
      "outputs": [],
      "source": [
        "test_data = ['whale', 'hippo', 'butterfly', 'gnat', 'monkey', 'squid', 'bed', 'house', 'road', 'faucet', 'black', 'glove']\n",
        "test_labels = [1, 1, 1, 1, 1, 1, 0, 0, 0, 0, 0, 0]  # Compare to the predictions\n",
        "predictions = [is_animal(w, wv, clf) for w in test_data]\n",
        "print(predictions)"
      ]
    },
    {
      "cell_type": "markdown",
      "metadata": {
        "id": "1ghXutlco2WM"
      },
      "source": [
        "## Complexity\n",
        "\n",
        "a) Order the following running times from fastest running time to slowest: $\\Theta(e^N)$, $\\Theta(N^4)$, $\\Theta(N)$, $\\Theta(\\sqrt{N})$, $\\Theta(\\log N)$, $\\Theta(N \\log N)$.\n",
        "\n",
        "\n",
        "Answer:\n",
        "\n",
        "$\\Theta(\\log N)$, $\\Theta(\\sqrt{N})$, $\\Theta(N)$, $\\Theta(N \\log N)$, $\\Theta(N^4)$, $\\Theta(e^N)$.\n",
        "\n",
        "\n",
        "\n",
        "b) If I have a data table with $m$ rows and $n$ columns, what is the big-O bound for looping over every element in the array?\n",
        "\n",
        "Answer: $\\Theta(mn)$\n",
        "\n",
        "c) Given the following code, what is the worst case number of times the message is printed, in big-O notation?  Call the length of the list $N$ and the maximum length of a string $L$.\n",
        "\n",
        "```\n",
        "# list1 = some list like ['super', 'excellent', 'terrific', 'stupendous', 'amazing', 'tubular', 'dynamite']\n",
        "for el in list1:\n",
        "    for char in el:\n",
        "        if char == 's':\n",
        "            print(\"This string has an s\")\n",
        "\n",
        "```\n",
        "\n",
        "Answer: $\\Theta(LN)$. This is a nested loop and in the worst case, the string is printed with every letter."
      ]
    },
    {
      "cell_type": "markdown",
      "metadata": {
        "id": "BwNIHTnBo2WN"
      },
      "source": [
        "## Sorting"
      ]
    },
    {
      "cell_type": "markdown",
      "metadata": {
        "id": "orc4A_EMo2WP"
      },
      "source": [
        "a) A \"divide and conquer\" algorithm solves parts of its problem with recursive calls, then stitches together the results into a solution to the problem overall. Give an example of a divide and conquer algorithm.\n",
        "\n",
        "\n",
        "b) Write a function called `bubble_sort(arr)` that takes as input an array of numbers called `arr`. This function traverses the list starting from the left and compares adjacent elements. If the adjacent elements are out of order, they are swapped.  Repeat for as many iterations as is necessary to ensure no element needs to be swapped.\n"
      ]
    },
    {
      "cell_type": "code",
      "execution_count": null,
      "metadata": {
        "id": "KTCU3gUxo2WP"
      },
      "outputs": [],
      "source": [
        "# TODO\n",
        "# This is just one possible implementation - could also just swap until\n",
        "# a pass doesn't need any swaps\n",
        "def bubble_sort(arr):\n",
        "    n = len(arr)\n",
        "    for i in range(n):\n",
        "        for j in range(0, n - i - 1):\n",
        "            if arr[j] > arr[j+1]:\n",
        "                arr[j], arr[j+1] = arr[j+1], arr[j]\n",
        "    return arr"
      ]
    },
    {
      "cell_type": "code",
      "execution_count": null,
      "metadata": {
        "id": "cID4FRSIo2WP",
        "outputId": "019c88e4-82ec-4321-b01b-67bb7b4f7a7c"
      },
      "outputs": [
        {
          "name": "stdout",
          "output_type": "stream",
          "text": [
            "[11, 12, 22, 25, 34, 64, 90]\n"
          ]
        }
      ],
      "source": [
        "# Test function on the following\n",
        "arr = [64, 34, 25, 12, 22, 11, 90]\n",
        "\n",
        "sorted_arr = bubble_sort(arr)\n",
        "print(sorted_arr)"
      ]
    },
    {
      "cell_type": "markdown",
      "metadata": {
        "id": "3jgc0W86o2WT"
      },
      "source": [
        "c) Below is an implementation of merge_sort()."
      ]
    },
    {
      "cell_type": "code",
      "execution_count": null,
      "metadata": {
        "id": "DXGeWk_no2WT"
      },
      "outputs": [],
      "source": [
        "def merge_sort(arr):\n",
        "    if len(arr) <= 1:\n",
        "        return arr\n",
        "\n",
        "    # Find the middle point to divide the array into two halves\n",
        "    mid = len(arr) // 2\n",
        "    left_half = arr[:mid]\n",
        "    right_half = arr[mid:]\n",
        "\n",
        "    # Call merge_sort for first half and second half\n",
        "    left_half = merge_sort(left_half)\n",
        "    right_half = merge_sort(right_half)\n",
        "\n",
        "    return merge(left_half, right_half)\n",
        "\n",
        "def merge(left_half, right_half):\n",
        "    merged = []\n",
        "    left_index = 0\n",
        "    right_index = 0\n",
        "\n",
        "    # Merge smaller elements first\n",
        "    while left_index < len(left_half) and right_index < len(right_half):\n",
        "        if left_half[left_index] < right_half[right_index]:\n",
        "            merged.append(left_half[left_index])\n",
        "            left_index += 1\n",
        "        else:\n",
        "            merged.append(right_half[right_index])\n",
        "            right_index += 1\n",
        "\n",
        "    # If there are remaining elements in left_half or right_half\n",
        "    while left_index < len(left_half):\n",
        "        merged.append(left_half[left_index])\n",
        "        left_index += 1\n",
        "\n",
        "    while right_index < len(right_half):\n",
        "        merged.append(right_half[right_index])\n",
        "        right_index += 1\n",
        "\n",
        "    return merged"
      ]
    },
    {
      "cell_type": "markdown",
      "metadata": {
        "id": "249IGxh1o2WT"
      },
      "source": [
        " Execute the cell below with varying values of $N$ in the range [10, 10,000] to compare the sorting times. Report the values of $N$ where merge sort is faster than bubble sort."
      ]
    },
    {
      "cell_type": "code",
      "execution_count": null,
      "metadata": {
        "id": "AMeEDbOro2WU",
        "outputId": "a5a8874e-9163-4354-af32-e907864c3d38"
      },
      "outputs": [
        {
          "name": "stdout",
          "output_type": "stream",
          "text": [
            "510 μs ± 14.7 μs per loop (mean ± std. dev. of 7 runs, 1,000 loops each)\n",
            "124 μs ± 6.46 μs per loop (mean ± std. dev. of 7 runs, 10,000 loops each)\n"
          ]
        }
      ],
      "source": [
        "import numpy as np\n",
        "rng = np.random.default_rng(12345)\n",
        "\n",
        "N = 100\n",
        "rints = rng.random(N)\n",
        "\n",
        "%timeit bubble = bubble_sort(rints)\n",
        "\n",
        "%timeit merge = merge_sort(rints)"
      ]
    },
    {
      "cell_type": "markdown",
      "metadata": {
        "id": "hGJjPQLJo2WU"
      },
      "source": [
        "Answer: N~100 (can be slightly different) is when I observe merge_sort being larger than bubble sort."
      ]
    }
  ],
  "metadata": {
    "kernelspec": {
      "display_name": "Python 3 (ipykernel)",
      "language": "python",
      "name": "python3"
    },
    "language_info": {
      "codemirror_mode": {
        "name": "ipython",
        "version": 3
      },
      "file_extension": ".py",
      "mimetype": "text/x-python",
      "name": "python",
      "nbconvert_exporter": "python",
      "pygments_lexer": "ipython3",
      "version": "3.12.2"
    },
    "colab": {
      "provenance": [],
      "include_colab_link": true
    }
  },
  "nbformat": 4,
  "nbformat_minor": 0
}