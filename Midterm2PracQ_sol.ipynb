{
  "cells": [
    {
      "cell_type": "markdown",
      "metadata": {
        "id": "view-in-github",
        "colab_type": "text"
      },
      "source": [
        "<a href=\"https://colab.research.google.com/github/nicsim22/DS110-Content/blob/main/Midterm2PracQ_sol.ipynb\" target=\"_parent\"><img src=\"https://colab.research.google.com/assets/colab-badge.svg\" alt=\"Open In Colab\"/></a>"
      ]
    },
    {
      "cell_type": "markdown",
      "source": [
        "Write a function unique_strings_with_counts(my_strings) that takes a list of strings as input and returns a dictionary where the keys are the unique strings and the values are the number of times each string appears in the list. For example, unique_strings_with_counts(['a', 'b', 'a', 'c', 'b', 'a']) should return {'a': 3, 'b': 2, 'c': 1}."
      ],
      "metadata": {
        "id": "B8dxMGDWS9rE"
      }
    },
    {
      "cell_type": "code",
      "execution_count": null,
      "metadata": {
        "colab": {
          "base_uri": "https://localhost:8080/"
        },
        "id": "wNN25um9A4x4",
        "outputId": "088a3abc-b822-4f14-c160-d9cadf5731be"
      },
      "outputs": [
        {
          "output_type": "stream",
          "name": "stdout",
          "text": [
            "{'a': 3, 'b': 2, 'c': 1}\n"
          ]
        }
      ],
      "source": [
        "def unique_strings_with_counts(my_strings):\n",
        "    counts = {}\n",
        "    for string in my_strings:\n",
        "        if string in counts:\n",
        "            counts[string] += 1  # Output: {'a': 3, 'b': 2, 'c': 1}\n"
      ]
    },
    {
      "cell_type": "markdown",
      "source": [
        "Add a method to the Cluster class called farthest_point(). This method should return the point in the cluster that is farthest from the cluster's centroid. If there are multiple such points, return any one of them. Use the my_dist(p1, p2) function to calculate distances."
      ],
      "metadata": {
        "id": "_ZqdZrZwTCCI"
      }
    },
    {
      "cell_type": "code",
      "source": [
        "import math\n",
        "\n",
        "class Cluster:\n",
        "    def __init__(self, points):\n",
        "        self.points = points\n",
        "\n",
        "    def centroid(self):\n",
        "        if not self.points:\n",
        "            return None\n",
        "        x_avg = sum(p[0] for p in self.points) / len(self.points)\n",
        "        y_avg = sum(p[1] for p in self.points) / len(self.points)\n",
        "        return (x_avg, y_avg)\n",
        "\n",
        "    def farthest_point(self):\n",
        "        centroid = self.centroid()\n",
        "        if not centroid or not self.points:\n",
        "            return None\n",
        "\n",
        "        def my_dist(p1, p2):\n",
        "            return math.sqrt((p1[0] - p2[0])**2 + (p1[1] - p2[1])**2)\n",
        "\n",
        "        # Alternatively\n",
        "        def distance_to_centroid(point):\n",
        "        return my_dist(point, centroid)\n",
        "\n",
        "        farthest = max(self.points, key=distance_to_centroid)\n",
        "        return farthest\n",
        "\n",
        "        farthest = max(self.points, key=lambda point: (my_dist(point, centroid), self.points.index(point)))\n",
        "        return farthest\n",
        "\n",
        "\n",
        "#testcase\n",
        "cluster = Cluster([(1, 2), (3, 4), (5, 6)])\n",
        "print(\"Centroid:\", cluster.centroid())  # Example: (3.0, 4.0)\n",
        "print(\"Farthest Point:\", cluster.farthest_point())  # Example: (5, 6)\n"
      ],
      "metadata": {
        "colab": {
          "base_uri": "https://localhost:8080/"
        },
        "id": "eStrmkJbMr62",
        "outputId": "37f69ba7-0aef-497f-dc8a-d557ed91c921"
      },
      "execution_count": null,
      "outputs": [
        {
          "output_type": "stream",
          "name": "stdout",
          "text": [
            "Centroid: (3.0, 4.0)\n",
            "Farthest Point: (5, 6)\n"
          ]
        }
      ]
    }
  ],
  "metadata": {
    "colab": {
      "provenance": [],
      "include_colab_link": true
    },
    "kernelspec": {
      "display_name": "Python 3 (ipykernel)",
      "language": "python",
      "name": "python3"
    },
    "language_info": {
      "codemirror_mode": {
        "name": "ipython",
        "version": 3
      },
      "file_extension": ".py",
      "mimetype": "text/x-python",
      "name": "python",
      "nbconvert_exporter": "python",
      "pygments_lexer": "ipython3",
      "version": "3.8.8"
    }
  },
  "nbformat": 4,
  "nbformat_minor": 0
}