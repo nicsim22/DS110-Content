{
  "cells": [
    {
      "cell_type": "markdown",
      "metadata": {
        "id": "view-in-github",
        "colab_type": "text"
      },
      "source": [
        "<a href=\"https://colab.research.google.com/github/nicsim22/DS110-Content/blob/main/Lecture17FilesAndExceptions_nosol.ipynb\" target=\"_parent\"><img src=\"https://colab.research.google.com/assets/colab-badge.svg\" alt=\"Open In Colab\"/></a>"
      ]
    },
    {
      "cell_type": "markdown",
      "metadata": {
        "id": "JBNfT4sNn1CQ"
      },
      "source": [
        "# Files and Exceptions"
      ]
    },
    {
      "cell_type": "markdown",
      "metadata": {
        "id": "jZTA4XfQn1CR"
      },
      "source": [
        "<i>\"So, you break into the networks of companies that have the data you need?\" Cynthia said, looking up from her laptop nervously.  \"I mean, <b>we</b> break in to those networks?\" </i>\n",
        "\n",
        "*Aubin shrugged.  \"Facebook, Google, Amazon ... they're all sitting on treasure troves of data for tracking diseases, but they lack the incentive to collaborate on that particular issue.  So we liberate the data and put it to good use.  There's a reason SAGE is so secretive.  We break the law for good.\"*\n",
        "\n",
        "<i>\"And so when my machine says 'Connecting to Google,' what it means is 'Currently breaking into Google.'\"</i>\n",
        "\n",
        "<i>\"Well, yes.  So your code might have to quit in a hurry, gracefully.  Can you be sure to read files just a bit at a time, and close everything up in a hurry if you get interrupted?\"</i>"
      ]
    },
    {
      "cell_type": "markdown",
      "metadata": {
        "id": "HCgpTncy9goQ"
      },
      "source": [
        "# Reading and writing files\n",
        "\n",
        "We breezed through reading files when we talked about Pandas.  Now we'll try to go back and more carefully explain what's going on, and also use this opportunity to talk about Exceptions."
      ]
    },
    {
      "cell_type": "markdown",
      "metadata": {
        "id": "2QAHsPoPn1CR"
      },
      "source": [
        "First, we can create a CSV (comma separated values) manually to work with.  The format isn't much more complex than comma separated values on each line, although we'd need to put strings in quotes if there were non-separator commas.  Instead, we can create a file like this:"
      ]
    },
    {
      "cell_type": "markdown",
      "metadata": {
        "id": "FshLlRZ2-00_"
      },
      "source": [
        "```\n",
        "Gold,Kevin,DS340\n",
        "Chatterjee,Tanima,DS120\n",
        "Goldner,Kira,DS320\n",
        "```"
      ]
    },
    {
      "cell_type": "markdown",
      "metadata": {
        "id": "h1O-ZZRqBHgU"
      },
      "source": [
        "This file is readable in any text editor, which is generally true of CSV files.\n",
        "\n"
      ]
    },
    {
      "cell_type": "markdown",
      "metadata": {
        "id": "vmkCm93gn1CS"
      },
      "source": [
        "Next, if you're working in Google Colab, you need to upload this file to Google Drive before we can use it.  On the other hand, if you're working locally, it just needs to be in the same directory that you launched Jupyter notebook from."
      ]
    },
    {
      "cell_type": "code",
      "execution_count": null,
      "metadata": {
        "colab": {
          "base_uri": "https://localhost:8080/",
          "height": 74
        },
        "id": "hYc11qc9n1CS",
        "outputId": "c282597e-c315-4e2d-d7b8-70de2a1770de"
      },
      "outputs": [
        {
          "output_type": "display_data",
          "data": {
            "text/plain": [
              "<IPython.core.display.HTML object>"
            ],
            "text/html": [
              "\n",
              "     <input type=\"file\" id=\"files-936167f0-c9a8-46dc-96dc-0a69cd3150ab\" name=\"files[]\" multiple disabled\n",
              "        style=\"border:none\" />\n",
              "     <output id=\"result-936167f0-c9a8-46dc-96dc-0a69cd3150ab\">\n",
              "      Upload widget is only available when the cell has been executed in the\n",
              "      current browser session. Please rerun this cell to enable.\n",
              "      </output>\n",
              "      <script>// Copyright 2017 Google LLC\n",
              "//\n",
              "// Licensed under the Apache License, Version 2.0 (the \"License\");\n",
              "// you may not use this file except in compliance with the License.\n",
              "// You may obtain a copy of the License at\n",
              "//\n",
              "//      http://www.apache.org/licenses/LICENSE-2.0\n",
              "//\n",
              "// Unless required by applicable law or agreed to in writing, software\n",
              "// distributed under the License is distributed on an \"AS IS\" BASIS,\n",
              "// WITHOUT WARRANTIES OR CONDITIONS OF ANY KIND, either express or implied.\n",
              "// See the License for the specific language governing permissions and\n",
              "// limitations under the License.\n",
              "\n",
              "/**\n",
              " * @fileoverview Helpers for google.colab Python module.\n",
              " */\n",
              "(function(scope) {\n",
              "function span(text, styleAttributes = {}) {\n",
              "  const element = document.createElement('span');\n",
              "  element.textContent = text;\n",
              "  for (const key of Object.keys(styleAttributes)) {\n",
              "    element.style[key] = styleAttributes[key];\n",
              "  }\n",
              "  return element;\n",
              "}\n",
              "\n",
              "// Max number of bytes which will be uploaded at a time.\n",
              "const MAX_PAYLOAD_SIZE = 100 * 1024;\n",
              "\n",
              "function _uploadFiles(inputId, outputId) {\n",
              "  const steps = uploadFilesStep(inputId, outputId);\n",
              "  const outputElement = document.getElementById(outputId);\n",
              "  // Cache steps on the outputElement to make it available for the next call\n",
              "  // to uploadFilesContinue from Python.\n",
              "  outputElement.steps = steps;\n",
              "\n",
              "  return _uploadFilesContinue(outputId);\n",
              "}\n",
              "\n",
              "// This is roughly an async generator (not supported in the browser yet),\n",
              "// where there are multiple asynchronous steps and the Python side is going\n",
              "// to poll for completion of each step.\n",
              "// This uses a Promise to block the python side on completion of each step,\n",
              "// then passes the result of the previous step as the input to the next step.\n",
              "function _uploadFilesContinue(outputId) {\n",
              "  const outputElement = document.getElementById(outputId);\n",
              "  const steps = outputElement.steps;\n",
              "\n",
              "  const next = steps.next(outputElement.lastPromiseValue);\n",
              "  return Promise.resolve(next.value.promise).then((value) => {\n",
              "    // Cache the last promise value to make it available to the next\n",
              "    // step of the generator.\n",
              "    outputElement.lastPromiseValue = value;\n",
              "    return next.value.response;\n",
              "  });\n",
              "}\n",
              "\n",
              "/**\n",
              " * Generator function which is called between each async step of the upload\n",
              " * process.\n",
              " * @param {string} inputId Element ID of the input file picker element.\n",
              " * @param {string} outputId Element ID of the output display.\n",
              " * @return {!Iterable<!Object>} Iterable of next steps.\n",
              " */\n",
              "function* uploadFilesStep(inputId, outputId) {\n",
              "  const inputElement = document.getElementById(inputId);\n",
              "  inputElement.disabled = false;\n",
              "\n",
              "  const outputElement = document.getElementById(outputId);\n",
              "  outputElement.innerHTML = '';\n",
              "\n",
              "  const pickedPromise = new Promise((resolve) => {\n",
              "    inputElement.addEventListener('change', (e) => {\n",
              "      resolve(e.target.files);\n",
              "    });\n",
              "  });\n",
              "\n",
              "  const cancel = document.createElement('button');\n",
              "  inputElement.parentElement.appendChild(cancel);\n",
              "  cancel.textContent = 'Cancel upload';\n",
              "  const cancelPromise = new Promise((resolve) => {\n",
              "    cancel.onclick = () => {\n",
              "      resolve(null);\n",
              "    };\n",
              "  });\n",
              "\n",
              "  // Wait for the user to pick the files.\n",
              "  const files = yield {\n",
              "    promise: Promise.race([pickedPromise, cancelPromise]),\n",
              "    response: {\n",
              "      action: 'starting',\n",
              "    }\n",
              "  };\n",
              "\n",
              "  cancel.remove();\n",
              "\n",
              "  // Disable the input element since further picks are not allowed.\n",
              "  inputElement.disabled = true;\n",
              "\n",
              "  if (!files) {\n",
              "    return {\n",
              "      response: {\n",
              "        action: 'complete',\n",
              "      }\n",
              "    };\n",
              "  }\n",
              "\n",
              "  for (const file of files) {\n",
              "    const li = document.createElement('li');\n",
              "    li.append(span(file.name, {fontWeight: 'bold'}));\n",
              "    li.append(span(\n",
              "        `(${file.type || 'n/a'}) - ${file.size} bytes, ` +\n",
              "        `last modified: ${\n",
              "            file.lastModifiedDate ? file.lastModifiedDate.toLocaleDateString() :\n",
              "                                    'n/a'} - `));\n",
              "    const percent = span('0% done');\n",
              "    li.appendChild(percent);\n",
              "\n",
              "    outputElement.appendChild(li);\n",
              "\n",
              "    const fileDataPromise = new Promise((resolve) => {\n",
              "      const reader = new FileReader();\n",
              "      reader.onload = (e) => {\n",
              "        resolve(e.target.result);\n",
              "      };\n",
              "      reader.readAsArrayBuffer(file);\n",
              "    });\n",
              "    // Wait for the data to be ready.\n",
              "    let fileData = yield {\n",
              "      promise: fileDataPromise,\n",
              "      response: {\n",
              "        action: 'continue',\n",
              "      }\n",
              "    };\n",
              "\n",
              "    // Use a chunked sending to avoid message size limits. See b/62115660.\n",
              "    let position = 0;\n",
              "    do {\n",
              "      const length = Math.min(fileData.byteLength - position, MAX_PAYLOAD_SIZE);\n",
              "      const chunk = new Uint8Array(fileData, position, length);\n",
              "      position += length;\n",
              "\n",
              "      const base64 = btoa(String.fromCharCode.apply(null, chunk));\n",
              "      yield {\n",
              "        response: {\n",
              "          action: 'append',\n",
              "          file: file.name,\n",
              "          data: base64,\n",
              "        },\n",
              "      };\n",
              "\n",
              "      let percentDone = fileData.byteLength === 0 ?\n",
              "          100 :\n",
              "          Math.round((position / fileData.byteLength) * 100);\n",
              "      percent.textContent = `${percentDone}% done`;\n",
              "\n",
              "    } while (position < fileData.byteLength);\n",
              "  }\n",
              "\n",
              "  // All done.\n",
              "  yield {\n",
              "    response: {\n",
              "      action: 'complete',\n",
              "    }\n",
              "  };\n",
              "}\n",
              "\n",
              "scope.google = scope.google || {};\n",
              "scope.google.colab = scope.google.colab || {};\n",
              "scope.google.colab._files = {\n",
              "  _uploadFiles,\n",
              "  _uploadFilesContinue,\n",
              "};\n",
              "})(self);\n",
              "</script> "
            ]
          },
          "metadata": {}
        },
        {
          "output_type": "stream",
          "name": "stdout",
          "text": [
            "Saving small_csv.csv to small_csv.csv\n"
          ]
        }
      ],
      "source": [
        "# Skip this cell if not working in Google Colab\n",
        "from google.colab import files\n",
        "\n",
        "uploaded = files.upload() # pick small_csv.csv"
      ]
    },
    {
      "cell_type": "markdown",
      "metadata": {
        "id": "qvJJ0x_Tn1CS"
      },
      "source": [
        "To open a file like this, we can use open() and \"with.\"  open() takes a filename string and returns a file object if it was found.  \"with\" is a handy keyword that cleans up everything associated with an object once its indented block is done."
      ]
    },
    {
      "cell_type": "code",
      "execution_count": null,
      "metadata": {
        "colab": {
          "base_uri": "https://localhost:8080/"
        },
        "id": "kgTdjQozn1CS",
        "outputId": "3f2ece7b-6833-47e8-900d-386d8e28fcf6"
      },
      "outputs": [
        {
          "output_type": "stream",
          "name": "stdout",
          "text": [
            "Gold;Kevin;DS340;\n",
            "Chatterjee;Tanima;DS120;\n",
            "Goldner;Kira;DS320;\n"
          ]
        }
      ],
      "source": [
        "import csv\n",
        "\n",
        "def demo_read_csv(filename):\n",
        "    with open(filename, mode='r') as my_csv: #with --> signals that we are gg to do smth that needs to be cleaned up later  #mode='r' is read a file, mode ='w' is write to a file\n",
        "        reader = csv.reader(my_csv) #csv.reader -- reads csv file a little bit at a time\n",
        "        for record in reader:\n",
        "            out = ''\n",
        "            for item in record: #basic iteration through a list\n",
        "                out += item + ';'\n",
        "            print(out)\n",
        "    # my_csv would be cleaned up here\n",
        "\n",
        "demo_read_csv('small_csv.csv')"
      ]
    },
    {
      "cell_type": "markdown",
      "metadata": {
        "id": "e8XKGiX_n1CT"
      },
      "source": [
        "The reader object returns the file one line at a time, with each line returned as a list of strings.  (Here, we're assuming there are only 3 columns, but there's no such limitation in general.)"
      ]
    },
    {
      "cell_type": "markdown",
      "metadata": {
        "id": "k603Lo9gn1CT"
      },
      "source": [
        "We could write instead of read a CSV file.  We need to change the mode from \"r\" for read to \"w\" for write, and change our reader object to a writer.  The CSV format is rather simple if you don't have to deal with values that include commas, but the CSV writer will handle these, too.\n"
      ]
    },
    {
      "cell_type": "code",
      "execution_count": null,
      "metadata": {
        "colab": {
          "base_uri": "https://localhost:8080/"
        },
        "id": "zEAx9pwin1CT",
        "outputId": "9f470dee-5a54-40ab-8518-fe60ce643b1b"
      },
      "outputs": [
        {
          "output_type": "stream",
          "name": "stdout",
          "text": [
            "fruits.csv  sample_data  small_csv.csv\n",
            "peach,pear,plum\n",
            "strawberry,orange,grape\n"
          ]
        }
      ],
      "source": [
        "# vals1, vals2 are lists of strings\n",
        "def demo_write_csv(filename, vals1, vals2):\n",
        "    with open(filename, mode = 'w') as my_csv: #mode='w' for file writing\n",
        "        writer = csv.writer(my_csv) #create a writer instead of reader, file that is writen  to\n",
        "        writer.writerow(vals1) #hand a list of what to write for a whole row , row 1 of new csv\n",
        "        writer.writerow(vals2)  #row 2 for new csv\n",
        "\n",
        "vals1demo = ['peach','pear','plum']\n",
        "vals2demo = ['strawberry','orange','grape']\n",
        "\n",
        "demo_write_csv('fruits.csv',vals1demo,vals2demo)\n",
        "\n",
        "!ls\n",
        "!cat fruits.csv #echos back what is in that csv --> row 1 = vals1demo, row 2 = vals2demo"
      ]
    },
    {
      "cell_type": "markdown",
      "metadata": {
        "id": "nxaq8Wu5n1CT"
      },
      "source": [
        "In both the read and write cases, the **\"with\" keyword closes the file** for us when we exit the block, freeing it up for the operating system to allow another program to use the file.  (*with* will, in general, call the method named \\_\\_exit\\_\\_() for its object when the block is done.)\n"
      ]
    },
    {
      "cell_type": "markdown",
      "metadata": {
        "id": "ME02xxD7n1CT"
      },
      "source": [
        "We can see the file in its directory with the !ls command.  ! alerts Google Colab that what follows is a system command of the kind you could use at the command line (Terminal in Mac), and ls is a command to list the contents of the current directory."
      ]
    },
    {
      "cell_type": "code",
      "execution_count": null,
      "metadata": {
        "colab": {
          "base_uri": "https://localhost:8080/"
        },
        "id": "hsRNuYoVn1CT",
        "outputId": "166465da-cd80-4da5-c4d8-2e8f7ff9b680"
      },
      "outputs": [
        {
          "output_type": "stream",
          "name": "stdout",
          "text": [
            "fruits.csv  sample_data  small_csv.csv\n"
          ]
        }
      ],
      "source": [
        "!ls"
      ]
    },
    {
      "cell_type": "markdown",
      "metadata": {
        "id": "nwrE0sfTn1CT"
      },
      "source": [
        "CSV is a very popular format for datasets that are in the public domain, such as those available on Kaggle.  Here, we load a truncated version of a CSV that contains data for 911 calls in Montgomery County, Pennsylvania."
      ]
    },
    {
      "cell_type": "code",
      "source": [
        "from google.colab import files\n",
        "\n",
        "uploaded = files.upload()"
      ],
      "metadata": {
        "colab": {
          "base_uri": "https://localhost:8080/",
          "height": 74
        },
        "id": "iK9UX0DTroA9",
        "outputId": "8b5f31a5-8ef4-4751-8a4e-18366eadbed9"
      },
      "execution_count": null,
      "outputs": [
        {
          "output_type": "display_data",
          "data": {
            "text/plain": [
              "<IPython.core.display.HTML object>"
            ],
            "text/html": [
              "\n",
              "     <input type=\"file\" id=\"files-9588dc96-d392-430d-9adb-75317ca2095b\" name=\"files[]\" multiple disabled\n",
              "        style=\"border:none\" />\n",
              "     <output id=\"result-9588dc96-d392-430d-9adb-75317ca2095b\">\n",
              "      Upload widget is only available when the cell has been executed in the\n",
              "      current browser session. Please rerun this cell to enable.\n",
              "      </output>\n",
              "      <script>// Copyright 2017 Google LLC\n",
              "//\n",
              "// Licensed under the Apache License, Version 2.0 (the \"License\");\n",
              "// you may not use this file except in compliance with the License.\n",
              "// You may obtain a copy of the License at\n",
              "//\n",
              "//      http://www.apache.org/licenses/LICENSE-2.0\n",
              "//\n",
              "// Unless required by applicable law or agreed to in writing, software\n",
              "// distributed under the License is distributed on an \"AS IS\" BASIS,\n",
              "// WITHOUT WARRANTIES OR CONDITIONS OF ANY KIND, either express or implied.\n",
              "// See the License for the specific language governing permissions and\n",
              "// limitations under the License.\n",
              "\n",
              "/**\n",
              " * @fileoverview Helpers for google.colab Python module.\n",
              " */\n",
              "(function(scope) {\n",
              "function span(text, styleAttributes = {}) {\n",
              "  const element = document.createElement('span');\n",
              "  element.textContent = text;\n",
              "  for (const key of Object.keys(styleAttributes)) {\n",
              "    element.style[key] = styleAttributes[key];\n",
              "  }\n",
              "  return element;\n",
              "}\n",
              "\n",
              "// Max number of bytes which will be uploaded at a time.\n",
              "const MAX_PAYLOAD_SIZE = 100 * 1024;\n",
              "\n",
              "function _uploadFiles(inputId, outputId) {\n",
              "  const steps = uploadFilesStep(inputId, outputId);\n",
              "  const outputElement = document.getElementById(outputId);\n",
              "  // Cache steps on the outputElement to make it available for the next call\n",
              "  // to uploadFilesContinue from Python.\n",
              "  outputElement.steps = steps;\n",
              "\n",
              "  return _uploadFilesContinue(outputId);\n",
              "}\n",
              "\n",
              "// This is roughly an async generator (not supported in the browser yet),\n",
              "// where there are multiple asynchronous steps and the Python side is going\n",
              "// to poll for completion of each step.\n",
              "// This uses a Promise to block the python side on completion of each step,\n",
              "// then passes the result of the previous step as the input to the next step.\n",
              "function _uploadFilesContinue(outputId) {\n",
              "  const outputElement = document.getElementById(outputId);\n",
              "  const steps = outputElement.steps;\n",
              "\n",
              "  const next = steps.next(outputElement.lastPromiseValue);\n",
              "  return Promise.resolve(next.value.promise).then((value) => {\n",
              "    // Cache the last promise value to make it available to the next\n",
              "    // step of the generator.\n",
              "    outputElement.lastPromiseValue = value;\n",
              "    return next.value.response;\n",
              "  });\n",
              "}\n",
              "\n",
              "/**\n",
              " * Generator function which is called between each async step of the upload\n",
              " * process.\n",
              " * @param {string} inputId Element ID of the input file picker element.\n",
              " * @param {string} outputId Element ID of the output display.\n",
              " * @return {!Iterable<!Object>} Iterable of next steps.\n",
              " */\n",
              "function* uploadFilesStep(inputId, outputId) {\n",
              "  const inputElement = document.getElementById(inputId);\n",
              "  inputElement.disabled = false;\n",
              "\n",
              "  const outputElement = document.getElementById(outputId);\n",
              "  outputElement.innerHTML = '';\n",
              "\n",
              "  const pickedPromise = new Promise((resolve) => {\n",
              "    inputElement.addEventListener('change', (e) => {\n",
              "      resolve(e.target.files);\n",
              "    });\n",
              "  });\n",
              "\n",
              "  const cancel = document.createElement('button');\n",
              "  inputElement.parentElement.appendChild(cancel);\n",
              "  cancel.textContent = 'Cancel upload';\n",
              "  const cancelPromise = new Promise((resolve) => {\n",
              "    cancel.onclick = () => {\n",
              "      resolve(null);\n",
              "    };\n",
              "  });\n",
              "\n",
              "  // Wait for the user to pick the files.\n",
              "  const files = yield {\n",
              "    promise: Promise.race([pickedPromise, cancelPromise]),\n",
              "    response: {\n",
              "      action: 'starting',\n",
              "    }\n",
              "  };\n",
              "\n",
              "  cancel.remove();\n",
              "\n",
              "  // Disable the input element since further picks are not allowed.\n",
              "  inputElement.disabled = true;\n",
              "\n",
              "  if (!files) {\n",
              "    return {\n",
              "      response: {\n",
              "        action: 'complete',\n",
              "      }\n",
              "    };\n",
              "  }\n",
              "\n",
              "  for (const file of files) {\n",
              "    const li = document.createElement('li');\n",
              "    li.append(span(file.name, {fontWeight: 'bold'}));\n",
              "    li.append(span(\n",
              "        `(${file.type || 'n/a'}) - ${file.size} bytes, ` +\n",
              "        `last modified: ${\n",
              "            file.lastModifiedDate ? file.lastModifiedDate.toLocaleDateString() :\n",
              "                                    'n/a'} - `));\n",
              "    const percent = span('0% done');\n",
              "    li.appendChild(percent);\n",
              "\n",
              "    outputElement.appendChild(li);\n",
              "\n",
              "    const fileDataPromise = new Promise((resolve) => {\n",
              "      const reader = new FileReader();\n",
              "      reader.onload = (e) => {\n",
              "        resolve(e.target.result);\n",
              "      };\n",
              "      reader.readAsArrayBuffer(file);\n",
              "    });\n",
              "    // Wait for the data to be ready.\n",
              "    let fileData = yield {\n",
              "      promise: fileDataPromise,\n",
              "      response: {\n",
              "        action: 'continue',\n",
              "      }\n",
              "    };\n",
              "\n",
              "    // Use a chunked sending to avoid message size limits. See b/62115660.\n",
              "    let position = 0;\n",
              "    do {\n",
              "      const length = Math.min(fileData.byteLength - position, MAX_PAYLOAD_SIZE);\n",
              "      const chunk = new Uint8Array(fileData, position, length);\n",
              "      position += length;\n",
              "\n",
              "      const base64 = btoa(String.fromCharCode.apply(null, chunk));\n",
              "      yield {\n",
              "        response: {\n",
              "          action: 'append',\n",
              "          file: file.name,\n",
              "          data: base64,\n",
              "        },\n",
              "      };\n",
              "\n",
              "      let percentDone = fileData.byteLength === 0 ?\n",
              "          100 :\n",
              "          Math.round((position / fileData.byteLength) * 100);\n",
              "      percent.textContent = `${percentDone}% done`;\n",
              "\n",
              "    } while (position < fileData.byteLength);\n",
              "  }\n",
              "\n",
              "  // All done.\n",
              "  yield {\n",
              "    response: {\n",
              "      action: 'complete',\n",
              "    }\n",
              "  };\n",
              "}\n",
              "\n",
              "scope.google = scope.google || {};\n",
              "scope.google.colab = scope.google.colab || {};\n",
              "scope.google.colab._files = {\n",
              "  _uploadFiles,\n",
              "  _uploadFilesContinue,\n",
              "};\n",
              "})(self);\n",
              "</script> "
            ]
          },
          "metadata": {}
        },
        {
          "output_type": "stream",
          "name": "stdout",
          "text": [
            "Saving 911.csv to 911.csv\n"
          ]
        }
      ]
    },
    {
      "cell_type": "code",
      "execution_count": null,
      "metadata": {
        "scrolled": true,
        "colab": {
          "base_uri": "https://localhost:8080/"
        },
        "id": "Q-dZ_MuYn1CT",
        "outputId": "f6d8934c-72bc-4f41-e691-caa8650400fc"
      },
      "outputs": [
        {
          "output_type": "stream",
          "name": "stdout",
          "text": [
            "40.2978759\n",
            "-75.5812935\n",
            "REINDEER CT & DEAD END;  NEW HANOVER; Station 332; 2015-12-10 @ 17:10:52;\n",
            "19525\n",
            "EMS: BACK PAINS/INJURY\n",
            "2015-12-10 17:10:52\n",
            "NEW HANOVER\n",
            "REINDEER CT & DEAD END\n",
            "1\n"
          ]
        }
      ],
      "source": [
        "import csv\n",
        "# 911.csv from https://www.kaggle.com/datasets/mchirico/montcoalert?resource=download --> website w bunch of data sets\n",
        "# Truncated to 20000 lines so the file isn't so big\n",
        "with open('911.csv', mode='r') as my_csv:\n",
        "    reader = csv.reader(my_csv)\n",
        "    count = 0   # Print just first real line as an example - first line is header\n",
        "    for record in reader:\n",
        "        count += 1\n",
        "        if count == 2:\n",
        "            for item in record:\n",
        "                print(item)\n",
        "            break\n",
        "# Fields are latitude, longitude, description, zip code, title, timestamp, township, address,\n",
        "# and a column that's always 1 for some reason"
      ]
    },
    {
      "cell_type": "markdown",
      "metadata": {
        "id": "jOA1IAlun1CT"
      },
      "source": [
        "CSV isn't the only viable format for writing out data.  Another popular option is **JSON (JavaScript Object Notation)**.  JSON is popular as a platform-independent way to transfer key-value pairs; the Twitter API uses it, for example.  A JSON object is **like a dictionary** in that it **stores property names (keys) and values associated with those keys**.\n",
        "\n",
        "//JSON is kinda like the file equivalent of a dictionary//"
      ]
    },
    {
      "cell_type": "markdown",
      "metadata": {
        "id": "-ov2HiQan1CT"
      },
      "source": [
        "To write a JSON object to file, you need only **call json.dump** on a dictionary holding the key-value pairs, also providing the file to dump the JSON into.\n"
      ]
    },
    {
      "cell_type": "code",
      "execution_count": null,
      "metadata": {
        "id": "4Xa4ibSJn1CT"
      },
      "outputs": [],
      "source": [
        "import json\n",
        "\n",
        "def demo_dump_json(filename, dict):\n",
        "    with open(filename, 'w') as myfile:\n",
        "        json.dump(dict, myfile)\n",
        "\n",
        "release_years = {\n",
        "    'Metroid': 1986,\n",
        "    'Persona 3': 2006,\n",
        "    \"Baldur's Gate 3\": 2023\n",
        "}\n",
        "\n",
        "demo_dump_json('release.json', release_years)\n",
        "\n",
        "# to target file:\n",
        "# {\"Metroid\": 1986, \"Persona 3\": 2006, \"Baldur's Gate 3\": 2023}\n"
      ]
    },
    {
      "cell_type": "code",
      "execution_count": null,
      "metadata": {
        "colab": {
          "base_uri": "https://localhost:8080/"
        },
        "id": "H5vcpIT1n1CT",
        "outputId": "8abd9371-27c9-43f5-c390-ca6acbe6fe50"
      },
      "outputs": [
        {
          "output_type": "stream",
          "name": "stdout",
          "text": [
            "{\"Metroid\": 1986, \"Persona 3\": 2006, \"Baldur's Gate 3\": 2023}"
          ]
        }
      ],
      "source": [
        "#!ls\n",
        "!cat release.json"
      ]
    },
    {
      "cell_type": "markdown",
      "metadata": {
        "id": "alzW-Qebn1CT"
      },
      "source": [
        "Values in JSON objects can be strings, numbers, Boolean values (but lowercase), null, arrays, or other JSON objects.  Thus they can potentially communicate richer structure than a CSV.  They're often how a variety of cloud-based services communicate.\n"
      ]
    },
    {
      "cell_type": "markdown",
      "metadata": {
        "id": "0x84funcn1CT"
      },
      "source": [
        "\n",
        "The fancy word for **committing data to a file** is **serialization**.\n",
        "\n",
        "Python used to use another, python-specific method of serialization called pickling -- but, it was a little too powerful, as unpacking a pickle could cause arbitrary code to execute.  Now, pickling seems to be less used in favor of platform-independent formats.\n"
      ]
    },
    {
      "cell_type": "markdown",
      "metadata": {
        "id": "PHPywcMhn1CU"
      },
      "source": [
        "\n",
        "JSONs can be read into dictionaries as well.\n"
      ]
    },
    {
      "cell_type": "code",
      "execution_count": null,
      "metadata": {
        "colab": {
          "base_uri": "https://localhost:8080/"
        },
        "id": "pKGEQSbUn1CU",
        "outputId": "7a86b239-f8d8-470a-8759-c67e95355e37"
      },
      "outputs": [
        {
          "output_type": "execute_result",
          "data": {
            "text/plain": [
              "{'Metroid': 1986, 'Persona 3': 2006, \"Baldur's Gate 3\": 2023}"
            ]
          },
          "metadata": {},
          "execution_count": 13
        }
      ],
      "source": [
        "def demo_read_json(filename):\n",
        "    with open(filename, 'r') as myfile:\n",
        "        my_dict = json.load(myfile)\n",
        "    return my_dict\n",
        "\n",
        "my_dict = demo_read_json('release.json')\n",
        "my_dict"
      ]
    },
    {
      "cell_type": "markdown",
      "metadata": {
        "id": "ttRIDtwvn1CU"
      },
      "source": [
        "The dictionary we wrote to file in the previous step can be read right back as a dictionary."
      ]
    },
    {
      "cell_type": "markdown",
      "metadata": {
        "id": "E1APXZnXcQba"
      },
      "source": [
        "# Directly to DataFrame\n",
        "\n",
        "As we did in a previous lecture, you can load a CSV into a DataFrame without using the methods discussed in this lecture; pd.read_csv() reads directly into a DataFrame."
      ]
    },
    {
      "cell_type": "code",
      "execution_count": null,
      "metadata": {
        "colab": {
          "base_uri": "https://localhost:8080/",
          "height": 112
        },
        "id": "HuUnMMKZcZWD",
        "outputId": "8612353c-5ead-4101-d619-99f509934e40"
      },
      "outputs": [
        {
          "output_type": "execute_result",
          "data": {
            "text/plain": [
              "       fruit1  fruit2 fruit3\n",
              "0       peach    pear   plum\n",
              "1  strawberry  orange  grape"
            ],
            "text/html": [
              "\n",
              "  <div id=\"df-8c69a0a0-02d8-4889-9008-1e3dae8ffa9e\" class=\"colab-df-container\">\n",
              "    <div>\n",
              "<style scoped>\n",
              "    .dataframe tbody tr th:only-of-type {\n",
              "        vertical-align: middle;\n",
              "    }\n",
              "\n",
              "    .dataframe tbody tr th {\n",
              "        vertical-align: top;\n",
              "    }\n",
              "\n",
              "    .dataframe thead th {\n",
              "        text-align: right;\n",
              "    }\n",
              "</style>\n",
              "<table border=\"1\" class=\"dataframe\">\n",
              "  <thead>\n",
              "    <tr style=\"text-align: right;\">\n",
              "      <th></th>\n",
              "      <th>fruit1</th>\n",
              "      <th>fruit2</th>\n",
              "      <th>fruit3</th>\n",
              "    </tr>\n",
              "  </thead>\n",
              "  <tbody>\n",
              "    <tr>\n",
              "      <th>0</th>\n",
              "      <td>peach</td>\n",
              "      <td>pear</td>\n",
              "      <td>plum</td>\n",
              "    </tr>\n",
              "    <tr>\n",
              "      <th>1</th>\n",
              "      <td>strawberry</td>\n",
              "      <td>orange</td>\n",
              "      <td>grape</td>\n",
              "    </tr>\n",
              "  </tbody>\n",
              "</table>\n",
              "</div>\n",
              "    <div class=\"colab-df-buttons\">\n",
              "\n",
              "  <div class=\"colab-df-container\">\n",
              "    <button class=\"colab-df-convert\" onclick=\"convertToInteractive('df-8c69a0a0-02d8-4889-9008-1e3dae8ffa9e')\"\n",
              "            title=\"Convert this dataframe to an interactive table.\"\n",
              "            style=\"display:none;\">\n",
              "\n",
              "  <svg xmlns=\"http://www.w3.org/2000/svg\" height=\"24px\" viewBox=\"0 -960 960 960\">\n",
              "    <path d=\"M120-120v-720h720v720H120Zm60-500h600v-160H180v160Zm220 220h160v-160H400v160Zm0 220h160v-160H400v160ZM180-400h160v-160H180v160Zm440 0h160v-160H620v160ZM180-180h160v-160H180v160Zm440 0h160v-160H620v160Z\"/>\n",
              "  </svg>\n",
              "    </button>\n",
              "\n",
              "  <style>\n",
              "    .colab-df-container {\n",
              "      display:flex;\n",
              "      gap: 12px;\n",
              "    }\n",
              "\n",
              "    .colab-df-convert {\n",
              "      background-color: #E8F0FE;\n",
              "      border: none;\n",
              "      border-radius: 50%;\n",
              "      cursor: pointer;\n",
              "      display: none;\n",
              "      fill: #1967D2;\n",
              "      height: 32px;\n",
              "      padding: 0 0 0 0;\n",
              "      width: 32px;\n",
              "    }\n",
              "\n",
              "    .colab-df-convert:hover {\n",
              "      background-color: #E2EBFA;\n",
              "      box-shadow: 0px 1px 2px rgba(60, 64, 67, 0.3), 0px 1px 3px 1px rgba(60, 64, 67, 0.15);\n",
              "      fill: #174EA6;\n",
              "    }\n",
              "\n",
              "    .colab-df-buttons div {\n",
              "      margin-bottom: 4px;\n",
              "    }\n",
              "\n",
              "    [theme=dark] .colab-df-convert {\n",
              "      background-color: #3B4455;\n",
              "      fill: #D2E3FC;\n",
              "    }\n",
              "\n",
              "    [theme=dark] .colab-df-convert:hover {\n",
              "      background-color: #434B5C;\n",
              "      box-shadow: 0px 1px 3px 1px rgba(0, 0, 0, 0.15);\n",
              "      filter: drop-shadow(0px 1px 2px rgba(0, 0, 0, 0.3));\n",
              "      fill: #FFFFFF;\n",
              "    }\n",
              "  </style>\n",
              "\n",
              "    <script>\n",
              "      const buttonEl =\n",
              "        document.querySelector('#df-8c69a0a0-02d8-4889-9008-1e3dae8ffa9e button.colab-df-convert');\n",
              "      buttonEl.style.display =\n",
              "        google.colab.kernel.accessAllowed ? 'block' : 'none';\n",
              "\n",
              "      async function convertToInteractive(key) {\n",
              "        const element = document.querySelector('#df-8c69a0a0-02d8-4889-9008-1e3dae8ffa9e');\n",
              "        const dataTable =\n",
              "          await google.colab.kernel.invokeFunction('convertToInteractive',\n",
              "                                                    [key], {});\n",
              "        if (!dataTable) return;\n",
              "\n",
              "        const docLinkHtml = 'Like what you see? Visit the ' +\n",
              "          '<a target=\"_blank\" href=https://colab.research.google.com/notebooks/data_table.ipynb>data table notebook</a>'\n",
              "          + ' to learn more about interactive tables.';\n",
              "        element.innerHTML = '';\n",
              "        dataTable['output_type'] = 'display_data';\n",
              "        await google.colab.output.renderOutput(dataTable, element);\n",
              "        const docLink = document.createElement('div');\n",
              "        docLink.innerHTML = docLinkHtml;\n",
              "        element.appendChild(docLink);\n",
              "      }\n",
              "    </script>\n",
              "  </div>\n",
              "\n",
              "\n",
              "<div id=\"df-bb2c420b-17db-4c05-8483-002b7572af20\">\n",
              "  <button class=\"colab-df-quickchart\" onclick=\"quickchart('df-bb2c420b-17db-4c05-8483-002b7572af20')\"\n",
              "            title=\"Suggest charts\"\n",
              "            style=\"display:none;\">\n",
              "\n",
              "<svg xmlns=\"http://www.w3.org/2000/svg\" height=\"24px\"viewBox=\"0 0 24 24\"\n",
              "     width=\"24px\">\n",
              "    <g>\n",
              "        <path d=\"M19 3H5c-1.1 0-2 .9-2 2v14c0 1.1.9 2 2 2h14c1.1 0 2-.9 2-2V5c0-1.1-.9-2-2-2zM9 17H7v-7h2v7zm4 0h-2V7h2v10zm4 0h-2v-4h2v4z\"/>\n",
              "    </g>\n",
              "</svg>\n",
              "  </button>\n",
              "\n",
              "<style>\n",
              "  .colab-df-quickchart {\n",
              "      --bg-color: #E8F0FE;\n",
              "      --fill-color: #1967D2;\n",
              "      --hover-bg-color: #E2EBFA;\n",
              "      --hover-fill-color: #174EA6;\n",
              "      --disabled-fill-color: #AAA;\n",
              "      --disabled-bg-color: #DDD;\n",
              "  }\n",
              "\n",
              "  [theme=dark] .colab-df-quickchart {\n",
              "      --bg-color: #3B4455;\n",
              "      --fill-color: #D2E3FC;\n",
              "      --hover-bg-color: #434B5C;\n",
              "      --hover-fill-color: #FFFFFF;\n",
              "      --disabled-bg-color: #3B4455;\n",
              "      --disabled-fill-color: #666;\n",
              "  }\n",
              "\n",
              "  .colab-df-quickchart {\n",
              "    background-color: var(--bg-color);\n",
              "    border: none;\n",
              "    border-radius: 50%;\n",
              "    cursor: pointer;\n",
              "    display: none;\n",
              "    fill: var(--fill-color);\n",
              "    height: 32px;\n",
              "    padding: 0;\n",
              "    width: 32px;\n",
              "  }\n",
              "\n",
              "  .colab-df-quickchart:hover {\n",
              "    background-color: var(--hover-bg-color);\n",
              "    box-shadow: 0 1px 2px rgba(60, 64, 67, 0.3), 0 1px 3px 1px rgba(60, 64, 67, 0.15);\n",
              "    fill: var(--button-hover-fill-color);\n",
              "  }\n",
              "\n",
              "  .colab-df-quickchart-complete:disabled,\n",
              "  .colab-df-quickchart-complete:disabled:hover {\n",
              "    background-color: var(--disabled-bg-color);\n",
              "    fill: var(--disabled-fill-color);\n",
              "    box-shadow: none;\n",
              "  }\n",
              "\n",
              "  .colab-df-spinner {\n",
              "    border: 2px solid var(--fill-color);\n",
              "    border-color: transparent;\n",
              "    border-bottom-color: var(--fill-color);\n",
              "    animation:\n",
              "      spin 1s steps(1) infinite;\n",
              "  }\n",
              "\n",
              "  @keyframes spin {\n",
              "    0% {\n",
              "      border-color: transparent;\n",
              "      border-bottom-color: var(--fill-color);\n",
              "      border-left-color: var(--fill-color);\n",
              "    }\n",
              "    20% {\n",
              "      border-color: transparent;\n",
              "      border-left-color: var(--fill-color);\n",
              "      border-top-color: var(--fill-color);\n",
              "    }\n",
              "    30% {\n",
              "      border-color: transparent;\n",
              "      border-left-color: var(--fill-color);\n",
              "      border-top-color: var(--fill-color);\n",
              "      border-right-color: var(--fill-color);\n",
              "    }\n",
              "    40% {\n",
              "      border-color: transparent;\n",
              "      border-right-color: var(--fill-color);\n",
              "      border-top-color: var(--fill-color);\n",
              "    }\n",
              "    60% {\n",
              "      border-color: transparent;\n",
              "      border-right-color: var(--fill-color);\n",
              "    }\n",
              "    80% {\n",
              "      border-color: transparent;\n",
              "      border-right-color: var(--fill-color);\n",
              "      border-bottom-color: var(--fill-color);\n",
              "    }\n",
              "    90% {\n",
              "      border-color: transparent;\n",
              "      border-bottom-color: var(--fill-color);\n",
              "    }\n",
              "  }\n",
              "</style>\n",
              "\n",
              "  <script>\n",
              "    async function quickchart(key) {\n",
              "      const quickchartButtonEl =\n",
              "        document.querySelector('#' + key + ' button');\n",
              "      quickchartButtonEl.disabled = true;  // To prevent multiple clicks.\n",
              "      quickchartButtonEl.classList.add('colab-df-spinner');\n",
              "      try {\n",
              "        const charts = await google.colab.kernel.invokeFunction(\n",
              "            'suggestCharts', [key], {});\n",
              "      } catch (error) {\n",
              "        console.error('Error during call to suggestCharts:', error);\n",
              "      }\n",
              "      quickchartButtonEl.classList.remove('colab-df-spinner');\n",
              "      quickchartButtonEl.classList.add('colab-df-quickchart-complete');\n",
              "    }\n",
              "    (() => {\n",
              "      let quickchartButtonEl =\n",
              "        document.querySelector('#df-bb2c420b-17db-4c05-8483-002b7572af20 button');\n",
              "      quickchartButtonEl.style.display =\n",
              "        google.colab.kernel.accessAllowed ? 'block' : 'none';\n",
              "    })();\n",
              "  </script>\n",
              "</div>\n",
              "\n",
              "    </div>\n",
              "  </div>\n"
            ],
            "application/vnd.google.colaboratory.intrinsic+json": {
              "type": "dataframe",
              "variable_name": "df",
              "summary": "{\n  \"name\": \"df\",\n  \"rows\": 2,\n  \"fields\": [\n    {\n      \"column\": \"fruit1\",\n      \"properties\": {\n        \"dtype\": \"string\",\n        \"num_unique_values\": 2,\n        \"samples\": [\n          \"strawberry\",\n          \"peach\"\n        ],\n        \"semantic_type\": \"\",\n        \"description\": \"\"\n      }\n    },\n    {\n      \"column\": \"fruit2\",\n      \"properties\": {\n        \"dtype\": \"string\",\n        \"num_unique_values\": 2,\n        \"samples\": [\n          \"orange\",\n          \"pear\"\n        ],\n        \"semantic_type\": \"\",\n        \"description\": \"\"\n      }\n    },\n    {\n      \"column\": \"fruit3\",\n      \"properties\": {\n        \"dtype\": \"string\",\n        \"num_unique_values\": 2,\n        \"samples\": [\n          \"grape\",\n          \"plum\"\n        ],\n        \"semantic_type\": \"\",\n        \"description\": \"\"\n      }\n    }\n  ]\n}"
            }
          },
          "metadata": {},
          "execution_count": 14
        }
      ],
      "source": [
        "import pandas as pd\n",
        "df = pd.read_csv(\"fruits.csv\", names = [\"fruit1\", \"fruit2\",\"fruit3\"])\n",
        "df.head()"
      ]
    },
    {
      "cell_type": "markdown",
      "metadata": {
        "id": "5pWkbZVBdi4b"
      },
      "source": [
        "Writing a DataFrame to CSV is similarly straightforward."
      ]
    },
    {
      "cell_type": "code",
      "execution_count": null,
      "metadata": {
        "colab": {
          "base_uri": "https://localhost:8080/"
        },
        "id": "XFPhV-x-drJH",
        "outputId": "bfc51436-9518-4690-e6aa-5370240b445e"
      },
      "outputs": [
        {
          "output_type": "stream",
          "name": "stdout",
          "text": [
            "911.csv  fruits2.csv  fruits.csv  release.json\tsample_data  small_csv.csv\n"
          ]
        }
      ],
      "source": [
        "df.to_csv('fruits2.csv') #will write the data frame to the file\n",
        "!ls #Lists files and directories in the current directory"
      ]
    },
    {
      "cell_type": "markdown",
      "metadata": {
        "id": "lejZ3QboUUX4"
      },
      "source": [
        "# Intro to Exceptions\n",
        "\n",
        "Input and Output (IO) is generally a place where things may not work as expected -- the looked-for file isn't there, or we didn't get permission to write. When things don't go as planned, an exception is thrown."
      ]
    },
    {
      "cell_type": "markdown",
      "metadata": {
        "id": "67TbQWJCn1CU"
      },
      "source": [
        "Exceptions are objects, and there are multiple kinds depending on the error that occurred: FileNotFoundError, ZeroDivisionError, and ValueError are examples (this last occurs if you try to parse a non-integer string as an integer). If an exception occurs and it isn't \"caught,\" the program immediately terminates, reporting where the error occurred in a way you're familiar with from debugging."
      ]
    },
    {
      "cell_type": "markdown",
      "metadata": {
        "id": "f47FUN4Cn1CU"
      },
      "source": [
        "If an exception is caused by a bug, you should fix the bug. But if the exception can happen because of bad input or bad circumstances, then your program should catch it and respond gracefully."
      ]
    },
    {
      "cell_type": "markdown",
      "metadata": {
        "id": "ROftPzCWn1CU"
      },
      "source": [
        "The **\"try\" keyword comes before a block of code that could throw an exception**. If an exception is thrown, it **can be \"caught\" with an \"except\" block** after the try block. Execution will jump to the \"except\" when an exception in the try block occurs."
      ]
    },
    {
      "cell_type": "markdown",
      "metadata": {
        "id": "khEGUo9Gn1CU"
      },
      "source": [
        "Our JSON reader could have two obvious errors: the file doesn't exist, or the file isn't JSON. We can catch these errors in this way:"
      ]
    },
    {
      "cell_type": "code",
      "execution_count": null,
      "metadata": {
        "id": "Zix4Lc0iZGlL",
        "colab": {
          "base_uri": "https://localhost:8080/"
        },
        "outputId": "fcbca578-fbf5-49ec-8dad-cca8b576d78e"
      },
      "outputs": [
        {
          "output_type": "stream",
          "name": "stdout",
          "text": [
            "File successfully loaded:\n",
            "{'Metroid': 1986, 'Persona 3': 2006, \"Baldur's Gate 3\": 2023}\n"
          ]
        },
        {
          "output_type": "execute_result",
          "data": {
            "text/plain": [
              "{'Metroid': 1986, 'Persona 3': 2006, \"Baldur's Gate 3\": 2023}"
            ]
          },
          "metadata": {},
          "execution_count": 17
        }
      ],
      "source": [
        "def safe_read_json(filename):\n",
        "    try:  #when opening a file, usually put it within a try block\n",
        "        with open(filename, 'r') as myfile:\n",
        "            my_dict = json.load(myfile)\n",
        "            print(\"File successfully loaded:\")\n",
        "            print(my_dict)\n",
        "    except FileNotFoundError:  #potential error that can be caught // kind of like if FileNotFoundError appears,\n",
        "        print(\"File not found: \" + filename)\n",
        "        return None\n",
        "    except json.decoder.JSONDecodeError: #potential error 2 that can be caught\n",
        "        print(\"JSON error in \" + filename)\n",
        "        return None\n",
        "    return my_dict\n",
        "\n",
        "safe_read_json('release.json')  # Try release.json, small_csv.json, not_found.json"
      ]
    },
    {
      "cell_type": "markdown",
      "metadata": {
        "id": "T8fUKYWmgr1U"
      },
      "source": [
        "The behavior may seem very similar, but the program doesn't crash this way, and it returns a more informative error to the user.\n",
        "\n",
        "(Note that \"except\" without a specific exception following it will catch all exceptions.)\n"
      ]
    },
    {
      "cell_type": "markdown",
      "metadata": {
        "id": "Z0i_XZ_fn1CU"
      },
      "source": [
        "Two other keywords **associated with exceptions are \"else\" and \"finally.\"** \"Else\" can appear after except blocks to say what should happen if there weren't errors.  And \"**finally**\" can appear after all of that to **give code that should happen regardless** - probably some kind of cleanup.  Both are used somewhat infrequently."
      ]
    },
    {
      "cell_type": "code",
      "execution_count": null,
      "metadata": {
        "id": "YOMFVgklZnBe"
      },
      "outputs": [],
      "source": [
        "def safe_read_json_last_call(filename):\n",
        "    try:\n",
        "        with open(filename, 'r') as myfile:\n",
        "            my_dict = json.load(myfile)\n",
        "            print(\"File successfully loaded:\")\n",
        "            print(my_dict)\n",
        "    except FileNotFoundError:\n",
        "        print(\"File not found: \" + filename)\n",
        "    else:\n",
        "        print(\"No errors!\")\n",
        "    finally:\n",
        "        print(\"End of demo!\")\n",
        "\n",
        "safe_read_json_last_call('small_csv.json')"
      ]
    },
    {
      "cell_type": "markdown",
      "metadata": {
        "id": "4i2tHgMHZwTr"
      },
      "source": [
        "You should not use exceptions for typical situations.  Don't index out of bounds at the end of a loop and then catch it, for example.  They're mostly for use when reality isn't cooperating with the program, like with missing or bad files.  The way they jump around in the code is undesirable, but it's better than the program crashing."
      ]
    },
    {
      "cell_type": "markdown",
      "metadata": {
        "id": "P-h5tgMcZ0RX"
      },
      "source": [
        "# Exercise (4 min)\n",
        "\n",
        "Modify the CSV reading function demo_read_csv so that it catches a FileNotFoundError, printing an error message in that case."
      ]
    },
    {
      "cell_type": "code",
      "execution_count": null,
      "metadata": {
        "id": "miyBuFY3aRk0",
        "scrolled": true
      },
      "outputs": [],
      "source": [
        "def demo_read_csv(filename):\n",
        "    with open(filename, mode='r') as my_csv:\n",
        "        reader = csv.reader(my_csv)\n",
        "        for record in reader:\n",
        "            out = ''\n",
        "            for item in record:\n",
        "                out += item + ';'\n",
        "            print(out)\n",
        "\n",
        "demo_read_csv(\"small_csv.csv\")"
      ]
    },
    {
      "cell_type": "code",
      "execution_count": null,
      "metadata": {
        "colab": {
          "base_uri": "https://localhost:8080/"
        },
        "id": "1RFe-k3bn1Ch",
        "outputId": "8833de3e-150c-46ac-d7b7-be1fcfccdfb8"
      },
      "outputs": [
        {
          "output_type": "stream",
          "name": "stdout",
          "text": [
            "File not found\n"
          ]
        }
      ],
      "source": [
        "def demo_read_csv(filename):\n",
        "  try:\n",
        "    with open(filename, mode='r') as my_csv:\n",
        "        reader = csv.reader(my_csv)\n",
        "        for record in reader:\n",
        "            out = ''\n",
        "            for item in record:\n",
        "                out += item + ';'\n",
        "            print(out)\n",
        "\n",
        "  except FileNotFoundError:\n",
        "    print(\"File not found\")\n",
        "\n",
        "demo_read_csv(\"small_csv.csv\") #try small_csv.csv and x_csv.csv"
      ]
    }
  ],
  "metadata": {
    "celltoolbar": "Slideshow",
    "colab": {
      "provenance": [],
      "include_colab_link": true
    },
    "kernelspec": {
      "display_name": "Python 3 (ipykernel)",
      "language": "python",
      "name": "python3"
    },
    "language_info": {
      "codemirror_mode": {
        "name": "ipython",
        "version": 3
      },
      "file_extension": ".py",
      "mimetype": "text/x-python",
      "name": "python",
      "nbconvert_exporter": "python",
      "pygments_lexer": "ipython3",
      "version": "3.8.8"
    },
    "rise": {
      "scroll": true
    }
  },
  "nbformat": 4,
  "nbformat_minor": 0
}