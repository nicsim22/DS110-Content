{
  "cells": [
    {
      "cell_type": "markdown",
      "metadata": {
        "id": "view-in-github",
        "colab_type": "text"
      },
      "source": [
        "<a href=\"https://colab.research.google.com/github/nicsim22/DS110-Content/blob/main/Lecture20Recursion_nosol.ipynb\" target=\"_parent\"><img src=\"https://colab.research.google.com/assets/colab-badge.svg\" alt=\"Open In Colab\"/></a>"
      ]
    },
    {
      "cell_type": "markdown",
      "metadata": {
        "id": "gLFsbDWAeNzT"
      },
      "source": [
        "# Recursion"
      ]
    },
    {
      "cell_type": "markdown",
      "metadata": {
        "id": "F56vcgr0eNzU"
      },
      "source": [
        "<i>\"I'm afraid I must go,\" Aubin said, straightening a bowtie.  \"My father pays for all this, and he sometimes likes to throw galas for the other moguls.  It's all very silly, but it keeps SAGE's lights on.\"</i>\n",
        "\n",
        "<i>\"Aubin, what exactly is your plan if we figure out the cause of this disease?\" Cynthia asked.</i>\n",
        "\n",
        "<i>\"Save the world.\"</i>\n",
        "\n",
        "<i>\"How do we do that?</i>\n",
        "\n",
        "<i>\"Easy.  Save a little bit of the world, then, save the rest of the world.  Recursion!\" Aubin clapped Cynthia on the back.  \"I'm kidding!  Recursion humor.  Anyway, bon soir!\"</i>"
      ]
    },
    {
      "cell_type": "markdown",
      "metadata": {
        "id": "VEBT9VQ6jmkX"
      },
      "source": [
        "# What is recursion?\n",
        "\n",
        "Functions can **call themselves in their definitions**; that's recursion.  It seems like it should be illegal to have a circular definition.  And in fact, it's very easy to create cases where the code would **run forever** if Python didn't eventually get suspicious and terminate the function for calling itself too many times.\n",
        "\n",
        "//Key of recursion: To reduce problem into a smaller problem//"
      ]
    },
    {
      "cell_type": "code",
      "execution_count": null,
      "metadata": {
        "id": "nQ0Eh0vCj-5Q",
        "colab": {
          "base_uri": "https://localhost:8080/",
          "height": 1000
        },
        "outputId": "623282e6-215a-4968-c3e8-853fcadf6b14"
      },
      "outputs": [
        {
          "output_type": "stream",
          "name": "stdout",
          "text": [
            "Bad!\n",
            "Bad!\n",
            "Bad!\n",
            "Bad!\n",
            "Bad!\n",
            "Bad!\n",
            "Bad!\n",
            "Bad!\n",
            "Bad!\n",
            "Bad!\n",
            "Bad!\n",
            "Bad!\n",
            "Bad!\n",
            "Bad!\n",
            "Bad!\n",
            "Bad!\n",
            "Bad!\n",
            "Bad!\n",
            "Bad!\n",
            "Bad!\n",
            "Bad!\n",
            "Bad!\n",
            "Bad!\n",
            "Bad!\n",
            "Bad!\n",
            "Bad!\n",
            "Bad!\n",
            "Bad!\n",
            "Bad!\n",
            "Bad!\n",
            "Bad!\n",
            "Bad!\n",
            "Bad!\n",
            "Bad!\n",
            "Bad!\n",
            "Bad!\n",
            "Bad!\n",
            "Bad!\n",
            "Bad!\n",
            "Bad!\n",
            "Bad!\n",
            "Bad!\n",
            "Bad!\n",
            "Bad!\n",
            "Bad!\n",
            "Bad!\n",
            "Bad!\n",
            "Bad!\n",
            "Bad!\n",
            "Bad!\n",
            "Bad!\n",
            "Bad!\n",
            "Bad!\n",
            "Bad!\n",
            "Bad!\n",
            "Bad!\n",
            "Bad!\n",
            "Bad!\n",
            "Bad!\n",
            "Bad!\n",
            "Bad!\n",
            "Bad!\n",
            "Bad!\n",
            "Bad!\n",
            "Bad!\n",
            "Bad!\n",
            "Bad!\n",
            "Bad!\n",
            "Bad!\n",
            "Bad!\n",
            "Bad!\n",
            "Bad!\n",
            "Bad!\n",
            "Bad!\n",
            "Bad!\n",
            "Bad!\n",
            "Bad!\n",
            "Bad!\n",
            "Bad!\n",
            "Bad!\n",
            "Bad!\n",
            "Bad!\n",
            "Bad!\n",
            "Bad!\n",
            "Bad!\n",
            "Bad!\n",
            "Bad!\n",
            "Bad!\n",
            "Bad!\n",
            "Bad!\n",
            "Bad!\n",
            "Bad!\n",
            "Bad!\n",
            "Bad!\n",
            "Bad!\n",
            "Bad!\n",
            "Bad!\n",
            "Bad!\n",
            "Bad!\n",
            "Bad!\n",
            "Bad!\n",
            "Bad!\n",
            "Bad!\n",
            "Bad!\n",
            "Bad!\n",
            "Bad!\n",
            "Bad!\n",
            "Bad!\n",
            "Bad!\n",
            "Bad!\n",
            "Bad!\n",
            "Bad!\n",
            "Bad!\n",
            "Bad!\n",
            "Bad!\n",
            "Bad!\n",
            "Bad!\n",
            "Bad!\n",
            "Bad!\n",
            "Bad!\n",
            "Bad!\n",
            "Bad!\n",
            "Bad!\n",
            "Bad!\n",
            "Bad!\n",
            "Bad!\n",
            "Bad!\n",
            "Bad!\n",
            "Bad!\n",
            "Bad!\n",
            "Bad!\n",
            "Bad!\n",
            "Bad!\n",
            "Bad!\n",
            "Bad!\n",
            "Bad!\n",
            "Bad!\n",
            "Bad!\n",
            "Bad!\n",
            "Bad!\n",
            "Bad!\n",
            "Bad!\n",
            "Bad!\n",
            "Bad!\n",
            "Bad!\n",
            "Bad!\n",
            "Bad!\n",
            "Bad!\n",
            "Bad!\n",
            "Bad!\n",
            "Bad!\n",
            "Bad!\n",
            "Bad!\n",
            "Bad!\n",
            "Bad!\n",
            "Bad!\n",
            "Bad!\n",
            "Bad!\n",
            "Bad!\n",
            "Bad!\n",
            "Bad!\n",
            "Bad!\n",
            "Bad!\n",
            "Bad!\n",
            "Bad!\n",
            "Bad!\n",
            "Bad!\n",
            "Bad!\n",
            "Bad!\n",
            "Bad!\n",
            "Bad!\n",
            "Bad!\n",
            "Bad!\n",
            "Bad!\n",
            "Bad!\n",
            "Bad!\n",
            "Bad!\n",
            "Bad!\n",
            "Bad!\n",
            "Bad!\n",
            "Bad!\n",
            "Bad!\n",
            "Bad!\n",
            "Bad!\n",
            "Bad!\n",
            "Bad!\n",
            "Bad!\n",
            "Bad!\n",
            "Bad!\n",
            "Bad!\n",
            "Bad!\n",
            "Bad!\n",
            "Bad!\n",
            "Bad!\n",
            "Bad!\n",
            "Bad!\n",
            "Bad!\n",
            "Bad!\n",
            "Bad!\n",
            "Bad!\n",
            "Bad!\n",
            "Bad!\n",
            "Bad!\n",
            "Bad!\n",
            "Bad!\n",
            "Bad!\n",
            "Bad!\n",
            "Bad!\n",
            "Bad!\n",
            "Bad!\n",
            "Bad!\n",
            "Bad!\n",
            "Bad!\n",
            "Bad!\n",
            "Bad!\n",
            "Bad!\n",
            "Bad!\n",
            "Bad!\n",
            "Bad!\n",
            "Bad!\n",
            "Bad!\n",
            "Bad!\n",
            "Bad!\n",
            "Bad!\n",
            "Bad!\n",
            "Bad!\n",
            "Bad!\n",
            "Bad!\n",
            "Bad!\n",
            "Bad!\n",
            "Bad!\n",
            "Bad!\n",
            "Bad!\n",
            "Bad!\n",
            "Bad!\n",
            "Bad!\n",
            "Bad!\n",
            "Bad!\n",
            "Bad!\n",
            "Bad!\n",
            "Bad!\n",
            "Bad!\n",
            "Bad!\n",
            "Bad!\n",
            "Bad!\n",
            "Bad!\n",
            "Bad!\n",
            "Bad!\n",
            "Bad!\n",
            "Bad!\n",
            "Bad!\n",
            "Bad!\n",
            "Bad!\n",
            "Bad!\n",
            "Bad!\n",
            "Bad!\n",
            "Bad!\n",
            "Bad!\n",
            "Bad!\n",
            "Bad!\n",
            "Bad!\n",
            "Bad!\n",
            "Bad!\n",
            "Bad!\n",
            "Bad!\n",
            "Bad!\n",
            "Bad!\n",
            "Bad!\n",
            "Bad!\n",
            "Bad!\n",
            "Bad!\n",
            "Bad!\n",
            "Bad!\n",
            "Bad!\n",
            "Bad!\n",
            "Bad!\n",
            "Bad!\n",
            "Bad!\n",
            "Bad!\n",
            "Bad!\n",
            "Bad!\n",
            "Bad!\n",
            "Bad!\n",
            "Bad!\n",
            "Bad!\n",
            "Bad!\n",
            "Bad!\n",
            "Bad!\n",
            "Bad!\n",
            "Bad!\n",
            "Bad!\n",
            "Bad!\n",
            "Bad!\n",
            "Bad!\n",
            "Bad!\n",
            "Bad!\n",
            "Bad!\n",
            "Bad!\n",
            "Bad!\n",
            "Bad!\n",
            "Bad!\n",
            "Bad!\n",
            "Bad!\n",
            "Bad!\n",
            "Bad!\n",
            "Bad!\n",
            "Bad!\n",
            "Bad!\n",
            "Bad!\n",
            "Bad!\n",
            "Bad!\n",
            "Bad!\n",
            "Bad!\n",
            "Bad!\n",
            "Bad!\n",
            "Bad!\n",
            "Bad!\n",
            "Bad!\n",
            "Bad!\n",
            "Bad!\n",
            "Bad!\n",
            "Bad!\n",
            "Bad!\n",
            "Bad!\n",
            "Bad!\n",
            "Bad!\n",
            "Bad!\n",
            "Bad!\n",
            "Bad!\n",
            "Bad!\n",
            "Bad!\n",
            "Bad!\n",
            "Bad!\n",
            "Bad!\n",
            "Bad!\n",
            "Bad!\n",
            "Bad!\n",
            "Bad!\n",
            "Bad!\n",
            "Bad!\n",
            "Bad!\n",
            "Bad!\n",
            "Bad!\n",
            "Bad!\n",
            "Bad!\n",
            "Bad!\n",
            "Bad!\n",
            "Bad!\n",
            "Bad!\n",
            "Bad!\n",
            "Bad!\n",
            "Bad!\n",
            "Bad!\n",
            "Bad!\n",
            "Bad!\n",
            "Bad!\n",
            "Bad!\n",
            "Bad!\n",
            "Bad!\n",
            "Bad!\n",
            "Bad!\n",
            "Bad!\n",
            "Bad!\n",
            "Bad!\n",
            "Bad!\n",
            "Bad!\n",
            "Bad!\n",
            "Bad!\n",
            "Bad!\n",
            "Bad!\n",
            "Bad!\n",
            "Bad!\n",
            "Bad!\n",
            "Bad!\n",
            "Bad!\n",
            "Bad!\n",
            "Bad!\n",
            "Bad!\n",
            "Bad!\n",
            "Bad!\n",
            "Bad!\n",
            "Bad!\n",
            "Bad!\n",
            "Bad!\n",
            "Bad!\n",
            "Bad!\n",
            "Bad!\n",
            "Bad!\n",
            "Bad!\n",
            "Bad!\n",
            "Bad!\n",
            "Bad!\n",
            "Bad!\n",
            "Bad!\n",
            "Bad!\n",
            "Bad!\n",
            "Bad!\n",
            "Bad!\n",
            "Bad!\n",
            "Bad!\n",
            "Bad!\n",
            "Bad!\n",
            "Bad!\n",
            "Bad!\n",
            "Bad!\n",
            "Bad!\n",
            "Bad!\n",
            "Bad!\n",
            "Bad!\n",
            "Bad!\n",
            "Bad!\n",
            "Bad!\n",
            "Bad!\n",
            "Bad!\n",
            "Bad!\n",
            "Bad!\n",
            "Bad!\n",
            "Bad!\n",
            "Bad!\n",
            "Bad!\n",
            "Bad!\n",
            "Bad!\n",
            "Bad!\n",
            "Bad!\n",
            "Bad!\n",
            "Bad!\n",
            "Bad!\n",
            "Bad!\n",
            "Bad!\n",
            "Bad!\n",
            "Bad!\n",
            "Bad!\n",
            "Bad!\n",
            "Bad!\n",
            "Bad!\n",
            "Bad!\n",
            "Bad!\n",
            "Bad!\n",
            "Bad!\n",
            "Bad!\n",
            "Bad!\n",
            "Bad!\n",
            "Bad!\n",
            "Bad!\n",
            "Bad!\n",
            "Bad!\n",
            "Bad!\n",
            "Bad!\n",
            "Bad!\n",
            "Bad!\n",
            "Bad!\n",
            "Bad!\n",
            "Bad!\n",
            "Bad!\n",
            "Bad!\n",
            "Bad!\n",
            "Bad!\n",
            "Bad!\n",
            "Bad!\n",
            "Bad!\n",
            "Bad!\n",
            "Bad!\n",
            "Bad!\n",
            "Bad!\n",
            "Bad!\n",
            "Bad!\n",
            "Bad!\n",
            "Bad!\n",
            "Bad!\n",
            "Bad!\n",
            "Bad!\n",
            "Bad!\n",
            "Bad!\n",
            "Bad!\n",
            "Bad!\n",
            "Bad!\n",
            "Bad!\n",
            "Bad!\n",
            "Bad!\n",
            "Bad!\n",
            "Bad!\n",
            "Bad!\n",
            "Bad!\n",
            "Bad!\n",
            "Bad!\n",
            "Bad!\n",
            "Bad!\n",
            "Bad!\n",
            "Bad!\n",
            "Bad!\n",
            "Bad!\n",
            "Bad!\n",
            "Bad!\n",
            "Bad!\n",
            "Bad!\n",
            "Bad!\n",
            "Bad!\n",
            "Bad!\n",
            "Bad!\n",
            "Bad!\n",
            "Bad!\n",
            "Bad!\n",
            "Bad!\n",
            "Bad!\n",
            "Bad!\n",
            "Bad!\n",
            "Bad!\n",
            "Bad!\n",
            "Bad!\n",
            "Bad!\n",
            "Bad!\n",
            "Bad!\n",
            "Bad!\n",
            "Bad!\n",
            "Bad!\n",
            "Bad!\n",
            "Bad!\n",
            "Bad!\n",
            "Bad!\n",
            "Bad!\n",
            "Bad!\n",
            "Bad!\n",
            "Bad!\n",
            "Bad!\n",
            "Bad!\n",
            "Bad!\n",
            "Bad!\n",
            "Bad!\n",
            "Bad!\n",
            "Bad!\n",
            "Bad!\n",
            "Bad!\n",
            "Bad!\n",
            "Bad!\n",
            "Bad!\n",
            "Bad!\n",
            "Bad!\n",
            "Bad!\n",
            "Bad!\n",
            "Bad!\n",
            "Bad!\n",
            "Bad!\n",
            "Bad!\n",
            "Bad!\n",
            "Bad!\n",
            "Bad!\n",
            "Bad!\n",
            "Bad!\n",
            "Bad!\n",
            "Bad!\n",
            "Bad!\n",
            "Bad!\n",
            "Bad!\n",
            "Bad!\n",
            "Bad!\n",
            "Bad!\n",
            "Bad!\n",
            "Bad!\n",
            "Bad!\n",
            "Bad!\n",
            "Bad!\n",
            "Bad!\n",
            "Bad!\n",
            "Bad!\n",
            "Bad!\n",
            "Bad!\n",
            "Bad!\n",
            "Bad!\n",
            "Bad!\n",
            "Bad!\n",
            "Bad!\n",
            "Bad!\n",
            "Bad!\n",
            "Bad!\n",
            "Bad!\n",
            "Bad!\n",
            "Bad!\n",
            "Bad!\n",
            "Bad!\n",
            "Bad!\n",
            "Bad!\n",
            "Bad!\n",
            "Bad!\n",
            "Bad!\n",
            "Bad!\n",
            "Bad!\n",
            "Bad!\n",
            "Bad!\n",
            "Bad!\n",
            "Bad!\n",
            "Bad!\n",
            "Bad!\n",
            "Bad!\n",
            "Bad!\n",
            "Bad!\n",
            "Bad!\n",
            "Bad!\n",
            "Bad!\n",
            "Bad!\n",
            "Bad!\n",
            "Bad!\n",
            "Bad!\n",
            "Bad!\n",
            "Bad!\n",
            "Bad!\n",
            "Bad!\n",
            "Bad!\n",
            "Bad!\n",
            "Bad!\n",
            "Bad!\n",
            "Bad!\n",
            "Bad!\n",
            "Bad!\n",
            "Bad!\n",
            "Bad!\n",
            "Bad!\n",
            "Bad!\n",
            "Bad!\n",
            "Bad!\n",
            "Bad!\n",
            "Bad!\n",
            "Bad!\n",
            "Bad!\n",
            "Bad!\n",
            "Bad!\n",
            "Bad!\n",
            "Bad!\n",
            "Bad!\n",
            "Bad!\n",
            "Bad!\n",
            "Bad!\n",
            "Bad!\n",
            "Bad!\n",
            "Bad!\n",
            "Bad!\n",
            "Bad!\n",
            "Bad!\n",
            "Bad!\n",
            "Bad!\n",
            "Bad!\n",
            "Bad!\n",
            "Bad!\n",
            "Bad!\n",
            "Bad!\n",
            "Bad!\n",
            "Bad!\n",
            "Bad!\n",
            "Bad!\n",
            "Bad!\n",
            "Bad!\n",
            "Bad!\n",
            "Bad!\n",
            "Bad!\n",
            "Bad!\n",
            "Bad!\n",
            "Bad!\n",
            "Bad!\n",
            "Bad!\n",
            "Bad!\n",
            "Bad!\n",
            "Bad!\n",
            "Bad!\n",
            "Bad!\n",
            "Bad!\n",
            "Bad!\n",
            "Bad!\n",
            "Bad!\n",
            "Bad!\n",
            "Bad!\n",
            "Bad!\n",
            "Bad!\n",
            "Bad!\n",
            "Bad!\n",
            "Bad!\n",
            "Bad!\n",
            "Bad!\n",
            "Bad!\n",
            "Bad!\n",
            "Bad!\n",
            "Bad!\n",
            "Bad!\n",
            "Bad!\n",
            "Bad!\n",
            "Bad!\n",
            "Bad!\n",
            "Bad!\n",
            "Bad!\n",
            "Bad!\n",
            "Bad!\n",
            "Bad!\n",
            "Bad!\n",
            "Bad!\n",
            "Bad!\n",
            "Bad!\n",
            "Bad!\n",
            "Bad!\n",
            "Bad!\n",
            "Bad!\n",
            "Bad!\n",
            "Bad!\n",
            "Bad!\n",
            "Bad!\n",
            "Bad!\n",
            "Bad!\n",
            "Bad!\n",
            "Bad!\n",
            "Bad!\n",
            "Bad!\n",
            "Bad!\n",
            "Bad!\n",
            "Bad!\n",
            "Bad!\n",
            "Bad!\n",
            "Bad!\n",
            "Bad!\n",
            "Bad!\n",
            "Bad!\n",
            "Bad!\n",
            "Bad!\n",
            "Bad!\n",
            "Bad!\n",
            "Bad!\n",
            "Bad!\n",
            "Bad!\n",
            "Bad!\n",
            "Bad!\n",
            "Bad!\n",
            "Bad!\n",
            "Bad!\n",
            "Bad!\n",
            "Bad!\n",
            "Bad!\n",
            "Bad!\n",
            "Bad!\n",
            "Bad!\n",
            "Bad!\n",
            "Bad!\n",
            "Bad!\n",
            "Bad!\n",
            "Bad!\n",
            "Bad!\n",
            "Bad!\n",
            "Bad!\n",
            "Bad!\n",
            "Bad!\n",
            "Bad!\n",
            "Bad!\n",
            "Bad!\n",
            "Bad!\n",
            "Bad!\n",
            "Bad!\n",
            "Bad!\n",
            "Bad!\n",
            "Bad!\n",
            "Bad!\n",
            "Bad!\n",
            "Bad!\n",
            "Bad!\n",
            "Bad!\n",
            "Bad!\n",
            "Bad!\n",
            "Bad!\n",
            "Bad!\n",
            "Bad!\n",
            "Bad!\n",
            "Bad!\n",
            "Bad!\n",
            "Bad!\n",
            "Bad!\n",
            "Bad!\n",
            "Bad!\n",
            "Bad!\n",
            "Bad!\n",
            "Bad!\n",
            "Bad!\n",
            "Bad!\n",
            "Bad!\n",
            "Bad!\n",
            "Bad!\n",
            "Bad!\n",
            "Bad!\n",
            "Bad!\n",
            "Bad!\n",
            "Bad!\n",
            "Bad!\n",
            "Bad!\n",
            "Bad!\n",
            "Bad!\n",
            "Bad!\n",
            "Bad!\n",
            "Bad!\n",
            "Bad!\n",
            "Bad!\n",
            "Bad!\n",
            "Bad!\n",
            "Bad!\n",
            "Bad!\n",
            "Bad!\n",
            "Bad!\n",
            "Bad!\n",
            "Bad!\n",
            "Bad!\n",
            "Bad!\n",
            "Bad!\n",
            "Bad!\n",
            "Bad!\n",
            "Bad!\n",
            "Bad!\n",
            "Bad!\n",
            "Bad!\n",
            "Bad!\n",
            "Bad!\n",
            "Bad!\n",
            "Bad!\n",
            "Bad!\n",
            "Bad!\n",
            "Bad!\n",
            "Bad!\n",
            "Bad!\n",
            "Bad!\n",
            "Bad!\n",
            "Bad!\n",
            "Bad!\n",
            "Bad!\n",
            "Bad!\n",
            "Bad!\n",
            "Bad!\n",
            "Bad!\n",
            "Bad!\n",
            "Bad!\n",
            "Bad!\n",
            "Bad!\n",
            "Bad!\n",
            "Bad!\n",
            "Bad!\n",
            "Bad!\n",
            "Bad!\n",
            "Bad!\n",
            "Bad!\n",
            "Bad!\n",
            "Bad!\n",
            "Bad!\n",
            "Bad!\n",
            "Bad!\n",
            "Bad!\n",
            "Bad!\n",
            "Bad!\n",
            "Bad!\n",
            "Bad!\n",
            "Bad!\n",
            "Bad!\n",
            "Bad!\n",
            "Bad!\n",
            "Bad!\n",
            "Bad!\n",
            "Bad!\n",
            "Bad!\n",
            "Bad!\n",
            "Bad!\n",
            "Bad!\n",
            "Bad!\n",
            "Bad!\n",
            "Bad!\n",
            "Bad!\n",
            "Bad!\n",
            "Bad!\n",
            "Bad!\n",
            "Bad!\n",
            "Bad!\n",
            "Bad!\n",
            "Bad!\n",
            "Bad!\n",
            "Bad!\n",
            "Bad!\n",
            "Bad!\n",
            "Bad!\n",
            "Bad!\n",
            "Bad!\n",
            "Bad!\n",
            "Bad!\n",
            "Bad!\n",
            "Bad!\n",
            "Bad!\n",
            "Bad!\n",
            "Bad!\n",
            "Bad!\n",
            "Bad!\n",
            "Bad!\n",
            "Bad!\n",
            "Bad!\n",
            "Bad!\n",
            "Bad!\n",
            "Bad!\n",
            "Bad!\n",
            "Bad!\n",
            "Bad!\n",
            "Bad!\n",
            "Bad!\n",
            "Bad!\n",
            "Bad!\n",
            "Bad!\n",
            "Bad!\n",
            "Bad!\n",
            "Bad!\n",
            "Bad!\n",
            "Bad!\n",
            "Bad!\n",
            "Bad!\n",
            "Bad!\n",
            "Bad!\n",
            "Bad!\n",
            "Bad!\n",
            "Bad!\n",
            "Bad!\n",
            "Bad!\n",
            "Bad!\n",
            "Bad!\n",
            "Bad!\n",
            "Bad!\n",
            "Bad!\n",
            "Bad!\n",
            "Bad!\n",
            "Bad!\n",
            "Bad!\n",
            "Bad!\n",
            "Bad!\n",
            "Bad!\n",
            "Bad!\n",
            "Bad!\n",
            "Bad!\n",
            "Bad!\n",
            "Bad!\n",
            "Bad!\n",
            "Bad!\n",
            "Bad!\n",
            "Bad!\n",
            "Bad!\n",
            "Bad!\n",
            "Bad!\n",
            "Bad!\n",
            "Bad!\n",
            "Bad!\n",
            "Bad!\n",
            "Bad!\n",
            "Bad!\n",
            "Bad!\n",
            "Bad!\n",
            "Bad!\n",
            "Bad!\n",
            "Bad!\n",
            "Bad!\n",
            "Bad!\n",
            "Bad!\n",
            "Bad!\n"
          ]
        },
        {
          "output_type": "error",
          "ename": "RecursionError",
          "evalue": "maximum recursion depth exceeded while calling a Python object",
          "traceback": [
            "\u001b[0;31m---------------------------------------------------------------------------\u001b[0m",
            "\u001b[0;31mRecursionError\u001b[0m                            Traceback (most recent call last)",
            "\u001b[0;32m/usr/lib/python3.10/threading.py\u001b[0m in \u001b[0;36m_wait_for_tstate_lock\u001b[0;34m(self, block, timeout)\u001b[0m\n\u001b[1;32m   1115\u001b[0m         \u001b[0;32mtry\u001b[0m\u001b[0;34m:\u001b[0m\u001b[0;34m\u001b[0m\u001b[0;34m\u001b[0m\u001b[0m\n\u001b[0;32m-> 1116\u001b[0;31m             \u001b[0;32mif\u001b[0m \u001b[0mlock\u001b[0m\u001b[0;34m.\u001b[0m\u001b[0macquire\u001b[0m\u001b[0;34m(\u001b[0m\u001b[0mblock\u001b[0m\u001b[0;34m,\u001b[0m \u001b[0mtimeout\u001b[0m\u001b[0;34m)\u001b[0m\u001b[0;34m:\u001b[0m\u001b[0;34m\u001b[0m\u001b[0;34m\u001b[0m\u001b[0m\n\u001b[0m\u001b[1;32m   1117\u001b[0m                 \u001b[0mlock\u001b[0m\u001b[0;34m.\u001b[0m\u001b[0mrelease\u001b[0m\u001b[0;34m(\u001b[0m\u001b[0;34m)\u001b[0m\u001b[0;34m\u001b[0m\u001b[0;34m\u001b[0m\u001b[0m\n",
            "\u001b[0;31mRecursionError\u001b[0m: maximum recursion depth exceeded while calling a Python object",
            "\nDuring handling of the above exception, another exception occurred:\n",
            "\u001b[0;31mRecursionError\u001b[0m                            Traceback (most recent call last)",
            "\u001b[0;32m<ipython-input-1-66a95e3131df>\u001b[0m in \u001b[0;36m<cell line: 5>\u001b[0;34m()\u001b[0m\n\u001b[1;32m      3\u001b[0m   \u001b[0mbad_recursion\u001b[0m\u001b[0;34m(\u001b[0m\u001b[0;34m)\u001b[0m\u001b[0;34m\u001b[0m\u001b[0;34m\u001b[0m\u001b[0m\n\u001b[1;32m      4\u001b[0m \u001b[0;34m\u001b[0m\u001b[0m\n\u001b[0;32m----> 5\u001b[0;31m \u001b[0mbad_recursion\u001b[0m\u001b[0;34m(\u001b[0m\u001b[0;34m)\u001b[0m\u001b[0;34m\u001b[0m\u001b[0;34m\u001b[0m\u001b[0m\n\u001b[0m",
            "\u001b[0;32m<ipython-input-1-66a95e3131df>\u001b[0m in \u001b[0;36mbad_recursion\u001b[0;34m()\u001b[0m\n\u001b[1;32m      1\u001b[0m \u001b[0;32mdef\u001b[0m \u001b[0mbad_recursion\u001b[0m\u001b[0;34m(\u001b[0m\u001b[0;34m)\u001b[0m\u001b[0;34m:\u001b[0m\u001b[0;34m\u001b[0m\u001b[0;34m\u001b[0m\u001b[0m\n\u001b[1;32m      2\u001b[0m   \u001b[0mprint\u001b[0m\u001b[0;34m(\u001b[0m\u001b[0;34m\"Bad!\"\u001b[0m\u001b[0;34m)\u001b[0m\u001b[0;34m\u001b[0m\u001b[0;34m\u001b[0m\u001b[0m\n\u001b[0;32m----> 3\u001b[0;31m   \u001b[0mbad_recursion\u001b[0m\u001b[0;34m(\u001b[0m\u001b[0;34m)\u001b[0m\u001b[0;34m\u001b[0m\u001b[0;34m\u001b[0m\u001b[0m\n\u001b[0m\u001b[1;32m      4\u001b[0m \u001b[0;34m\u001b[0m\u001b[0m\n\u001b[1;32m      5\u001b[0m \u001b[0mbad_recursion\u001b[0m\u001b[0;34m(\u001b[0m\u001b[0;34m)\u001b[0m\u001b[0;34m\u001b[0m\u001b[0;34m\u001b[0m\u001b[0m\n",
            "... last 1 frames repeated, from the frame below ...\n",
            "\u001b[0;32m<ipython-input-1-66a95e3131df>\u001b[0m in \u001b[0;36mbad_recursion\u001b[0;34m()\u001b[0m\n\u001b[1;32m      1\u001b[0m \u001b[0;32mdef\u001b[0m \u001b[0mbad_recursion\u001b[0m\u001b[0;34m(\u001b[0m\u001b[0;34m)\u001b[0m\u001b[0;34m:\u001b[0m\u001b[0;34m\u001b[0m\u001b[0;34m\u001b[0m\u001b[0m\n\u001b[1;32m      2\u001b[0m   \u001b[0mprint\u001b[0m\u001b[0;34m(\u001b[0m\u001b[0;34m\"Bad!\"\u001b[0m\u001b[0;34m)\u001b[0m\u001b[0;34m\u001b[0m\u001b[0;34m\u001b[0m\u001b[0m\n\u001b[0;32m----> 3\u001b[0;31m   \u001b[0mbad_recursion\u001b[0m\u001b[0;34m(\u001b[0m\u001b[0;34m)\u001b[0m\u001b[0;34m\u001b[0m\u001b[0;34m\u001b[0m\u001b[0m\n\u001b[0m\u001b[1;32m      4\u001b[0m \u001b[0;34m\u001b[0m\u001b[0m\n\u001b[1;32m      5\u001b[0m \u001b[0mbad_recursion\u001b[0m\u001b[0;34m(\u001b[0m\u001b[0;34m)\u001b[0m\u001b[0;34m\u001b[0m\u001b[0;34m\u001b[0m\u001b[0m\n",
            "\u001b[0;31mRecursionError\u001b[0m: maximum recursion depth exceeded while calling a Python object"
          ]
        }
      ],
      "source": [
        "def bad_recursion():\n",
        "  print(\"Bad!\")\n",
        "  bad_recursion() #calls bad_recursion\n",
        "\n",
        "bad_recursion() #calls bad_recursion again"
      ]
    },
    {
      "cell_type": "markdown",
      "metadata": {
        "id": "iC3F0IWBkLbV"
      },
      "source": [
        "But it's not the case that every self-mention results in infinite recursion.  The recursive call may be dealing with an inherently smaller problem. ** If the problem keeps getting smaller until it can be handled with a simple case that isn't recursive, then that's a good recursion.**\n",
        "\n"
      ]
    },
    {
      "cell_type": "markdown",
      "metadata": {
        "id": "WJdSkVF4eNzW"
      },
      "source": [
        "To use a classic example, we can think about factorial, where 7! = $7 * 6 * 5 * 4 * 3 * 2 * 1$ and similarly for other numbers.  We could define this as $7 * 6!$.  We could define $6!$ as $6 * 5!$.  We could generally define $n!$ as $n * (n-1)!$.  And none of this would be helpful unless we also defined a small base case where $1! = 1$."
      ]
    },
    {
      "cell_type": "code",
      "execution_count": null,
      "metadata": {
        "id": "Mb8Y8TpJllji",
        "colab": {
          "base_uri": "https://localhost:8080/"
        },
        "outputId": "2c5dfb15-34a2-45c0-977a-45d160a1d19b"
      },
      "outputs": [
        {
          "output_type": "stream",
          "name": "stdout",
          "text": [
            "24\n"
          ]
        }
      ],
      "source": [
        "def factorial(n):\n",
        "  # Omitting checks to make sure we're a natural number, etc\n",
        "  if n == 1:\n",
        "    return 1\n",
        "  return n * factorial(n-1) #if only we could figure out the smaller problem of fac(n-1), we can solve bigger problem of n! bc we know that it is just x n\n",
        "\n",
        "print (factorial(4))"
      ]
    },
    {
      "cell_type": "markdown",
      "metadata": {
        "id": "XXoyK93Cl22T"
      },
      "source": [
        "Here, the code tries to evaluate 4! by trying to find 3!.  Trying to find 3! causes it to try to find 2!.  Trying to evaluate 2!, it tries to evaluate 1!.  And that is the *base case* and a simple lookup.  It returns, and all the calls **return their values on the way back up**:  $2*1 = 2, 3*2 = 6, 4*6 = 24$."
      ]
    },
    {
      "cell_type": "code",
      "execution_count": null,
      "metadata": {
        "colab": {
          "base_uri": "https://localhost:8080/"
        },
        "id": "KjvyEefieNzW",
        "outputId": "99303ed3-dd4e-469f-db0f-850ee7b54c47"
      },
      "outputs": [
        {
          "output_type": "stream",
          "name": "stdout",
          "text": [
            "Evaluating 4!\n",
            "Evaluating 3!\n",
            "Evaluating 2!\n",
            "Evaluating 1!\n",
            "Returning 1\n",
            "Returning 2\n",
            "Returning 6\n",
            "Returning 24\n",
            "24\n"
          ]
        }
      ],
      "source": [
        "def factorial(n):\n",
        "  # Omitting checks to make sure we're a natural number, etc\n",
        "  print(f'Evaluating {n}!')\n",
        "  if n == 1: #base case\n",
        "    print('Returning 1')\n",
        "    return 1\n",
        "  result = n * factorial(n-1) #otherwise, for any other case, recursive call --> calls function again and again\n",
        "  print(f'Returning {result}')\n",
        "  return result\n",
        "\n",
        "print (factorial(4)) #fac 4 calls fac (4-1) = fac 3 which calls fac 2, which calls fac 1 which is the base case --> thus doesnt run infinitely\n",
        "#aft reached base case of fac 1, answer of fac 1 returns into fac 2 to eval fact 2, then ans goes to fac3... to find fac 4"
      ]
    },
    {
      "cell_type": "markdown",
      "metadata": {
        "id": "9NOqzIkleNzW"
      },
      "source": [
        "Recursion offers a different way to take multiple steps in a computation instead of using iteration (use of loops; kinda perform same function as recursion).  In some cases, it doesn't offer any more power than iteration.  But it's a versatile technique that can allow some tricks that either aren't possible or aren't easily described with iteration."
      ]
    },
    {
      "cell_type": "markdown",
      "metadata": {
        "id": "XGOt04BEeNzW"
      },
      "source": [
        "A lot of our examples will be toy examples meant to demonstrate how recursion works.  But recursion is used in some powerful algorithms and analysis techniques, **because it can end up running faster than the alternatives if done right** (take an algorithms class to understand how).  Applications include:\n",
        "\n",
        "* Fast matrix multiplication\n",
        "* Fast Fourier Transforms for converting signals to the frequency domain\n",
        "* Fast algorithms for finding the median (or another target percentile)\n",
        "* Fast algorithms for sorting\n",
        "* Fast algorithms for finding close points in a space\n",
        "\n",
        "Every single one of these algorithms is unfortunately too complex to fit into this lecture, which is just meant to introduce you to the basics of understanding recursion."
      ]
    },
    {
      "cell_type": "markdown",
      "metadata": {
        "id": "MBmQtzsveNzW"
      },
      "source": [
        "Here are some similar functions that compute their results recursively.  We can compute a sum of consecutive numbers more or less the same way we compute a factorial, stopping early when we hit the starting number."
      ]
    },
    {
      "cell_type": "code",
      "execution_count": null,
      "metadata": {
        "colab": {
          "base_uri": "https://localhost:8080/"
        },
        "id": "PRoaZPW7eNzX",
        "outputId": "8870070d-e814-4beb-c0c1-7a7604e0b0fe"
      },
      "outputs": [
        {
          "output_type": "execute_result",
          "data": {
            "text/plain": [
              "25"
            ]
          },
          "metadata": {},
          "execution_count": 5
        }
      ],
      "source": [
        "# Sum from m to n\n",
        "def sum_m_to_n(m, n):\n",
        "    if n == m:\n",
        "        return m\n",
        "    result = n + sum_m_to_n(m, n-1) #recursion --> applying function within the function, slightly smaller problem of sum_m_to_n(m, n-1)\n",
        "    return result\n",
        "\n",
        "sum_m_to_n(3, 7) # 3 + 4 + 5 + 6 + 7 = 25"
      ]
    },
    {
      "cell_type": "code",
      "execution_count": null,
      "metadata": {
        "colab": {
          "base_uri": "https://localhost:8080/"
        },
        "id": "W3BOHsa7eNzX",
        "outputId": "5e6f27e9-4722-421a-efd0-8fdceed53249"
      },
      "outputs": [
        {
          "output_type": "stream",
          "name": "stdout",
          "text": [
            "Evaluating sum from 3 to 7\n",
            "Evaluating sum from 3 to 6\n",
            "Evaluating sum from 3 to 5\n",
            "Evaluating sum from 3 to 4\n",
            "Evaluating sum from 3 to 3\n",
            "Returning 3\n",
            "Returning 7\n",
            "Returning 12\n",
            "Returning 18\n",
            "Returning 25\n"
          ]
        },
        {
          "output_type": "execute_result",
          "data": {
            "text/plain": [
              "25"
            ]
          },
          "metadata": {},
          "execution_count": 6
        }
      ],
      "source": [
        "# Sum from m to n with prints\n",
        "def sum_m_to_n(m, n):\n",
        "    print(f'Evaluating sum from {m} to {n}')\n",
        "    if n == m:\n",
        "        print(f'Returning {m}')\n",
        "        return m\n",
        "    result = n + sum_m_to_n(m, n-1)\n",
        "    print(f'Returning {result}')\n",
        "    return result\n",
        "\n",
        "sum_m_to_n(3, 7) # 3 + 4 + 5 + 6 + 7 = 25"
      ]
    },
    {
      "cell_type": "markdown",
      "metadata": {
        "id": "1HIS7e8QeNzX"
      },
      "source": [
        "A power can be defined as $a^p$ = $a^{p-1}a$, so it can also be computed recursively."
      ]
    },
    {
      "cell_type": "code",
      "execution_count": null,
      "metadata": {
        "colab": {
          "base_uri": "https://localhost:8080/"
        },
        "id": "neYpt_qweNzX",
        "outputId": "dd50d474-56b8-4041-8b7a-134fd56d0eee"
      },
      "outputs": [
        {
          "output_type": "execute_result",
          "data": {
            "text/plain": [
              "256"
            ]
          },
          "metadata": {},
          "execution_count": 7
        }
      ],
      "source": [
        "def mypow(a, p):\n",
        "    if p == 0:\n",
        "        return 1\n",
        "    result = a * mypow(a, p-1)\n",
        "    return result\n",
        "\n",
        "mypow(2,8)"
      ]
    },
    {
      "cell_type": "code",
      "execution_count": null,
      "metadata": {
        "colab": {
          "base_uri": "https://localhost:8080/"
        },
        "id": "Y5SpTTkGeNzX",
        "outputId": "7deb7427-c778-4386-a3a0-5aadd7e00bad"
      },
      "outputs": [
        {
          "output_type": "stream",
          "name": "stdout",
          "text": [
            "Evaluating 2^8\n",
            "Evaluating 2^7\n",
            "Evaluating 2^6\n",
            "Evaluating 2^5\n",
            "Evaluating 2^4\n",
            "Evaluating 2^3\n",
            "Evaluating 2^2\n",
            "Evaluating 2^1\n",
            "Evaluating 2^0\n",
            "Returning 1\n",
            "Returning 2\n",
            "Returning 4\n",
            "Returning 8\n",
            "Returning 16\n",
            "Returning 32\n",
            "Returning 64\n",
            "Returning 128\n",
            "Returning 256\n"
          ]
        },
        {
          "output_type": "execute_result",
          "data": {
            "text/plain": [
              "256"
            ]
          },
          "metadata": {},
          "execution_count": 8
        }
      ],
      "source": [
        "def mypow(a, p):\n",
        "    print(f'Evaluating {a}^{p}')\n",
        "    if p == 0:\n",
        "        print('Returning 1')\n",
        "        return 1\n",
        "    result = a * mypow(a, p-1)\n",
        "    print(f'Returning {result}')\n",
        "    return result\n",
        "\n",
        "mypow(2,8)"
      ]
    },
    {
      "cell_type": "markdown",
      "metadata": {
        "id": "1RhKd7T6eNzX"
      },
      "source": [
        "In each of these cases, the **problem in some way gets \"smaller\" with each recursive call**, and our **base case code is waiting to handle the return value when the value gets small enough**.  Then each function builds on what it gets back from its recursive call."
      ]
    },
    {
      "cell_type": "markdown",
      "metadata": {
        "id": "vjQB654neNzX"
      },
      "source": [
        "These are the two essential parts of the recursion: the **base case**, and the **recursive call**.  But there could be more than one base case, and there **could be more than one recursive call**.  This is illustrated by some code computing the Fibonacci numbers, defined by the recurrence F(0) = 0, F(1) = 1, F(n) = F(n-1) + F(n-2)."
      ]
    },
    {
      "cell_type": "code",
      "execution_count": null,
      "metadata": {
        "colab": {
          "base_uri": "https://localhost:8080/"
        },
        "id": "yYk2cpq8eNzX",
        "outputId": "659f7569-4e59-43b8-b895-019e6f7f2fe9"
      },
      "outputs": [
        {
          "output_type": "stream",
          "name": "stdout",
          "text": [
            "0\n",
            "1\n",
            "1\n",
            "2\n",
            "3\n",
            "5\n",
            "8\n",
            "13\n",
            "21\n",
            "34\n"
          ]
        }
      ],
      "source": [
        "def fib(n):\n",
        "    if (n == 0):\n",
        "        return 0 #base case 1\n",
        "    if (n == 1):\n",
        "        return 1 #base case 2 to stop recursion\n",
        "    return fib(n-1) + fib(n-2)\n",
        "\n",
        "for i in range(10):\n",
        "    print(fib(i))"
      ]
    },
    {
      "cell_type": "markdown",
      "metadata": {
        "id": "MzRKFbPseNzX"
      },
      "source": [
        "# Exercise (6 min)\n",
        "\n",
        "Try writing a recursive function r_perm(r, n) that computes n \\* (n-1) \\* $\\ldots$ \\* (r+1) where r < n.  For example, r_perm(5,7) = 7\\*6 = 42.  (You can assume n > r.)"
      ]
    },
    {
      "cell_type": "code",
      "execution_count": null,
      "metadata": {
        "colab": {
          "base_uri": "https://localhost:8080/"
        },
        "id": "83KuImXQeNzY",
        "outputId": "b4a1d641-0536-4459-8228-c4ad54badd96"
      },
      "outputs": [
        {
          "output_type": "execute_result",
          "data": {
            "text/plain": [
              "42"
            ]
          },
          "metadata": {},
          "execution_count": 1
        }
      ],
      "source": [
        "def r_perm(r, n):\n",
        "    # TODO\n",
        "    if n == r + 1:\n",
        "      return n\n",
        "    return n * r_perm(r, n-1)\n",
        "\n",
        "r_perm(5,7) # Should be 42"
      ]
    },
    {
      "cell_type": "markdown",
      "metadata": {
        "id": "ediKPmL4msgS"
      },
      "source": [
        "Now, let's be honest.  These examples could have been coded iteratively; it's not clear there's a benefit to the recursive approach here."
      ]
    },
    {
      "cell_type": "code",
      "execution_count": null,
      "metadata": {
        "id": "d5wTYKFwnIp0",
        "colab": {
          "base_uri": "https://localhost:8080/"
        },
        "outputId": "d5cec6a1-d24e-4284-9ca3-3ff0a7d69201"
      },
      "outputs": [
        {
          "output_type": "stream",
          "name": "stdout",
          "text": [
            "24\n"
          ]
        }
      ],
      "source": [
        "def iter_factorial(n):\n",
        "  running_fact = 1\n",
        "  for i in range(1,n+1):\n",
        "    running_fact *= i\n",
        "  return running_fact\n",
        "\n",
        "print(iter_factorial(4))"
      ]
    },
    {
      "cell_type": "code",
      "execution_count": null,
      "metadata": {
        "colab": {
          "base_uri": "https://localhost:8080/"
        },
        "id": "7uHNz5VveNzY",
        "outputId": "321c3e31-c78e-4d48-c534-cd9db22dd538"
      },
      "outputs": [
        {
          "output_type": "stream",
          "name": "stdout",
          "text": [
            "0\n",
            "1\n",
            "1\n",
            "2\n",
            "3\n",
            "5\n",
            "8\n",
            "13\n",
            "21\n",
            "34\n"
          ]
        }
      ],
      "source": [
        "import numpy as np\n",
        "\n",
        "def iter_fib(n):\n",
        "    if n == 0 or n == 1:\n",
        "        return n\n",
        "    fibs = np.zeros(n+1)\n",
        "    fibs[0] = 0\n",
        "    fibs[1] = 1\n",
        "    for i in range(2,n+1):\n",
        "        fibs[i] = fibs[i-1] + fibs[i-2] #fill in an array using prev 2 values of an array\n",
        "    return int(fibs[n])\n",
        "\n",
        "for i in range(10):\n",
        "    print(iter_fib(i))"
      ]
    },
    {
      "cell_type": "markdown",
      "metadata": {
        "id": "-RXjqS1un2hH"
      },
      "source": [
        "But sometimes, recursion maps very well on to problem, such that it's difficult to write the code any other way.  Arguably an example of this is computing the power set, or set of all possible subsets, of a set - in other words, every possible way to select some items.  For example, for the set represented by the string \"abc\", all possible subsets are \"abc,\" \"ab\", \"ac\", \"a\", \"bc\", \"b\", \"c\", \"\".\n",
        "\n",
        "We can find this recursively by first ignoring the first character and saying \"what's the power set of the rest,\" then making the full power set by creating two copies of that smaller power set - one copy has the first character tacked on to everything, the other does not.  (So for example \"bc\" becomes power set \"bc\", \"b\",\"c\",\"\", and all subsets of \"abc\" are therefore those plus \"abc\",\"ab\",\"ac\",\"a\".)\n",
        "\n",
        "//to get the powerset of ab, get the powerset of b first (includes b and {}), before before that u have to get the powerset of {}, an empty set //\n",
        "\n",
        "Even this has an iterative approach we won't go into here, but this approach is pretty clean once you wrap your head around it."
      ]
    },
    {
      "cell_type": "code",
      "execution_count": null,
      "metadata": {
        "id": "qBEWj4_veNzY",
        "colab": {
          "base_uri": "https://localhost:8080/"
        },
        "outputId": "1d548651-824e-48f3-9c32-59d2d0bd71d2"
      },
      "outputs": [
        {
          "output_type": "execute_result",
          "data": {
            "text/plain": [
              "['abcd',\n",
              " 'abc',\n",
              " 'abd',\n",
              " 'ab',\n",
              " 'acd',\n",
              " 'ac',\n",
              " 'ad',\n",
              " 'a',\n",
              " 'bcd',\n",
              " 'bc',\n",
              " 'bd',\n",
              " 'b',\n",
              " 'cd',\n",
              " 'c',\n",
              " 'd',\n",
              " '']"
            ]
          },
          "metadata": {},
          "execution_count": 1
        }
      ],
      "source": [
        "# Demo with a string representing the set because it's a little cleaner to code\n",
        "def power_set(setstring):\n",
        "    if len(setstring) == 0:\n",
        "        return [\"\"] #return empty set --> base case\n",
        "    subset_list = []\n",
        "    # Recursive call gets all the subsets that don't involve the first character\n",
        "    smaller_power_set = power_set(setstring[1:]) #slicing to get everything except 0th element (index 0) in every set\n",
        "    # The starting character is either in the subset...\n",
        "    for substring in smaller_power_set:\n",
        "        subset_list.append(setstring[0] + substring)\n",
        "    # ...or not.\n",
        "    for substring in smaller_power_set:\n",
        "        subset_list.append(substring)\n",
        "    return subset_list\n",
        "\n",
        "power_set(\"abcd\") #end result is the list of all possible subsets of abcd, and starts with a first"
      ]
    },
    {
      "cell_type": "markdown",
      "metadata": {
        "id": "c1s5ARGueNzY"
      },
      "source": [
        "# Recursion and lists\n",
        "\n",
        "It's often possible to write code that operates on lists recursively.  The convention is to **operate on the first element (0th item of list), or \"head\"** of the list, then **perform a recursive call on the rest of the list**, also called the \"**tail**.\"  We can write the tail as my_list[1:] to slice and get the rest of the list.\n",
        "\n",
        "These are just examples; you'll notice there may be easier ways to do some of these things in Python.  The idea is to get you comfortable with the idea of recursion.  If you can use recursion on lists, it's not so hard to use it on trees, which we'll cover next time and which demand recursion a little more."
      ]
    },
    {
      "cell_type": "code",
      "execution_count": null,
      "metadata": {
        "id": "VeNNmhOqeNzY",
        "colab": {
          "base_uri": "https://localhost:8080/"
        },
        "outputId": "e50822b2-838c-475e-f6fb-b6d1de8a0692"
      },
      "outputs": [
        {
          "output_type": "execute_result",
          "data": {
            "text/plain": [
              "6"
            ]
          },
          "metadata": {},
          "execution_count": 2
        }
      ],
      "source": [
        "def recursive_sum(lst):\n",
        "    if not lst:  # if Empty list\n",
        "        return 0\n",
        "    return lst[0] + recursive_sum(lst[1:]) #basic idea of recursion: sum of all elements, is the sum of the first element and the sum of the rest of the elements\n",
        "\n",
        "recursive_sum([1,2,3])"
      ]
    },
    {
      "cell_type": "code",
      "execution_count": null,
      "metadata": {
        "id": "3B4qOc65eNzY",
        "colab": {
          "base_uri": "https://localhost:8080/"
        },
        "outputId": "c15f73da-20ae-468d-d7df-6b88c9c651b3"
      },
      "outputs": [
        {
          "output_type": "execute_result",
          "data": {
            "text/plain": [
              "[3, 4, 5]"
            ]
          },
          "metadata": {},
          "execution_count": 6
        }
      ],
      "source": [
        "# recursive_filter:  returns a shorter list with just items with value at least min\n",
        "def recursive_filter(min_val, lst):\n",
        "    if not lst:\n",
        "        return []\n",
        "    if lst[0] >= min_val:\n",
        "        return [lst[0]] + recursive_filter(min_val, lst[1:])\n",
        "    else:\n",
        "        return recursive_filter(min_val, lst[1:])\n",
        "\n",
        "recursive_filter(3, [1, 2, 3, 4, 5])"
      ]
    },
    {
      "cell_type": "code",
      "execution_count": null,
      "metadata": {
        "id": "-qt4KPeaeNzY",
        "colab": {
          "base_uri": "https://localhost:8080/"
        },
        "outputId": "bb14dee5-9b5a-4c06-b020-6569676c47d0"
      },
      "outputs": [
        {
          "output_type": "execute_result",
          "data": {
            "text/plain": [
              "3"
            ]
          },
          "metadata": {},
          "execution_count": 5
        }
      ],
      "source": [
        "# index:  find a location in a list\n",
        "def recursive_index(item, lst, index):  # index tracks where we are in the list --> adds argument 'index' to the function that is recursive, so that we know where we are in the call\n",
        "    if not lst:\n",
        "        return None   # not found\n",
        "    if lst[0] == item:\n",
        "        return index\n",
        "    return recursive_index(item,lst[1:],index+1)\n",
        "\n",
        "recursive_index(5, [0, 1, 2, 5], 0)"
      ]
    },
    {
      "cell_type": "markdown",
      "metadata": {
        "id": "IsQ8PVrUeNzZ"
      },
      "source": [
        "# Exercise (6 min)\n",
        "\n",
        "Try writing a recursive function that takes a list and returns a list with every other element starting with the first.  For example, [5, 3, 7, 2, 9] becomes [5, 7, 9].  Hint:  Use slicing to pass the part of the rest of the list that you want to the recursive call.  You don't want to recur on the 0th element (you already did something with it) nor the 1st (you want to skip it)."
      ]
    },
    {
      "cell_type": "code",
      "execution_count": null,
      "metadata": {
        "id": "wYbUhBNleNzZ"
      },
      "outputs": [],
      "source": [
        "def recursive_skiplist(lst):\n",
        "    # TODO\n",
        "    if len(lst) == 0:\n",
        "      return []\n",
        "    if len(lst) == 1:\n",
        "      return lst\n",
        "    return [lst[0]] + recursive_skiplist(lst[2:]) #lst[0] is not a list, it is the item, so extra [] so that both can concatanate\n",
        "recursive_skiplist([5,3,7,2,9]) # Should be [5,7,9]"
      ]
    }
  ],
  "metadata": {
    "celltoolbar": "Slideshow",
    "colab": {
      "provenance": [],
      "include_colab_link": true
    },
    "kernelspec": {
      "display_name": "Python 3 (ipykernel)",
      "language": "python",
      "name": "python3"
    },
    "language_info": {
      "codemirror_mode": {
        "name": "ipython",
        "version": 3
      },
      "file_extension": ".py",
      "mimetype": "text/x-python",
      "name": "python",
      "nbconvert_exporter": "python",
      "pygments_lexer": "ipython3",
      "version": "3.8.8"
    },
    "rise": {
      "scroll": true
    }
  },
  "nbformat": 4,
  "nbformat_minor": 0
}