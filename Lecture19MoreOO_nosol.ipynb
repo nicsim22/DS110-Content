{
  "cells": [
    {
      "cell_type": "markdown",
      "metadata": {
        "id": "view-in-github",
        "colab_type": "text"
      },
      "source": [
        "<a href=\"https://colab.research.google.com/github/nicsim22/DS110-Content/blob/main/Lecture19MoreOO_nosol.ipynb\" target=\"_parent\"><img src=\"https://colab.research.google.com/assets/colab-badge.svg\" alt=\"Open In Colab\"/></a>"
      ]
    },
    {
      "cell_type": "markdown",
      "metadata": {
        "id": "6NQBBXNdHE6h"
      },
      "source": [
        "# Inheritance"
      ]
    },
    {
      "cell_type": "markdown",
      "metadata": {
        "id": "FaZPBha0HE6i"
      },
      "source": [
        "*A few days into her \"job\" at SAGE, Cynthia really felt she had begun to hit her stride.  Her code submissions were being accepted, and she felt good about how her OO code was structured.  Aubin had left her alone for a few days, but she felt this was just evidence she was doing fine.  The news was full of BND cases on the rise all over the world, but she felt SAGE was doing good work; they were on the case.*\n",
        "\n",
        "*On the sixth day, she turned in what she felt was a masterpiece of code, a program to scan all the major data companies at once, only to have that same senior programmer from before reject her commit.  \"We already have a scanning program like this,\" read the note.  \"Can't you just inherit from that one?\"*\n",
        "\n",
        "*Three days later, embarrassed, Cynthia turned in a piece of code five thousand lines shorter than the one she'd originally submitted, and it was accepted.*"
      ]
    },
    {
      "cell_type": "markdown",
      "metadata": {
        "id": "7CtxoYmmzqFv"
      },
      "source": [
        "As programmers, we're always on the lookout for ways to write less code. **Less code is less buggy code.**\n"
      ]
    },
    {
      "cell_type": "markdown",
      "metadata": {
        "id": "PxqH5nuwHE6i"
      },
      "source": [
        "Inheritance is a way of **sharing code between similar classes**.  If two classes inherit from the same class, their **shared functionality** can rest there instead of being implemented twice.  Objects get all of the code in the **parent class **(also called the \"base class\"), as well as all the code in their **own class**.\n",
        "\n",
        "--> taking existing obj-oriented code but tailoring it to your situation to write less code\n",
        "--> eg. vehicle class might include but car and plane class. vehicle class has functionality common across all that inherit from it (e.g. check_collisions ()), but specific class might not have everything the other specific classes have (e.g. plane may have speciality class fly()) but car does not have that class)\n",
        "\n",
        "--> parent class of vehicle will always inherit from object"
      ]
    },
    {
      "cell_type": "markdown",
      "metadata": {
        "id": "fjaKQ3skHE6i"
      },
      "source": [
        "So, suppose we're dealing with data for Faculty and Students.  They have in common some things like a University ID and a birth year, but only Students have a graduation year.  We can use Inheritance to create a parent class that holds the shared fields, making them Faculty and Student *subclasses* of a base class, Client."
      ]
    },
    {
      "cell_type": "code",
      "execution_count": null,
      "metadata": {
        "id": "0izmLHYVyv1D"
      },
      "outputs": [],
      "source": [
        "class Client:  # both Faculty and Students\n",
        "  def __init__(self, birthyear, uid):\n",
        "    self.birthyear = birthyear\n",
        "    self.uid = uid\n",
        "\n",
        "  def get_uid(self):\n",
        "    return self.uid\n",
        "\n",
        "  def get_birthyear(self):\n",
        "    return self.birthyear\n",
        "\n",
        "class Student(Client):  # inherit from Client class, argument in () shows what class new class is inheriting from\n",
        "  def __init__(self, birthyear, uid, gradyear):\n",
        "    self.birthyear = birthyear\n",
        "    self.uid = uid\n",
        "    self.gradyear = gradyear\n",
        "\n",
        "  def get_gradyear(self):\n",
        "    return self.gradyear\n",
        "\n",
        "class Faculty(Client): #inheriting from client class for faculty\n",
        "  pass     # Nothing else we want to do for Faculty\n",
        "\n"
      ]
    },
    {
      "cell_type": "code",
      "execution_count": null,
      "metadata": {
        "colab": {
          "base_uri": "https://localhost:8080/"
        },
        "id": "KCb0MxmxHE6i",
        "outputId": "718c0a89-7fcc-460e-e65f-460ac2f216d6"
      },
      "outputs": [
        {
          "output_type": "stream",
          "name": "stdout",
          "text": [
            "2003\n",
            "123456789\n",
            "2024\n"
          ]
        }
      ],
      "source": [
        "alice = Student(2003, 123456789, 2024)\n",
        "print(alice.get_birthyear()) # Inherited from Client\n",
        "print(alice.get_uid())       # Inherited from Client\n",
        "print(alice.get_gradyear())  # Specific to Student"
      ]
    },
    {
      "cell_type": "markdown",
      "metadata": {
        "id": "Q2jfsSYU3E2G"
      },
      "source": [
        "We can say \"**pass**\" for the body of a class that just inherits from another one.\n",
        "\n",
        "Why just pass?  Giving things their own types is still useful because we can check a type with isinstance(), and this can catch bugs where data is not where it should be."
      ]
    },
    {
      "cell_type": "code",
      "execution_count": null,
      "metadata": {
        "colab": {
          "base_uri": "https://localhost:8080/"
        },
        "id": "ZSmCz_jx52QI",
        "outputId": "5ea0283e-7eb4-4cd0-a633-685e9add04db"
      },
      "outputs": [
        {
          "output_type": "stream",
          "name": "stdout",
          "text": [
            "Welcome, Faculty number 654321!\n"
          ]
        }
      ],
      "source": [
        "person1 = Student(2000,123456,2025)\n",
        "#person1 = Faculty(1979,654321) #remove # and try either case\n",
        "if not isinstance(person1, Faculty): #if person is not an instance of faculty\n",
        "    print(\"Hey, this person doesn't have permission to do this!\")\n",
        "else:\n",
        "    print(\"Welcome, Faculty number \" + str(person1.uid) + \"!\")"
      ]
    },
    {
      "cell_type": "markdown",
      "metadata": {
        "id": "rraltjIY6iga"
      },
      "source": [
        "Objects also count as their parent class, or any other class they inherited from."
      ]
    },
    {
      "cell_type": "code",
      "execution_count": null,
      "metadata": {
        "colab": {
          "base_uri": "https://localhost:8080/"
        },
        "id": "T9d-sCfN6gkT",
        "outputId": "908f12ca-47e6-4398-9bfb-051330eba6fe"
      },
      "outputs": [
        {
          "output_type": "stream",
          "name": "stdout",
          "text": [
            "True\n",
            "True\n",
            "True\n"
          ]
        }
      ],
      "source": [
        "student1 = Student(2000,123456,2025)\n",
        "print(isinstance(student1,Student))\n",
        "print(isinstance(student1,Client))\n",
        "print(isinstance(student1,object)) # Every class inherits from object"
      ]
    },
    {
      "cell_type": "markdown",
      "metadata": {
        "id": "t1Pw5SauhFm0"
      },
      "source": [
        "**```isinstance(object, class)```** is a very useful built-in function for checking whether an object belongs to a particular class.\n",
        "\n",
        "You can check isinstance() to **make sure it's legal** to call a subclass's functions.\n",
        "\n",
        "You can use it proactively to **prevent bugs** that result from the wrong type being passed.\n",
        "\n",
        "Or you can use it in the **middle of debugging to check your assumptions** about an object."
      ]
    },
    {
      "cell_type": "markdown",
      "metadata": {
        "id": "2ftfNBTHHE6j"
      },
      "source": [
        "## super\n",
        "\n",
        "It's likely you'll want to make use of method definitions in the parent class when writing the child's methods.  For example, Student is just a specialized Client with a gradyear, so it would make sense that the constuctor is almost the same.  You can use the super function to refer to the parent class, as in the following example."
      ]
    },
    {
      "cell_type": "code",
      "execution_count": null,
      "metadata": {
        "colab": {
          "base_uri": "https://localhost:8080/"
        },
        "id": "P4VhgAhsHE6j",
        "outputId": "34017ca0-aef0-42bd-b431-32820d038b0f"
      },
      "outputs": [
        {
          "output_type": "stream",
          "name": "stdout",
          "text": [
            "987654321\n"
          ]
        }
      ],
      "source": [
        "class Student(Client):  # inherit from Client\n",
        "  def __init__(self, birthyear, uid, gradyear):\n",
        "    super().__init__(birthyear, uid) #super calls parent constructor using __init__ --> convenient so that you dont have to rewrite code\n",
        "    self.gradyear = gradyear\n",
        "\n",
        "  def get_gradyear():\n",
        "    return self.gradyear\n",
        "\n",
        "bob = Student(2002,987654321,2022)\n",
        "print(bob.get_uid()) # inherited from Client"
      ]
    },
    {
      "cell_type": "markdown",
      "metadata": {
        "id": "fvK4LfAP7D8X"
      },
      "source": [
        "# When to use inheritance\n",
        "\n",
        "It can be difficult to know what kind of inheritance, if any, you should use in your programming.  **In general, if A inherits from B, A should satisfy an \"is-a\" relationship with B.**  A faculty member *is-a* client in the previous example.  But that doesn't tell you when it's worthwhile to go through the extra steps of making a class hierarchy.\n",
        "\n",
        "**Generally**: A inherits from B if A is a subclass of B, A is more specific than B --> more specific subclass inherits from the broader class"
      ]
    },
    {
      "cell_type": "markdown",
      "metadata": {
        "id": "0_CYfyEcHE6j"
      },
      "source": [
        "\n",
        "\n",
        "An organic approach is often used in practice:  **don't use inheritance until you see an opportunity for refactoring**, then create parent classes to get rid of the duplicated code."
      ]
    },
    {
      "cell_type": "markdown",
      "metadata": {
        "id": "dtJhsdhb4k0_"
      },
      "source": [
        "For example, suppose we had the following two classes in some kind of accounting software:"
      ]
    },
    {
      "cell_type": "code",
      "execution_count": null,
      "metadata": {
        "id": "xACAmhMa5Vt2"
      },
      "outputs": [],
      "source": [
        "class Trip:\n",
        "\n",
        "  def __init__(self,cost,start_date,end_date):\n",
        "    self.cost = cost\n",
        "    self.start_date = start_date\n",
        "    self.end_date = end_date\n",
        "    self.reimbursed = False\n",
        "\n",
        "  def cost(self):\n",
        "    return self.cost\n",
        "\n",
        "  def reimburse(self):\n",
        "    self.reimbursed = True\n",
        "\n",
        "  def dates(self):\n",
        "    return self.startDate, self.endDate\n",
        "\n",
        "class EquipmentOrder:\n",
        "  def __init__(self,cost,domestic_seller):\n",
        "    self.cost = cost\n",
        "    self.reimbursed = False\n",
        "    self.domestic_seller = domestic_seller\n",
        "\n",
        "  def cost(self):\n",
        "    return self.cost\n",
        "\n",
        "  def reimburse(self):\n",
        "    self.reimbursed = True\n",
        "\n",
        "  def domestic_seller(self):\n",
        "    return self.domestic_seller"
      ]
    },
    {
      "cell_type": "markdown",
      "metadata": {
        "id": "y401oBHd6he4"
      },
      "source": [
        "This is the kind of situation that lends itself to **refactoring** - not only do these two classes share some information about being expenses, but they're only likely to get more shared functionality in the future.  So here's a refactoring that uses inheritance."
      ]
    },
    {
      "cell_type": "code",
      "execution_count": null,
      "metadata": {
        "id": "hTvkX8dH61NV"
      },
      "outputs": [],
      "source": [
        "class Expense:\n",
        "  def __init__(self,cost):\n",
        "    self.cost = cost\n",
        "    self.reimbursed = False\n",
        "\n",
        "  def cost(self):\n",
        "    return self.cost\n",
        "\n",
        "  def reimburse(self):\n",
        "    self.reimbursed = True\n",
        "\n",
        "class Trip(Expense):\n",
        "  def __init__(self,cost,start_date,end_date):\n",
        "    super().__init__(cost)\n",
        "    self.start_date = start_date\n",
        "    self.end_date = end_date\n",
        "\n",
        "  # inherit cost, reimburse\n",
        "\n",
        "  def dates(self):\n",
        "    return self.start_date, self.end_date\n",
        "\n",
        "class EquipmentOrder(Expense):\n",
        "  def __init__(self,cost,domestic_seller): #new code written is only specific to equipment order, the rest is using super\n",
        "    super().__init__(cost)\n",
        "    self.domestic_seller = domestic_seller\n",
        "\n",
        "  # inherit cost, reimburse\n",
        "\n",
        "  def domestic_seller(self):\n",
        "    return self.domestic_seller"
      ]
    },
    {
      "cell_type": "markdown",
      "metadata": {
        "id": "ne8tzGqe9MPL"
      },
      "source": [
        "# Brief discussion questions\n",
        "\n",
        "Suppose I have a new expense type, Conference.  It has start and end dates and a cost, so it's similar to Trip, but it also has a Boolean field \"presented.\"  Should it inherit from Trip, inherit from Expense, or do something else?\n",
        "\n",
        "--> Ans: inherit from trip, bc conference is a kind of trip"
      ]
    },
    {
      "cell_type": "markdown",
      "metadata": {
        "id": "tKhdysV4HE6j"
      },
      "source": [
        "\n",
        "Another object type that could fit in as an expense is a Party, which is like a Trip except there's just a start date.  Inherit from Trip, inherit from Expense, or do something else?\n",
        "\n",
        "--> Ans: less information shared with trip, no end date (trip is more specific), thus inherit from expense!"
      ]
    },
    {
      "cell_type": "markdown",
      "metadata": {
        "id": "G3Rmma1XHE6j"
      },
      "source": [
        "# Exercise (5 min)\n",
        "\n",
        "Below are two classes with similar fields and methods.  Rewrite the code in the box that follows so that the two classes inherit from a single class, Worker, and give that class the shared method, give_raise(), as well as a constructor from which the two classes can derive their own constructors."
      ]
    },
    {
      "cell_type": "code",
      "execution_count": null,
      "metadata": {
        "colab": {
          "base_uri": "https://localhost:8080/"
        },
        "id": "Fxq-uGMVHE6j",
        "outputId": "bf187e35-7b56-4149-fe06-1598292299f7"
      },
      "outputs": [
        {
          "output_type": "stream",
          "name": "stdout",
          "text": [
            "100000\n",
            "90000\n"
          ]
        }
      ],
      "source": [
        "class Employee:\n",
        "    def __init__(self, name, salary, title, years_of_service):\n",
        "        self.name = name\n",
        "        self.salary = salary\n",
        "        self.title = title\n",
        "        self.years_of_service = years_of_service\n",
        "\n",
        "    def give_raise(self, raise_amount):\n",
        "        self.salary += raise_amount\n",
        "\n",
        "    def change_title(self, new_title):\n",
        "        self.title = new_title\n",
        "\n",
        "    def update_years_of_service(self, increase):\n",
        "        self.years_of_service += increase\n",
        "\n",
        "class Contractor:\n",
        "    def __init__(self, name, salary, contract_duration):\n",
        "        self.name = name\n",
        "        self.salary = salary\n",
        "        self.contract_duration = contract_duration\n",
        "\n",
        "    def give_raise(self, raise_amount):\n",
        "        self.salary += raise_amount\n",
        "\n",
        "alice = Employee(\"Alice\", 90000, \"Manager\", 7)\n",
        "alice.give_raise(10000)\n",
        "print(alice.salary)\n",
        "bob = Contractor(\"Bob\", 80000, 2)\n",
        "bob.give_raise(10000)\n",
        "print(bob.salary)"
      ]
    },
    {
      "cell_type": "code",
      "execution_count": null,
      "metadata": {
        "id": "Z84o2XBUHE6j"
      },
      "outputs": [],
      "source": [
        "class Worker:\n",
        "    # TODO\n",
        "\n",
        "class Employee:\n",
        "    # TODO\n",
        "\n",
        "class Contractor:\n",
        "    # TODO\n",
        "\n",
        "# This stuff should still work\n",
        "alice = Employee(\"Alice\", 90000, \"Manager\", 7)\n",
        "alice.give_raise(10000)\n",
        "print(alice.salary)\n",
        "bob = Contractor(\"Bob\", 80000, 2)\n",
        "bob.give_raise(10000)\n",
        "print(bob.salary)"
      ]
    },
    {
      "cell_type": "markdown",
      "metadata": {
        "id": "RAnkWP1j69Iy"
      },
      "source": [
        "# Commonly overridden functions\n",
        "\n",
        "All objects inherit from the python Object class, which has default ways of doing particular things, like checking for equality or copying.  Often, they don't work the way you'd like for your particular object.\n",
        "\n",
        "**To \"override\" a method is to rewrite it in your class so that it works differently from a parent's implementation.**  (When parent and child disagree about how a method works, the child takes precedence and overrides the parent.)\n",
        "\n"
      ]
    },
    {
      "cell_type": "markdown",
      "metadata": {
        "id": "ONMQeODYHE6k"
      },
      "source": [
        "Here are some common built-in methods of the *object* class that you may want to override.\n",
        "\n",
        "1.   ```__str__()```: Gets the string representation for your object.  The default for an object is just its address in memory, which isn't usually useful.\n",
        "\n",
        "//always gets called when we try to print smth//"
      ]
    },
    {
      "cell_type": "markdown",
      "metadata": {
        "id": "rdAQtdrOHE6k"
      },
      "source": [
        "2.  ```__eq__()```:  Determine equality with another object.  By default, never true unless it is literally the same object, so this is often overridden.  Also necessary for ```__hash__()```, next.\n",
        "\n",
        "//how to determine wherther two onjects are equal or not//"
      ]
    },
    {
      "cell_type": "markdown",
      "metadata": {
        "id": "DoPgqcH8HE6k"
      },
      "source": [
        "3.  ```__hash__()```:  Compute a hash function on your object.  You may need to implement this if you want to use your object as a key or item in a dictionary or set.  You need to override ```__eq__()``` as well, and make objects that are equal have the same hash code.\n",
        "\n",
        "A common easy hash is to just cast to a string, then call the string hash() function.\n",
        "\n",
        "//where items will go//"
      ]
    },
    {
      "cell_type": "code",
      "execution_count": null,
      "metadata": {
        "id": "uiEFZL_N-Muh",
        "colab": {
          "base_uri": "https://localhost:8080/"
        },
        "outputId": "b72e4eb3-eef6-430d-a931-54a532b5e291"
      },
      "outputs": [
        {
          "output_type": "stream",
          "name": "stdout",
          "text": [
            "<__main__.Gradyear object at 0x7da3b167ddb0>\n"
          ]
        }
      ],
      "source": [
        "# Bad built-in str, just spits out address\n",
        "class Gradyear:\n",
        "  def __init__(self, year):\n",
        "    self.year = year\n",
        "\n",
        "year = Gradyear(2024)\n",
        "print(year)\n",
        "\n",
        "#did not override __str__ so it is using the default obj for str --> prints type of obj and its location in memory"
      ]
    },
    {
      "cell_type": "code",
      "execution_count": null,
      "metadata": {
        "id": "Ohk9G1xX-v0T",
        "colab": {
          "base_uri": "https://localhost:8080/"
        },
        "outputId": "62843736-d4df-4311-c038-ce03f6a09d9c"
      },
      "outputs": [
        {
          "output_type": "stream",
          "name": "stdout",
          "text": [
            "2024\n"
          ]
        }
      ],
      "source": [
        "# Do-over with str overridden - print something more useful than the memory address\n",
        "class Gradyear:\n",
        "  def __init__(self, year):\n",
        "    self.year = year\n",
        "\n",
        "  def __str__(self):    # Our own implementation, overriding str\n",
        "    return str(self.year) #defining smth with the same name that you wanna override\n",
        "\n",
        "gradyear = Gradyear(2024)\n",
        "print(gradyear)"
      ]
    },
    {
      "cell_type": "code",
      "execution_count": null,
      "metadata": {
        "id": "FpYny3ROATne",
        "colab": {
          "base_uri": "https://localhost:8080/"
        },
        "outputId": "3096c6f2-72ff-4071-dee8-18263b89c24e"
      },
      "outputs": [
        {
          "output_type": "stream",
          "name": "stdout",
          "text": [
            "False\n"
          ]
        },
        {
          "output_type": "execute_result",
          "data": {
            "text/plain": [
              "2"
            ]
          },
          "metadata": {},
          "execution_count": 3
        }
      ],
      "source": [
        "# But equals, hash behavior are still odd\n",
        "\n",
        "gy1 = Gradyear(2024)\n",
        "gy2 = Gradyear(2024)\n",
        "print(gy1 == gy2) #checking if gy1 is equal to gy2 --> is it true or false? --> ans is false __eq__ is not rewritten\n",
        "myset = set()\n",
        "myset.add(gy1)\n",
        "myset.add(gy2)\n",
        "len(myset) #did not override hash, so each will go into diff places in the set, count as diff items"
      ]
    },
    {
      "cell_type": "code",
      "execution_count": null,
      "metadata": {
        "id": "lPB5GXdbAC7o",
        "colab": {
          "base_uri": "https://localhost:8080/"
        },
        "outputId": "d0b50109-9fb5-457f-a5da-f5c1b7a5d397"
      },
      "outputs": [
        {
          "output_type": "stream",
          "name": "stdout",
          "text": [
            "True\n"
          ]
        },
        {
          "output_type": "execute_result",
          "data": {
            "text/plain": [
              "1"
            ]
          },
          "metadata": {},
          "execution_count": 4
        }
      ],
      "source": [
        "# Example of equals, hash override\n",
        "class Gradyear:\n",
        "  def __init__(self, year):\n",
        "    self.year = year\n",
        "\n",
        "  def __str__(self):    # Our own implementation\n",
        "    return str(self.year)\n",
        "\n",
        "  def __eq__(self, other):\n",
        "    return self.year == other.year #as long as years are equal, they are equal\n",
        "\n",
        "  def __hash__(self): #override hash\n",
        "    return self.year # Just store by number itself\n",
        "\n",
        "gy1 = Gradyear(2024)\n",
        "gy2 = Gradyear(2024)\n",
        "print(gy1 == gy2)\n",
        "myset = set()\n",
        "myset.add(gy1)\n",
        "myset.add(gy2)\n",
        "len(myset)"
      ]
    }
  ],
  "metadata": {
    "celltoolbar": "Slideshow",
    "colab": {
      "provenance": [],
      "include_colab_link": true
    },
    "kernelspec": {
      "display_name": "Python 3 (ipykernel)",
      "language": "python",
      "name": "python3"
    },
    "language_info": {
      "codemirror_mode": {
        "name": "ipython",
        "version": 3
      },
      "file_extension": ".py",
      "mimetype": "text/x-python",
      "name": "python",
      "nbconvert_exporter": "python",
      "pygments_lexer": "ipython3",
      "version": "3.8.8"
    },
    "rise": {
      "scroll": true
    }
  },
  "nbformat": 4,
  "nbformat_minor": 0
}