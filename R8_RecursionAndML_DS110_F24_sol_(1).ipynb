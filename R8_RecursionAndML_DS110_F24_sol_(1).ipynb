{
  "cells": [
    {
      "cell_type": "markdown",
      "metadata": {
        "id": "view-in-github",
        "colab_type": "text"
      },
      "source": [
        "<a href=\"https://colab.research.google.com/github/nicsim22/DS110-Content/blob/main/R8_RecursionAndML_DS110_F24_sol_(1).ipynb\" target=\"_parent\"><img src=\"https://colab.research.google.com/assets/colab-badge.svg\" alt=\"Open In Colab\"/></a>"
      ]
    },
    {
      "cell_type": "markdown",
      "metadata": {
        "id": "Pd4Lbfy5oUC0"
      },
      "source": [
        "This notebook requires \"Average Temperature of Cities Short.csv\"."
      ]
    },
    {
      "cell_type": "markdown",
      "metadata": {
        "id": "YpjCm390oUC3"
      },
      "source": [
        "# Recursion"
      ]
    },
    {
      "cell_type": "markdown",
      "metadata": {
        "id": "7UgMAsmboUC3"
      },
      "source": [
        "1.  Write a recursive function that, given an argument of n, counts down with print statements from n to 0.  Be sure the code is recursive instead of iterative (no loops); a countdown consists of printing n and then counting down from n-1."
      ]
    },
    {
      "cell_type": "code",
      "execution_count": null,
      "metadata": {
        "id": "DaClJmkkoUC3"
      },
      "outputs": [],
      "source": [
        "def countdown(n):\n",
        "  if n < 0:\n",
        "    return\n",
        "  print(n)\n",
        "  countdown(n-1)\n",
        "\n",
        "countdown(5)"
      ]
    },
    {
      "cell_type": "markdown",
      "metadata": {
        "id": "txNJhLmCoUC4"
      },
      "source": [
        "2.  Write function that *recursively* checks whether a string is a palindrome, which reads the same forward and backward (like \"ere\" or \"kayak\".  You can count the empty string and all one letter strings as palindromes.  Hint: make your recursive call on s[1:-1], the string that starts with the second letter and ends with the second-to-last letter."
      ]
    },
    {
      "cell_type": "code",
      "execution_count": null,
      "metadata": {
        "id": "CYPaLuE8oUC4"
      },
      "outputs": [],
      "source": [
        "def palindrome(s):\n",
        "    if len(s) == 1 or len(s) == 0:\n",
        "        return True\n",
        "    if s[0] != s[-1]:\n",
        "        return False\n",
        "    return palindrome(s[1:-1])"
      ]
    },
    {
      "cell_type": "code",
      "execution_count": null,
      "metadata": {
        "id": "Q5uNK_h5oUC4",
        "outputId": "02899873-c057-4847-cc44-0bf94a1b9725"
      },
      "outputs": [
        {
          "name": "stdout",
          "output_type": "stream",
          "text": [
            "True\n",
            "True\n",
            "True\n",
            "False\n"
          ]
        }
      ],
      "source": [
        "print(palindrome('')) # Expect True\n",
        "print(palindrome('a')) # Expect True\n",
        "print(palindrome('kayak')) # Expect True\n",
        "print(palindrome('greeting')) # Expect False"
      ]
    },
    {
      "cell_type": "markdown",
      "metadata": {
        "id": "SeNjdVwtIcYA"
      },
      "source": [
        "# Recursion and Trees"
      ]
    },
    {
      "cell_type": "markdown",
      "metadata": {
        "id": "gF8AgURMeAs0"
      },
      "source": [
        "1. Write a recursive function tree_sum() that takes a BinaryTree as input, and returns the sum of all the values stored in the tree.  Hint:  the sum is equal to the value at the current node, plus the sum of the left subtree, plus the sum of the right subtree."
      ]
    },
    {
      "cell_type": "code",
      "execution_count": null,
      "metadata": {
        "id": "DwYvk2RgIfQi"
      },
      "outputs": [],
      "source": [
        "class BinaryTree:\n",
        "\n",
        "  def __init__(self, val, left, right):\n",
        "    self.val = val\n",
        "    self.left = left\n",
        "    self.right = right"
      ]
    },
    {
      "cell_type": "code",
      "execution_count": null,
      "metadata": {
        "id": "i3OhKz9QfXEQ"
      },
      "outputs": [],
      "source": [
        "def tree_sum(tree):\n",
        "  if tree is None:\n",
        "    return 0\n",
        "  return tree.val + tree_sum(tree.left) + tree_sum(tree.right)"
      ]
    },
    {
      "cell_type": "code",
      "execution_count": null,
      "metadata": {
        "colab": {
          "base_uri": "https://localhost:8080/"
        },
        "id": "zVrmCku2IRgB",
        "outputId": "15c5a8fa-cf95-40c2-b58a-7c3bffe15c6b"
      },
      "outputs": [
        {
          "data": {
            "text/plain": [
              "21"
            ]
          },
          "execution_count": 14,
          "metadata": {},
          "output_type": "execute_result"
        }
      ],
      "source": [
        "# Test\n",
        "my_tree = BinaryTree(1, BinaryTree(2, BinaryTree(3, None, None), None),\n",
        "                        BinaryTree(4, BinaryTree(5, None, None),\n",
        "                                      BinaryTree(6, None, None)))\n",
        "\n",
        "tree_sum(my_tree) # Expect 21"
      ]
    },
    {
      "cell_type": "markdown",
      "metadata": {
        "id": "sdG7vjJloUC6"
      },
      "source": [
        "2.  Write a recursive function leaves() that counts and returns the number of leaves of a binary tree.  (A node is a leaf if it has no children.)"
      ]
    },
    {
      "cell_type": "code",
      "execution_count": null,
      "metadata": {
        "id": "cJEZU70UoUC6"
      },
      "outputs": [],
      "source": [
        "def leaves(tree):\n",
        "    if tree is None:\n",
        "        return 0\n",
        "    if (tree.left is None) and (tree.right is None):\n",
        "        return 1\n",
        "    return leaves(tree.left) + leaves(tree.right)"
      ]
    },
    {
      "cell_type": "code",
      "execution_count": null,
      "metadata": {
        "id": "Gf9HUwhBoUC6",
        "outputId": "cda0a688-de48-48e6-9b6e-e2671f39d5ee"
      },
      "outputs": [
        {
          "data": {
            "text/plain": [
              "3"
            ]
          },
          "execution_count": 16,
          "metadata": {},
          "output_type": "execute_result"
        }
      ],
      "source": [
        "leaves(my_tree) # Expect 3"
      ]
    },
    {
      "cell_type": "markdown",
      "metadata": {
        "id": "xJFtuTwwoUC6"
      },
      "source": [
        "# Tool focus:  Geolocation\n",
        "\n",
        "Suppose you have geographic information in your data, like the town where a sale took place:  \"Somerville, MA.\"  If you want to feed this data to machine learning, a decision-tree based learner is limited in the kinds of rules it can make using this data.  It could ask whether city == \"Somerville,\" but it couldn't easily ask whether the city is near the Pacific Ocean.\n",
        "\n",
        "However, there are libraries for converting location names to latitude and longitude.  If you want to learn a rule like \"a 'yes' is more common for farther north towns,\" or even \"a 'yes' is more common near the coasts,\" then converting location to latitude and longitude before handing the data to the classifier (called \"geocoding\") is a good way to go."
      ]
    },
    {
      "cell_type": "code",
      "execution_count": null,
      "metadata": {
        "id": "bp1DtV0QoUC6",
        "outputId": "be1fec5e-32b9-4c2d-bcd4-ac4df29fbff7"
      },
      "outputs": [
        {
          "name": "stdout",
          "output_type": "stream",
          "text": [
            "Requirement already satisfied: geopy in /opt/anaconda3/lib/python3.8/site-packages (2.3.0)\r\n",
            "Requirement already satisfied: geographiclib<3,>=1.52 in /opt/anaconda3/lib/python3.8/site-packages (from geopy) (2.0)\r\n"
          ]
        }
      ],
      "source": [
        "!pip3 install geopy # install geopy module\n",
        "\n",
        "from geopy.geocoders import Nominatim  # Nominatim powers www.openstreetmap.org\n",
        "app = Nominatim(user_agent=\"ds110_yourname\")\n",
        "location = app.geocode(\"Somerville, MA\")"
      ]
    },
    {
      "cell_type": "markdown",
      "metadata": {
        "id": "kWA-rtYRoUC6"
      },
      "source": [
        "location.raw is a dictionary with a variety of information about the location, including the latitude and longitude."
      ]
    },
    {
      "cell_type": "code",
      "execution_count": null,
      "metadata": {
        "id": "NROLc-bDoUC6",
        "outputId": "00c15b9d-aead-46fb-d6c8-671a45b94645"
      },
      "outputs": [
        {
          "data": {
            "text/plain": [
              "{'place_id': 298357187,\n",
              " 'licence': 'Data © OpenStreetMap contributors, ODbL 1.0. http://osm.org/copyright',\n",
              " 'osm_type': 'relation',\n",
              " 'osm_id': 1933746,\n",
              " 'lat': '42.3875968',\n",
              " 'lon': '-71.0994968',\n",
              " 'class': 'boundary',\n",
              " 'type': 'administrative',\n",
              " 'place_rank': 16,\n",
              " 'importance': 0.5054203613843686,\n",
              " 'addresstype': 'city',\n",
              " 'name': 'Somerville',\n",
              " 'display_name': 'Somerville, Middlesex County, Massachusetts, United States',\n",
              " 'boundingbox': ['42.3725268', '42.4181555', '-71.1346350', '-71.0726884']}"
            ]
          },
          "execution_count": 17,
          "metadata": {},
          "output_type": "execute_result"
        }
      ],
      "source": [
        "location.raw"
      ]
    },
    {
      "cell_type": "code",
      "execution_count": null,
      "metadata": {
        "id": "lZxk-8U0oUC6",
        "outputId": "4349cb89-d387-4747-e3ac-bd9038ca7e30"
      },
      "outputs": [
        {
          "name": "stdout",
          "output_type": "stream",
          "text": [
            "42.3875968\n",
            "-71.0994968\n"
          ]
        }
      ],
      "source": [
        "print(location.raw['lat'])\n",
        "print(location.raw['lon'])"
      ]
    },
    {
      "cell_type": "markdown",
      "metadata": {
        "id": "ylmiznH4oUC6"
      },
      "source": [
        "We can now see what this looks like when used to augment an actual dataset.  Note that one additional concern is that this API only allows one call per second, or else it creates an error, to avoid surges in traffic that overwhelms the server.  So the code can \"sleep\" for 1 second between queries."
      ]
    },
    {
      "cell_type": "code",
      "execution_count": null,
      "metadata": {
        "id": "61Ndn4PooUC6"
      },
      "outputs": [],
      "source": [
        "# Skip this cell if not working in Google Colab\n",
        "from google.colab import files\n",
        "\n",
        "uploaded = files.upload()"
      ]
    },
    {
      "cell_type": "code",
      "execution_count": null,
      "metadata": {
        "id": "MfJq97wQoUC6",
        "outputId": "925871da-d5d5-4a88-cee1-33bfbcd1d233"
      },
      "outputs": [
        {
          "data": {
            "text/html": [
              "<div>\n",
              "<style scoped>\n",
              "    .dataframe tbody tr th:only-of-type {\n",
              "        vertical-align: middle;\n",
              "    }\n",
              "\n",
              "    .dataframe tbody tr th {\n",
              "        vertical-align: top;\n",
              "    }\n",
              "\n",
              "    .dataframe thead th {\n",
              "        text-align: right;\n",
              "    }\n",
              "</style>\n",
              "<table border=\"1\" class=\"dataframe\">\n",
              "  <thead>\n",
              "    <tr style=\"text-align: right;\">\n",
              "      <th></th>\n",
              "      <th>Country</th>\n",
              "      <th>City</th>\n",
              "      <th>Jan</th>\n",
              "      <th>Feb</th>\n",
              "      <th>Mar</th>\n",
              "      <th>Apr</th>\n",
              "      <th>May</th>\n",
              "      <th>Jun</th>\n",
              "      <th>Jul</th>\n",
              "      <th>Aug</th>\n",
              "      <th>Sep</th>\n",
              "      <th>Oct</th>\n",
              "      <th>Nov</th>\n",
              "      <th>Dec</th>\n",
              "      <th>Year</th>\n",
              "      <th>Continent</th>\n",
              "    </tr>\n",
              "  </thead>\n",
              "  <tbody>\n",
              "    <tr>\n",
              "      <th>0</th>\n",
              "      <td>Algeria</td>\n",
              "      <td>Algiers</td>\n",
              "      <td>11.2\\n(52.2)</td>\n",
              "      <td>11.9\\n(53.4)</td>\n",
              "      <td>12.8\\n(55.0)</td>\n",
              "      <td>14.7\\n(58.5)</td>\n",
              "      <td>17.7\\n(63.9)</td>\n",
              "      <td>21.3\\n(70.3)</td>\n",
              "      <td>24.6\\n(76.3)</td>\n",
              "      <td>25.2\\n(77.4)</td>\n",
              "      <td>23.2\\n(73.8)</td>\n",
              "      <td>19.4\\n(66.9)</td>\n",
              "      <td>15.2\\n(59.4)</td>\n",
              "      <td>12.1\\n(53.8)</td>\n",
              "      <td>17.4\\n(63.3)</td>\n",
              "      <td>AFRICA</td>\n",
              "    </tr>\n",
              "    <tr>\n",
              "      <th>1</th>\n",
              "      <td>Algeria</td>\n",
              "      <td>Tamanrasset</td>\n",
              "      <td>12.8\\n(55.0)</td>\n",
              "      <td>15.0\\n(59.0)</td>\n",
              "      <td>18.1\\n(64.6)</td>\n",
              "      <td>22.2\\n(72.0)</td>\n",
              "      <td>26.1\\n(79.0)</td>\n",
              "      <td>28.9\\n(84.0)</td>\n",
              "      <td>28.7\\n(83.7)</td>\n",
              "      <td>28.2\\n(82.8)</td>\n",
              "      <td>26.5\\n(79.7)</td>\n",
              "      <td>22.4\\n(72.3)</td>\n",
              "      <td>17.3\\n(63.1)</td>\n",
              "      <td>13.9\\n(57.0)</td>\n",
              "      <td>21.7\\n(71.1)</td>\n",
              "      <td>AFRICA</td>\n",
              "    </tr>\n",
              "    <tr>\n",
              "      <th>2</th>\n",
              "      <td>Algeria</td>\n",
              "      <td>Reggane</td>\n",
              "      <td>16.0\\n(60.8)</td>\n",
              "      <td>18.2\\n(64.8)</td>\n",
              "      <td>23.1\\n(73.6)</td>\n",
              "      <td>27.9\\n(82.2)</td>\n",
              "      <td>32.2\\n(90.0)</td>\n",
              "      <td>36.4\\n(97.5)</td>\n",
              "      <td>39.8\\n(103.6)</td>\n",
              "      <td>38.4\\n(101.1)</td>\n",
              "      <td>35.5\\n(95.9)</td>\n",
              "      <td>29.2\\n(84.6)</td>\n",
              "      <td>22.0\\n(71.6)</td>\n",
              "      <td>17.8\\n(64.0)</td>\n",
              "      <td>28.3\\n(82.9)</td>\n",
              "      <td>AFRICA</td>\n",
              "    </tr>\n",
              "    <tr>\n",
              "      <th>3</th>\n",
              "      <td>Angola</td>\n",
              "      <td>Luanda</td>\n",
              "      <td>26.7\\n(80.1)</td>\n",
              "      <td>28.5\\n(83.3)</td>\n",
              "      <td>28.6\\n(83.5)</td>\n",
              "      <td>28.2\\n(82.8)</td>\n",
              "      <td>27.0\\n(80.6)</td>\n",
              "      <td>23.9\\n(75.0)</td>\n",
              "      <td>22.1\\n(71.8)</td>\n",
              "      <td>22.1\\n(71.8)</td>\n",
              "      <td>23.5\\n(74.3)</td>\n",
              "      <td>25.2\\n(77.4)</td>\n",
              "      <td>26.7\\n(80.1)</td>\n",
              "      <td>26.9\\n(80.4)</td>\n",
              "      <td>25.8\\n(78.4)</td>\n",
              "      <td>AFRICA</td>\n",
              "    </tr>\n",
              "    <tr>\n",
              "      <th>4</th>\n",
              "      <td>Benin</td>\n",
              "      <td>Cotonou</td>\n",
              "      <td>27.3\\n(81.1)</td>\n",
              "      <td>28.5\\n(83.3)</td>\n",
              "      <td>28.9\\n(84.0)</td>\n",
              "      <td>28.6\\n(83.5)</td>\n",
              "      <td>27.8\\n(82.0)</td>\n",
              "      <td>26.5\\n(79.7)</td>\n",
              "      <td>25.8\\n(78.4)</td>\n",
              "      <td>25.6\\n(78.1)</td>\n",
              "      <td>26.0\\n(78.8)</td>\n",
              "      <td>26.7\\n(80.1)</td>\n",
              "      <td>27.6\\n(81.7)</td>\n",
              "      <td>27.3\\n(81.1)</td>\n",
              "      <td>27.2\\n(81.0)</td>\n",
              "      <td>AFRICA</td>\n",
              "    </tr>\n",
              "  </tbody>\n",
              "</table>\n",
              "</div>"
            ],
            "text/plain": [
              "   Country         City           Jan           Feb           Mar  \\\n",
              "0  Algeria      Algiers  11.2\\n(52.2)  11.9\\n(53.4)  12.8\\n(55.0)   \n",
              "1  Algeria  Tamanrasset  12.8\\n(55.0)  15.0\\n(59.0)  18.1\\n(64.6)   \n",
              "2  Algeria      Reggane  16.0\\n(60.8)  18.2\\n(64.8)  23.1\\n(73.6)   \n",
              "3   Angola       Luanda  26.7\\n(80.1)  28.5\\n(83.3)  28.6\\n(83.5)   \n",
              "4    Benin      Cotonou  27.3\\n(81.1)  28.5\\n(83.3)  28.9\\n(84.0)   \n",
              "\n",
              "            Apr           May           Jun            Jul            Aug  \\\n",
              "0  14.7\\n(58.5)  17.7\\n(63.9)  21.3\\n(70.3)   24.6\\n(76.3)   25.2\\n(77.4)   \n",
              "1  22.2\\n(72.0)  26.1\\n(79.0)  28.9\\n(84.0)   28.7\\n(83.7)   28.2\\n(82.8)   \n",
              "2  27.9\\n(82.2)  32.2\\n(90.0)  36.4\\n(97.5)  39.8\\n(103.6)  38.4\\n(101.1)   \n",
              "3  28.2\\n(82.8)  27.0\\n(80.6)  23.9\\n(75.0)   22.1\\n(71.8)   22.1\\n(71.8)   \n",
              "4  28.6\\n(83.5)  27.8\\n(82.0)  26.5\\n(79.7)   25.8\\n(78.4)   25.6\\n(78.1)   \n",
              "\n",
              "            Sep           Oct           Nov           Dec          Year  \\\n",
              "0  23.2\\n(73.8)  19.4\\n(66.9)  15.2\\n(59.4)  12.1\\n(53.8)  17.4\\n(63.3)   \n",
              "1  26.5\\n(79.7)  22.4\\n(72.3)  17.3\\n(63.1)  13.9\\n(57.0)  21.7\\n(71.1)   \n",
              "2  35.5\\n(95.9)  29.2\\n(84.6)  22.0\\n(71.6)  17.8\\n(64.0)  28.3\\n(82.9)   \n",
              "3  23.5\\n(74.3)  25.2\\n(77.4)  26.7\\n(80.1)  26.9\\n(80.4)  25.8\\n(78.4)   \n",
              "4  26.0\\n(78.8)  26.7\\n(80.1)  27.6\\n(81.7)  27.3\\n(81.1)  27.2\\n(81.0)   \n",
              "\n",
              "  Continent  \n",
              "0    AFRICA  \n",
              "1    AFRICA  \n",
              "2    AFRICA  \n",
              "3    AFRICA  \n",
              "4    AFRICA  "
            ]
          },
          "execution_count": 24,
          "metadata": {},
          "output_type": "execute_result"
        }
      ],
      "source": [
        "import pandas as pd\n",
        "# from Kaggle, shortened to 100 cities\n",
        "df = pd.read_csv('Average Temperature of Cities Short.csv')\n",
        "df.head()"
      ]
    },
    {
      "cell_type": "markdown",
      "metadata": {
        "id": "0noyb9aOoUC6"
      },
      "source": [
        "Use the earlier example to finish this code."
      ]
    },
    {
      "cell_type": "code",
      "execution_count": null,
      "metadata": {
        "id": "G6dFU5OToUC6",
        "outputId": "18acc424-7b2a-4758-b2f4-2fa6b6b70dd1"
      },
      "outputs": [
        {
          "name": "stdout",
          "output_type": "stream",
          "text": [
            "0 Algiers, Algeria\n",
            "1 Tamanrasset, Algeria\n",
            "2 Reggane, Algeria\n",
            "3 Luanda, Angola\n",
            "4 Cotonou, Benin\n",
            "5 Parakou, Benin\n",
            "6 Kandi, Benin\n",
            "7 Maun, Botswana\n",
            "8 Gaborone, Botswana\n",
            "9 Ghanzi, Botswana\n",
            "10 Ouagadougou, Burkina Faso\n",
            "11 Ouahigouya, Burkina Faso\n",
            "12 Bujumbura, Burundi\n",
            "13 Garoua, Cameroon\n",
            "14 Ngaoundéré, Cameroon\n",
            "15 Douala, Cameroon\n",
            "16 Yaoundé, Cameroon\n",
            "17 Praia, Cape Verde\n",
            "18 Bangui, Central African Republic\n",
            "19 Birao, Central African Republic\n",
            "20 N'Djamena, Chad\n",
            "21 Abéché, Chad\n",
            "22 Kinshasa, Democratic Republic of the Congo\n",
            "23 Lubumbashi, Democratic Republic of the Congo\n",
            "24 Djibouti, Djibouti\n",
            "25 Cairo, Egypt\n",
            "26 Alexandria, Egypt\n",
            "27 Bata, Equatorial Guinea\n",
            "28 Malabo, Equatorial Guinea\n",
            "29 Asmara, Eritrea\n",
            "30 Assab, Eritrea\n",
            "31 Mek'ele, Ethiopia\n",
            "32 Addis Ababa, Ethiopia\n",
            "33 Libreville, Gabon\n",
            "34 Port-Gentil, Gabon\n",
            "35 Banjul, The Gambia\n",
            "36 Accra, Ghana\n",
            "37 Tamale, Ghana\n",
            "38 Kumasi, Ghana\n",
            "39 Conakry, Guinea\n",
            "40 Kankan, Guinea\n",
            "41 Bissau, Guinea-Bissau\n",
            "42 Gagnoa, Ivory Coast\n",
            "43 Bouaké, Ivory Coast\n",
            "44 Abidjan, Ivory Coast\n",
            "45 Odienné, Ivory Coast\n",
            "46 Mombasa, Kenya\n",
            "47 Nairobi, Kenya\n",
            "48 Garissa, Kenya\n",
            "49 Lodwar, Kenya\n",
            "50 Tripoli, Libya\n",
            "51 Benghazi, Libya\n",
            "52 Fianarantsoa, Madagascar\n",
            "53 Toamasina, Madagascar\n",
            "54 Antananarivo, Madagascar\n",
            "55 Antsiranana, Madagascar\n",
            "56 Mahajanga, Madagascar\n",
            "57 Toliara, Madagascar\n",
            "58 Karonga, Malawi\n",
            "59 Blantyre, Malawi\n",
            "60 Mzuzu, Malawi\n",
            "61 Ségou, Mali\n",
            "62 Timbuktu, Mali\n",
            "63 Bamako, Mali\n",
            "64 Nouadhibou, Mauritania\n",
            "65 Nouakchott, Mauritania\n",
            "66 Rabat, Morocco\n",
            "67 Marrakesh, Morocco\n",
            "68 Ouarzazate, Morocco\n",
            "69 Maputo, Mozambique\n",
            "70 Niamey, Niger\n",
            "71 Lagos, Nigeria\n",
            "72 Makurdi, Nigeria\n",
            "73 Jos, Nigeria\n",
            "74 Kano, Nigeria\n",
            "75 Sokoto, Nigeria\n",
            "76 Brazzaville, Republic of the Congo\n",
            "77 Pointe-Noire, Republic of the Congo\n",
            "78 Dolisie, Republic of the Congo\n",
            "79 Dakar, Senegal\n",
            "80 Thiès, Senegal\n",
            "81 Bosaso, Somalia\n",
            "82 Hargeisa, Somalia\n",
            "83 Mogadishu, Somalia\n",
            "84 Pretoria, South Africa\n",
            "85 Cape Town, South Africa\n",
            "86 Johannesburg, South Africa\n",
            "87 Bloemfontein, South Africa\n",
            "88 Upington, South Africa\n",
            "89 Durban, South Africa\n",
            "90 Juba, South Sudan\n",
            "91 Wau, South Sudan\n",
            "92 Port Sudan, Sudan\n",
            "93 Khartoum, Sudan\n",
            "94 Dar es Salaam, Tanzania\n",
            "95 Zanzibar City, Tanzania\n",
            "96 Tabora, Tanzania\n",
            "97 Dodoma, Tanzania\n",
            "98 Lomé, Togo\n",
            "99 Mango, Togo\n"
          ]
        },
        {
          "data": {
            "text/html": [
              "<div>\n",
              "<style scoped>\n",
              "    .dataframe tbody tr th:only-of-type {\n",
              "        vertical-align: middle;\n",
              "    }\n",
              "\n",
              "    .dataframe tbody tr th {\n",
              "        vertical-align: top;\n",
              "    }\n",
              "\n",
              "    .dataframe thead th {\n",
              "        text-align: right;\n",
              "    }\n",
              "</style>\n",
              "<table border=\"1\" class=\"dataframe\">\n",
              "  <thead>\n",
              "    <tr style=\"text-align: right;\">\n",
              "      <th></th>\n",
              "      <th>Country</th>\n",
              "      <th>City</th>\n",
              "      <th>Jan</th>\n",
              "      <th>Feb</th>\n",
              "      <th>Mar</th>\n",
              "      <th>Apr</th>\n",
              "      <th>May</th>\n",
              "      <th>Jun</th>\n",
              "      <th>Jul</th>\n",
              "      <th>Aug</th>\n",
              "      <th>Sep</th>\n",
              "      <th>Oct</th>\n",
              "      <th>Nov</th>\n",
              "      <th>Dec</th>\n",
              "      <th>Year</th>\n",
              "      <th>Continent</th>\n",
              "      <th>Latitude</th>\n",
              "      <th>Longitude</th>\n",
              "    </tr>\n",
              "  </thead>\n",
              "  <tbody>\n",
              "    <tr>\n",
              "      <th>0</th>\n",
              "      <td>Algeria</td>\n",
              "      <td>Algiers</td>\n",
              "      <td>11.2\\n(52.2)</td>\n",
              "      <td>11.9\\n(53.4)</td>\n",
              "      <td>12.8\\n(55.0)</td>\n",
              "      <td>14.7\\n(58.5)</td>\n",
              "      <td>17.7\\n(63.9)</td>\n",
              "      <td>21.3\\n(70.3)</td>\n",
              "      <td>24.6\\n(76.3)</td>\n",
              "      <td>25.2\\n(77.4)</td>\n",
              "      <td>23.2\\n(73.8)</td>\n",
              "      <td>19.4\\n(66.9)</td>\n",
              "      <td>15.2\\n(59.4)</td>\n",
              "      <td>12.1\\n(53.8)</td>\n",
              "      <td>17.4\\n(63.3)</td>\n",
              "      <td>AFRICA</td>\n",
              "      <td>36.7753606</td>\n",
              "      <td>3.0601882</td>\n",
              "    </tr>\n",
              "    <tr>\n",
              "      <th>1</th>\n",
              "      <td>Algeria</td>\n",
              "      <td>Tamanrasset</td>\n",
              "      <td>12.8\\n(55.0)</td>\n",
              "      <td>15.0\\n(59.0)</td>\n",
              "      <td>18.1\\n(64.6)</td>\n",
              "      <td>22.2\\n(72.0)</td>\n",
              "      <td>26.1\\n(79.0)</td>\n",
              "      <td>28.9\\n(84.0)</td>\n",
              "      <td>28.7\\n(83.7)</td>\n",
              "      <td>28.2\\n(82.8)</td>\n",
              "      <td>26.5\\n(79.7)</td>\n",
              "      <td>22.4\\n(72.3)</td>\n",
              "      <td>17.3\\n(63.1)</td>\n",
              "      <td>13.9\\n(57.0)</td>\n",
              "      <td>21.7\\n(71.1)</td>\n",
              "      <td>AFRICA</td>\n",
              "      <td>24.3753438</td>\n",
              "      <td>4.3208436</td>\n",
              "    </tr>\n",
              "    <tr>\n",
              "      <th>2</th>\n",
              "      <td>Algeria</td>\n",
              "      <td>Reggane</td>\n",
              "      <td>16.0\\n(60.8)</td>\n",
              "      <td>18.2\\n(64.8)</td>\n",
              "      <td>23.1\\n(73.6)</td>\n",
              "      <td>27.9\\n(82.2)</td>\n",
              "      <td>32.2\\n(90.0)</td>\n",
              "      <td>36.4\\n(97.5)</td>\n",
              "      <td>39.8\\n(103.6)</td>\n",
              "      <td>38.4\\n(101.1)</td>\n",
              "      <td>35.5\\n(95.9)</td>\n",
              "      <td>29.2\\n(84.6)</td>\n",
              "      <td>22.0\\n(71.6)</td>\n",
              "      <td>17.8\\n(64.0)</td>\n",
              "      <td>28.3\\n(82.9)</td>\n",
              "      <td>AFRICA</td>\n",
              "      <td>26.7207267</td>\n",
              "      <td>0.1751507</td>\n",
              "    </tr>\n",
              "    <tr>\n",
              "      <th>3</th>\n",
              "      <td>Angola</td>\n",
              "      <td>Luanda</td>\n",
              "      <td>26.7\\n(80.1)</td>\n",
              "      <td>28.5\\n(83.3)</td>\n",
              "      <td>28.6\\n(83.5)</td>\n",
              "      <td>28.2\\n(82.8)</td>\n",
              "      <td>27.0\\n(80.6)</td>\n",
              "      <td>23.9\\n(75.0)</td>\n",
              "      <td>22.1\\n(71.8)</td>\n",
              "      <td>22.1\\n(71.8)</td>\n",
              "      <td>23.5\\n(74.3)</td>\n",
              "      <td>25.2\\n(77.4)</td>\n",
              "      <td>26.7\\n(80.1)</td>\n",
              "      <td>26.9\\n(80.4)</td>\n",
              "      <td>25.8\\n(78.4)</td>\n",
              "      <td>AFRICA</td>\n",
              "      <td>-8.8272699</td>\n",
              "      <td>13.2439512</td>\n",
              "    </tr>\n",
              "    <tr>\n",
              "      <th>4</th>\n",
              "      <td>Benin</td>\n",
              "      <td>Cotonou</td>\n",
              "      <td>27.3\\n(81.1)</td>\n",
              "      <td>28.5\\n(83.3)</td>\n",
              "      <td>28.9\\n(84.0)</td>\n",
              "      <td>28.6\\n(83.5)</td>\n",
              "      <td>27.8\\n(82.0)</td>\n",
              "      <td>26.5\\n(79.7)</td>\n",
              "      <td>25.8\\n(78.4)</td>\n",
              "      <td>25.6\\n(78.1)</td>\n",
              "      <td>26.0\\n(78.8)</td>\n",
              "      <td>26.7\\n(80.1)</td>\n",
              "      <td>27.6\\n(81.7)</td>\n",
              "      <td>27.3\\n(81.1)</td>\n",
              "      <td>27.2\\n(81.0)</td>\n",
              "      <td>AFRICA</td>\n",
              "      <td>6.3676953</td>\n",
              "      <td>2.4252507</td>\n",
              "    </tr>\n",
              "  </tbody>\n",
              "</table>\n",
              "</div>"
            ],
            "text/plain": [
              "   Country         City           Jan           Feb           Mar  \\\n",
              "0  Algeria      Algiers  11.2\\n(52.2)  11.9\\n(53.4)  12.8\\n(55.0)   \n",
              "1  Algeria  Tamanrasset  12.8\\n(55.0)  15.0\\n(59.0)  18.1\\n(64.6)   \n",
              "2  Algeria      Reggane  16.0\\n(60.8)  18.2\\n(64.8)  23.1\\n(73.6)   \n",
              "3   Angola       Luanda  26.7\\n(80.1)  28.5\\n(83.3)  28.6\\n(83.5)   \n",
              "4    Benin      Cotonou  27.3\\n(81.1)  28.5\\n(83.3)  28.9\\n(84.0)   \n",
              "\n",
              "            Apr           May           Jun            Jul            Aug  \\\n",
              "0  14.7\\n(58.5)  17.7\\n(63.9)  21.3\\n(70.3)   24.6\\n(76.3)   25.2\\n(77.4)   \n",
              "1  22.2\\n(72.0)  26.1\\n(79.0)  28.9\\n(84.0)   28.7\\n(83.7)   28.2\\n(82.8)   \n",
              "2  27.9\\n(82.2)  32.2\\n(90.0)  36.4\\n(97.5)  39.8\\n(103.6)  38.4\\n(101.1)   \n",
              "3  28.2\\n(82.8)  27.0\\n(80.6)  23.9\\n(75.0)   22.1\\n(71.8)   22.1\\n(71.8)   \n",
              "4  28.6\\n(83.5)  27.8\\n(82.0)  26.5\\n(79.7)   25.8\\n(78.4)   25.6\\n(78.1)   \n",
              "\n",
              "            Sep           Oct           Nov           Dec          Year  \\\n",
              "0  23.2\\n(73.8)  19.4\\n(66.9)  15.2\\n(59.4)  12.1\\n(53.8)  17.4\\n(63.3)   \n",
              "1  26.5\\n(79.7)  22.4\\n(72.3)  17.3\\n(63.1)  13.9\\n(57.0)  21.7\\n(71.1)   \n",
              "2  35.5\\n(95.9)  29.2\\n(84.6)  22.0\\n(71.6)  17.8\\n(64.0)  28.3\\n(82.9)   \n",
              "3  23.5\\n(74.3)  25.2\\n(77.4)  26.7\\n(80.1)  26.9\\n(80.4)  25.8\\n(78.4)   \n",
              "4  26.0\\n(78.8)  26.7\\n(80.1)  27.6\\n(81.7)  27.3\\n(81.1)  27.2\\n(81.0)   \n",
              "\n",
              "  Continent    Latitude   Longitude  \n",
              "0    AFRICA  36.7753606   3.0601882  \n",
              "1    AFRICA  24.3753438   4.3208436  \n",
              "2    AFRICA  26.7207267   0.1751507  \n",
              "3    AFRICA  -8.8272699  13.2439512  \n",
              "4    AFRICA   6.3676953   2.4252507  "
            ]
          },
          "execution_count": 25,
          "metadata": {},
          "output_type": "execute_result"
        }
      ],
      "source": [
        "import time\n",
        "latitudes = []\n",
        "longitudes = []\n",
        "for index, row in df.iterrows():\n",
        "    time.sleep(1)\n",
        "    locstring = row['City'] + ', ' + row['Country']\n",
        "    print(str(index) + ' ' + locstring)  # 100 cities or so\n",
        "    # TODO:  get latitude, longitude, add to lists\n",
        "    location = app.geocode(locstring)\n",
        "    latitudes.append(location.raw['lat'])\n",
        "    longitudes.append(location.raw['lon'])\n",
        "df['Latitude'] = latitudes\n",
        "df['Longitude'] = longitudes\n",
        "\n",
        "df.head() # Should have latitude and longitude cols now"
      ]
    },
    {
      "cell_type": "markdown",
      "metadata": {
        "id": "5giHFL4uoUC6"
      },
      "source": [
        "Another thing you might want to do with spatial data is visualize it on a map.  The following example shows how to do this with the Plotly library."
      ]
    },
    {
      "cell_type": "code",
      "execution_count": null,
      "metadata": {
        "id": "QZipmaINoUC7",
        "outputId": "3c30c04c-b94d-4941-d5b9-c9def5c950e9"
      },
      "outputs": [
        {
          "data": {
            "text/html": [
              "<div>\n",
              "<style scoped>\n",
              "    .dataframe tbody tr th:only-of-type {\n",
              "        vertical-align: middle;\n",
              "    }\n",
              "\n",
              "    .dataframe tbody tr th {\n",
              "        vertical-align: top;\n",
              "    }\n",
              "\n",
              "    .dataframe thead th {\n",
              "        text-align: right;\n",
              "    }\n",
              "</style>\n",
              "<table border=\"1\" class=\"dataframe\">\n",
              "  <thead>\n",
              "    <tr style=\"text-align: right;\">\n",
              "      <th></th>\n",
              "      <th>Country</th>\n",
              "      <th>City</th>\n",
              "      <th>Jan</th>\n",
              "      <th>Feb</th>\n",
              "      <th>Mar</th>\n",
              "      <th>Apr</th>\n",
              "      <th>May</th>\n",
              "      <th>Jun</th>\n",
              "      <th>Jul</th>\n",
              "      <th>Aug</th>\n",
              "      <th>Sep</th>\n",
              "      <th>Oct</th>\n",
              "      <th>Nov</th>\n",
              "      <th>Dec</th>\n",
              "      <th>Year</th>\n",
              "      <th>Continent</th>\n",
              "      <th>Latitude</th>\n",
              "      <th>Longitude</th>\n",
              "      <th>SimpleTemp</th>\n",
              "      <th>HighTemp</th>\n",
              "    </tr>\n",
              "  </thead>\n",
              "  <tbody>\n",
              "    <tr>\n",
              "      <th>0</th>\n",
              "      <td>Algeria</td>\n",
              "      <td>Algiers</td>\n",
              "      <td>11.2\\n(52.2)</td>\n",
              "      <td>11.9\\n(53.4)</td>\n",
              "      <td>12.8\\n(55.0)</td>\n",
              "      <td>14.7\\n(58.5)</td>\n",
              "      <td>17.7\\n(63.9)</td>\n",
              "      <td>21.3\\n(70.3)</td>\n",
              "      <td>24.6\\n(76.3)</td>\n",
              "      <td>25.2\\n(77.4)</td>\n",
              "      <td>23.2\\n(73.8)</td>\n",
              "      <td>19.4\\n(66.9)</td>\n",
              "      <td>15.2\\n(59.4)</td>\n",
              "      <td>12.1\\n(53.8)</td>\n",
              "      <td>17.4\\n(63.3)</td>\n",
              "      <td>AFRICA</td>\n",
              "      <td>36.7753606</td>\n",
              "      <td>3.0601882</td>\n",
              "      <td>63.3</td>\n",
              "      <td>False</td>\n",
              "    </tr>\n",
              "    <tr>\n",
              "      <th>1</th>\n",
              "      <td>Algeria</td>\n",
              "      <td>Tamanrasset</td>\n",
              "      <td>12.8\\n(55.0)</td>\n",
              "      <td>15.0\\n(59.0)</td>\n",
              "      <td>18.1\\n(64.6)</td>\n",
              "      <td>22.2\\n(72.0)</td>\n",
              "      <td>26.1\\n(79.0)</td>\n",
              "      <td>28.9\\n(84.0)</td>\n",
              "      <td>28.7\\n(83.7)</td>\n",
              "      <td>28.2\\n(82.8)</td>\n",
              "      <td>26.5\\n(79.7)</td>\n",
              "      <td>22.4\\n(72.3)</td>\n",
              "      <td>17.3\\n(63.1)</td>\n",
              "      <td>13.9\\n(57.0)</td>\n",
              "      <td>21.7\\n(71.1)</td>\n",
              "      <td>AFRICA</td>\n",
              "      <td>24.3753438</td>\n",
              "      <td>4.3208436</td>\n",
              "      <td>71.1</td>\n",
              "      <td>False</td>\n",
              "    </tr>\n",
              "    <tr>\n",
              "      <th>2</th>\n",
              "      <td>Algeria</td>\n",
              "      <td>Reggane</td>\n",
              "      <td>16.0\\n(60.8)</td>\n",
              "      <td>18.2\\n(64.8)</td>\n",
              "      <td>23.1\\n(73.6)</td>\n",
              "      <td>27.9\\n(82.2)</td>\n",
              "      <td>32.2\\n(90.0)</td>\n",
              "      <td>36.4\\n(97.5)</td>\n",
              "      <td>39.8\\n(103.6)</td>\n",
              "      <td>38.4\\n(101.1)</td>\n",
              "      <td>35.5\\n(95.9)</td>\n",
              "      <td>29.2\\n(84.6)</td>\n",
              "      <td>22.0\\n(71.6)</td>\n",
              "      <td>17.8\\n(64.0)</td>\n",
              "      <td>28.3\\n(82.9)</td>\n",
              "      <td>AFRICA</td>\n",
              "      <td>26.7207267</td>\n",
              "      <td>0.1751507</td>\n",
              "      <td>82.9</td>\n",
              "      <td>True</td>\n",
              "    </tr>\n",
              "    <tr>\n",
              "      <th>3</th>\n",
              "      <td>Angola</td>\n",
              "      <td>Luanda</td>\n",
              "      <td>26.7\\n(80.1)</td>\n",
              "      <td>28.5\\n(83.3)</td>\n",
              "      <td>28.6\\n(83.5)</td>\n",
              "      <td>28.2\\n(82.8)</td>\n",
              "      <td>27.0\\n(80.6)</td>\n",
              "      <td>23.9\\n(75.0)</td>\n",
              "      <td>22.1\\n(71.8)</td>\n",
              "      <td>22.1\\n(71.8)</td>\n",
              "      <td>23.5\\n(74.3)</td>\n",
              "      <td>25.2\\n(77.4)</td>\n",
              "      <td>26.7\\n(80.1)</td>\n",
              "      <td>26.9\\n(80.4)</td>\n",
              "      <td>25.8\\n(78.4)</td>\n",
              "      <td>AFRICA</td>\n",
              "      <td>-8.8272699</td>\n",
              "      <td>13.2439512</td>\n",
              "      <td>78.4</td>\n",
              "      <td>False</td>\n",
              "    </tr>\n",
              "    <tr>\n",
              "      <th>4</th>\n",
              "      <td>Benin</td>\n",
              "      <td>Cotonou</td>\n",
              "      <td>27.3\\n(81.1)</td>\n",
              "      <td>28.5\\n(83.3)</td>\n",
              "      <td>28.9\\n(84.0)</td>\n",
              "      <td>28.6\\n(83.5)</td>\n",
              "      <td>27.8\\n(82.0)</td>\n",
              "      <td>26.5\\n(79.7)</td>\n",
              "      <td>25.8\\n(78.4)</td>\n",
              "      <td>25.6\\n(78.1)</td>\n",
              "      <td>26.0\\n(78.8)</td>\n",
              "      <td>26.7\\n(80.1)</td>\n",
              "      <td>27.6\\n(81.7)</td>\n",
              "      <td>27.3\\n(81.1)</td>\n",
              "      <td>27.2\\n(81.0)</td>\n",
              "      <td>AFRICA</td>\n",
              "      <td>6.3676953</td>\n",
              "      <td>2.4252507</td>\n",
              "      <td>81.0</td>\n",
              "      <td>True</td>\n",
              "    </tr>\n",
              "  </tbody>\n",
              "</table>\n",
              "</div>"
            ],
            "text/plain": [
              "   Country         City           Jan           Feb           Mar  \\\n",
              "0  Algeria      Algiers  11.2\\n(52.2)  11.9\\n(53.4)  12.8\\n(55.0)   \n",
              "1  Algeria  Tamanrasset  12.8\\n(55.0)  15.0\\n(59.0)  18.1\\n(64.6)   \n",
              "2  Algeria      Reggane  16.0\\n(60.8)  18.2\\n(64.8)  23.1\\n(73.6)   \n",
              "3   Angola       Luanda  26.7\\n(80.1)  28.5\\n(83.3)  28.6\\n(83.5)   \n",
              "4    Benin      Cotonou  27.3\\n(81.1)  28.5\\n(83.3)  28.9\\n(84.0)   \n",
              "\n",
              "            Apr           May           Jun            Jul            Aug  \\\n",
              "0  14.7\\n(58.5)  17.7\\n(63.9)  21.3\\n(70.3)   24.6\\n(76.3)   25.2\\n(77.4)   \n",
              "1  22.2\\n(72.0)  26.1\\n(79.0)  28.9\\n(84.0)   28.7\\n(83.7)   28.2\\n(82.8)   \n",
              "2  27.9\\n(82.2)  32.2\\n(90.0)  36.4\\n(97.5)  39.8\\n(103.6)  38.4\\n(101.1)   \n",
              "3  28.2\\n(82.8)  27.0\\n(80.6)  23.9\\n(75.0)   22.1\\n(71.8)   22.1\\n(71.8)   \n",
              "4  28.6\\n(83.5)  27.8\\n(82.0)  26.5\\n(79.7)   25.8\\n(78.4)   25.6\\n(78.1)   \n",
              "\n",
              "            Sep           Oct           Nov           Dec          Year  \\\n",
              "0  23.2\\n(73.8)  19.4\\n(66.9)  15.2\\n(59.4)  12.1\\n(53.8)  17.4\\n(63.3)   \n",
              "1  26.5\\n(79.7)  22.4\\n(72.3)  17.3\\n(63.1)  13.9\\n(57.0)  21.7\\n(71.1)   \n",
              "2  35.5\\n(95.9)  29.2\\n(84.6)  22.0\\n(71.6)  17.8\\n(64.0)  28.3\\n(82.9)   \n",
              "3  23.5\\n(74.3)  25.2\\n(77.4)  26.7\\n(80.1)  26.9\\n(80.4)  25.8\\n(78.4)   \n",
              "4  26.0\\n(78.8)  26.7\\n(80.1)  27.6\\n(81.7)  27.3\\n(81.1)  27.2\\n(81.0)   \n",
              "\n",
              "  Continent    Latitude   Longitude  SimpleTemp  HighTemp  \n",
              "0    AFRICA  36.7753606   3.0601882        63.3     False  \n",
              "1    AFRICA  24.3753438   4.3208436        71.1     False  \n",
              "2    AFRICA  26.7207267   0.1751507        82.9      True  \n",
              "3    AFRICA  -8.8272699  13.2439512        78.4     False  \n",
              "4    AFRICA   6.3676953   2.4252507        81.0      True  "
            ]
          },
          "execution_count": 43,
          "metadata": {},
          "output_type": "execute_result"
        }
      ],
      "source": [
        "# Regex to just pull out F temps from the Year column\n",
        "df['SimpleTemp'] = df['Year'].str.extract('\\((\\d\\d.\\d)\\)')\n",
        " # The regex produced a string, but map color needs a float\n",
        "df['SimpleTemp'] = pd.to_numeric(df['SimpleTemp'])\n",
        "df.head()"
      ]
    },
    {
      "cell_type": "code",
      "execution_count": null,
      "metadata": {
        "id": "YsdNmarxoUC7",
        "outputId": "fe72bfb1-9f70-448a-a8dd-0166ec845437"
      },
      "outputs": [
        {
          "data": {
            "application/vnd.plotly.v1+json": {
              "config": {
                "plotlyServerURL": "https://plot.ly"
              },
              "data": [
                {
                  "geo": "geo",
                  "hovertemplate": "Latitude=%{lat}<br>Longitude=%{lon}<br>SimpleTemp=%{marker.color}<extra></extra>",
                  "lat": [
                    "36.7753606",
                    "24.3753438",
                    "26.7207267",
                    "-8.8272699",
                    "6.3676953",
                    "9.3400159",
                    "11.2849785",
                    "-19.9860951",
                    "-24.6581357",
                    "-22.145794",
                    "12.3681873",
                    "13.580982",
                    "-3.3638125",
                    "9.3070698",
                    "7.37630995",
                    "4.0429408",
                    "3.8689867",
                    "14.9162811",
                    "4.3635118",
                    "10.2961965",
                    "12.1191543",
                    "13.8280295",
                    "-4.3196982",
                    "-11.6642316",
                    "11.8145966",
                    "30.0443879",
                    "31.1991806",
                    "1.82385155",
                    "3.7310613",
                    "15.3389667",
                    "13.0091289",
                    "13.4966644",
                    "9.0",
                    "0.4086518",
                    "-0.7151966",
                    "13.45535",
                    "5.5571096",
                    "9.4051992",
                    "6.6985605",
                    "9.5170602",
                    "10.6248355",
                    "11.861324",
                    "6.1329749",
                    "7.6906058",
                    "5.320357",
                    "9.504431",
                    "-4.05052",
                    "-1.2832533",
                    "-0.52360305",
                    "3.1165858",
                    "32.896672",
                    "32.1060708",
                    "-21.456444",
                    "-18.1553985",
                    "-18.9100122",
                    "-12.2779134",
                    "-15.7181492",
                    "-23.354173",
                    "-10.08474695",
                    "-15.7862543",
                    "-11.4607518",
                    "14.0492494",
                    "16.7719091",
                    "12.61326555",
                    "20.9127045",
                    "18.0792379",
                    "34.02236",
                    "31.6258257",
                    "30.920193",
                    "-25.966213",
                    "13.524834",
                    "6.4550575",
                    "7.7312634",
                    "9.9175125",
                    "11.8948389",
                    "13.0611195",
                    "-4.2694407",
                    "-4.7975373",
                    "-4.2005398",
                    "14.693425",
                    "14.7948093",
                    "11.27848",
                    "9.561733",
                    "2.0349312",
                    "-25.7459277",
                    "-33.928992",
                    "-26.205",
                    "-29.116395",
                    "-28.456325",
                    "-29.861825",
                    "4.8459246",
                    "7.7001398",
                    "19.619217",
                    "15.5635972",
                    "-6.8160837",
                    "-6.1664908",
                    "-5.1913822",
                    "-6.1791181",
                    "6.130419",
                    "10.3569681"
                  ],
                  "legendgroup": "",
                  "lon": [
                    "3.0601882",
                    "4.3208436",
                    "0.1751507",
                    "13.2439512",
                    "2.4252507",
                    "2.6278258",
                    "3.046420881638551",
                    "23.4224352",
                    "25.9088474",
                    "22.7610828",
                    "-1.5270944",
                    "-2.417699",
                    "29.3675028",
                    "13.3934527",
                    "13.596057761513098",
                    "9.706203",
                    "11.5213344",
                    "-23.5095095",
                    "18.5835913",
                    "22.7809907",
                    "15.0502758",
                    "20.8283652",
                    "15.3424196",
                    "27.4826264",
                    "42.8453061",
                    "31.2357257",
                    "29.8951716",
                    "9.856166243652915",
                    "8.7627071",
                    "38.9326763",
                    "42.7444596",
                    "39.4768259",
                    "38.75",
                    "9.4418849",
                    "8.7787919",
                    "-16.575646",
                    "-0.2012376",
                    "-0.8423986",
                    "-1.6233086",
                    "-13.6998434",
                    "-9.3175166",
                    "-15.583055",
                    "-5.9517697",
                    "-5.0298408",
                    "-4.016107",
                    "-7.561942",
                    "39.667169",
                    "36.8172449",
                    "40.356386899707",
                    "35.6022943",
                    "13.1777923",
                    "20.0666748",
                    "47.085149",
                    "49.4098352",
                    "47.5255809",
                    "49.2913394",
                    "46.3172577",
                    "43.66966",
                    "33.86619181196623",
                    "35.0035694",
                    "34.0226422",
                    "-5.991121102851542",
                    "-3.0087272",
                    "-7.984739136241295",
                    "-17.0503094",
                    "-15.9780071",
                    "-6.8340222",
                    "-7.9891608",
                    "-6.910923",
                    "32.56745",
                    "2.109823",
                    "3.3941795",
                    "8.538425",
                    "8.8979401",
                    "8.5364136",
                    "5.3152203",
                    "15.2712256",
                    "11.8503297",
                    "12.6791573",
                    "-17.447938",
                    "-16.9529272",
                    "49.179952",
                    "44.061803",
                    "45.3419183",
                    "28.1879101",
                    "18.417396",
                    "28.049722",
                    "26.215496",
                    "21.241867",
                    "31.009909",
                    "31.5959173",
                    "27.9909335",
                    "37.211709",
                    "32.5349123",
                    "39.2803583",
                    "39.2074312",
                    "32.5080629",
                    "35.7468174",
                    "1.215829",
                    "0.4770206"
                  ],
                  "marker": {
                    "color": [
                      63.3,
                      71.1,
                      82.9,
                      78.4,
                      81,
                      80.2,
                      81.9,
                      72.3,
                      null,
                      70.5,
                      82.9,
                      83.5,
                      74.8,
                      82.9,
                      71.6,
                      80.1,
                      74.8,
                      75.9,
                      78.8,
                      79.7,
                      82.9,
                      84.9,
                      77.5,
                      69.4,
                      85.8,
                      70.5,
                      68,
                      77.2,
                      79.3,
                      60.1,
                      86.9,
                      72.9,
                      null,
                      78.6,
                      78.8,
                      null,
                      79.5,
                      82.2,
                      null,
                      79.5,
                      79.7,
                      null,
                      null,
                      null,
                      null,
                      null,
                      79.3,
                      64,
                      84.7,
                      84.7,
                      null,
                      67.8,
                      64.2,
                      74.1,
                      64.2,
                      77.4,
                      79.3,
                      75.4,
                      75.9,
                      72,
                      63.9,
                      null,
                      null,
                      82,
                      70.3,
                      78.3,
                      63,
                      67.3,
                      66,
                      73,
                      84.7,
                      80.2,
                      78.8,
                      81.3,
                      79.5,
                      null,
                      null,
                      79,
                      null,
                      null,
                      null,
                      86,
                      71.1,
                      80.8,
                      64.8,
                      61.2,
                      59.9,
                      60.1,
                      68.7,
                      69.1,
                      82,
                      82,
                      83.1,
                      85.8,
                      78.4,
                      null,
                      null,
                      72.9,
                      80.4,
                      82.6
                    ],
                    "coloraxis": "coloraxis",
                    "symbol": "circle"
                  },
                  "mode": "markers",
                  "name": "",
                  "showlegend": false,
                  "type": "scattergeo"
                }
              ],
              "layout": {
                "coloraxis": {
                  "colorbar": {
                    "title": {
                      "text": "SimpleTemp"
                    }
                  },
                  "colorscale": [
                    [
                      0,
                      "#0d0887"
                    ],
                    [
                      0.1111111111111111,
                      "#46039f"
                    ],
                    [
                      0.2222222222222222,
                      "#7201a8"
                    ],
                    [
                      0.3333333333333333,
                      "#9c179e"
                    ],
                    [
                      0.4444444444444444,
                      "#bd3786"
                    ],
                    [
                      0.5555555555555556,
                      "#d8576b"
                    ],
                    [
                      0.6666666666666666,
                      "#ed7953"
                    ],
                    [
                      0.7777777777777778,
                      "#fb9f3a"
                    ],
                    [
                      0.8888888888888888,
                      "#fdca26"
                    ],
                    [
                      1,
                      "#f0f921"
                    ]
                  ]
                },
                "geo": {
                  "center": {},
                  "domain": {
                    "x": [
                      0,
                      1
                    ],
                    "y": [
                      0,
                      1
                    ]
                  }
                },
                "legend": {
                  "tracegroupgap": 0
                },
                "template": {
                  "data": {
                    "bar": [
                      {
                        "error_x": {
                          "color": "#2a3f5f"
                        },
                        "error_y": {
                          "color": "#2a3f5f"
                        },
                        "marker": {
                          "line": {
                            "color": "#E5ECF6",
                            "width": 0.5
                          },
                          "pattern": {
                            "fillmode": "overlay",
                            "size": 10,
                            "solidity": 0.2
                          }
                        },
                        "type": "bar"
                      }
                    ],
                    "barpolar": [
                      {
                        "marker": {
                          "line": {
                            "color": "#E5ECF6",
                            "width": 0.5
                          },
                          "pattern": {
                            "fillmode": "overlay",
                            "size": 10,
                            "solidity": 0.2
                          }
                        },
                        "type": "barpolar"
                      }
                    ],
                    "carpet": [
                      {
                        "aaxis": {
                          "endlinecolor": "#2a3f5f",
                          "gridcolor": "white",
                          "linecolor": "white",
                          "minorgridcolor": "white",
                          "startlinecolor": "#2a3f5f"
                        },
                        "baxis": {
                          "endlinecolor": "#2a3f5f",
                          "gridcolor": "white",
                          "linecolor": "white",
                          "minorgridcolor": "white",
                          "startlinecolor": "#2a3f5f"
                        },
                        "type": "carpet"
                      }
                    ],
                    "choropleth": [
                      {
                        "colorbar": {
                          "outlinewidth": 0,
                          "ticks": ""
                        },
                        "type": "choropleth"
                      }
                    ],
                    "contour": [
                      {
                        "colorbar": {
                          "outlinewidth": 0,
                          "ticks": ""
                        },
                        "colorscale": [
                          [
                            0,
                            "#0d0887"
                          ],
                          [
                            0.1111111111111111,
                            "#46039f"
                          ],
                          [
                            0.2222222222222222,
                            "#7201a8"
                          ],
                          [
                            0.3333333333333333,
                            "#9c179e"
                          ],
                          [
                            0.4444444444444444,
                            "#bd3786"
                          ],
                          [
                            0.5555555555555556,
                            "#d8576b"
                          ],
                          [
                            0.6666666666666666,
                            "#ed7953"
                          ],
                          [
                            0.7777777777777778,
                            "#fb9f3a"
                          ],
                          [
                            0.8888888888888888,
                            "#fdca26"
                          ],
                          [
                            1,
                            "#f0f921"
                          ]
                        ],
                        "type": "contour"
                      }
                    ],
                    "contourcarpet": [
                      {
                        "colorbar": {
                          "outlinewidth": 0,
                          "ticks": ""
                        },
                        "type": "contourcarpet"
                      }
                    ],
                    "heatmap": [
                      {
                        "colorbar": {
                          "outlinewidth": 0,
                          "ticks": ""
                        },
                        "colorscale": [
                          [
                            0,
                            "#0d0887"
                          ],
                          [
                            0.1111111111111111,
                            "#46039f"
                          ],
                          [
                            0.2222222222222222,
                            "#7201a8"
                          ],
                          [
                            0.3333333333333333,
                            "#9c179e"
                          ],
                          [
                            0.4444444444444444,
                            "#bd3786"
                          ],
                          [
                            0.5555555555555556,
                            "#d8576b"
                          ],
                          [
                            0.6666666666666666,
                            "#ed7953"
                          ],
                          [
                            0.7777777777777778,
                            "#fb9f3a"
                          ],
                          [
                            0.8888888888888888,
                            "#fdca26"
                          ],
                          [
                            1,
                            "#f0f921"
                          ]
                        ],
                        "type": "heatmap"
                      }
                    ],
                    "heatmapgl": [
                      {
                        "colorbar": {
                          "outlinewidth": 0,
                          "ticks": ""
                        },
                        "colorscale": [
                          [
                            0,
                            "#0d0887"
                          ],
                          [
                            0.1111111111111111,
                            "#46039f"
                          ],
                          [
                            0.2222222222222222,
                            "#7201a8"
                          ],
                          [
                            0.3333333333333333,
                            "#9c179e"
                          ],
                          [
                            0.4444444444444444,
                            "#bd3786"
                          ],
                          [
                            0.5555555555555556,
                            "#d8576b"
                          ],
                          [
                            0.6666666666666666,
                            "#ed7953"
                          ],
                          [
                            0.7777777777777778,
                            "#fb9f3a"
                          ],
                          [
                            0.8888888888888888,
                            "#fdca26"
                          ],
                          [
                            1,
                            "#f0f921"
                          ]
                        ],
                        "type": "heatmapgl"
                      }
                    ],
                    "histogram": [
                      {
                        "marker": {
                          "pattern": {
                            "fillmode": "overlay",
                            "size": 10,
                            "solidity": 0.2
                          }
                        },
                        "type": "histogram"
                      }
                    ],
                    "histogram2d": [
                      {
                        "colorbar": {
                          "outlinewidth": 0,
                          "ticks": ""
                        },
                        "colorscale": [
                          [
                            0,
                            "#0d0887"
                          ],
                          [
                            0.1111111111111111,
                            "#46039f"
                          ],
                          [
                            0.2222222222222222,
                            "#7201a8"
                          ],
                          [
                            0.3333333333333333,
                            "#9c179e"
                          ],
                          [
                            0.4444444444444444,
                            "#bd3786"
                          ],
                          [
                            0.5555555555555556,
                            "#d8576b"
                          ],
                          [
                            0.6666666666666666,
                            "#ed7953"
                          ],
                          [
                            0.7777777777777778,
                            "#fb9f3a"
                          ],
                          [
                            0.8888888888888888,
                            "#fdca26"
                          ],
                          [
                            1,
                            "#f0f921"
                          ]
                        ],
                        "type": "histogram2d"
                      }
                    ],
                    "histogram2dcontour": [
                      {
                        "colorbar": {
                          "outlinewidth": 0,
                          "ticks": ""
                        },
                        "colorscale": [
                          [
                            0,
                            "#0d0887"
                          ],
                          [
                            0.1111111111111111,
                            "#46039f"
                          ],
                          [
                            0.2222222222222222,
                            "#7201a8"
                          ],
                          [
                            0.3333333333333333,
                            "#9c179e"
                          ],
                          [
                            0.4444444444444444,
                            "#bd3786"
                          ],
                          [
                            0.5555555555555556,
                            "#d8576b"
                          ],
                          [
                            0.6666666666666666,
                            "#ed7953"
                          ],
                          [
                            0.7777777777777778,
                            "#fb9f3a"
                          ],
                          [
                            0.8888888888888888,
                            "#fdca26"
                          ],
                          [
                            1,
                            "#f0f921"
                          ]
                        ],
                        "type": "histogram2dcontour"
                      }
                    ],
                    "mesh3d": [
                      {
                        "colorbar": {
                          "outlinewidth": 0,
                          "ticks": ""
                        },
                        "type": "mesh3d"
                      }
                    ],
                    "parcoords": [
                      {
                        "line": {
                          "colorbar": {
                            "outlinewidth": 0,
                            "ticks": ""
                          }
                        },
                        "type": "parcoords"
                      }
                    ],
                    "pie": [
                      {
                        "automargin": true,
                        "type": "pie"
                      }
                    ],
                    "scatter": [
                      {
                        "marker": {
                          "colorbar": {
                            "outlinewidth": 0,
                            "ticks": ""
                          }
                        },
                        "type": "scatter"
                      }
                    ],
                    "scatter3d": [
                      {
                        "line": {
                          "colorbar": {
                            "outlinewidth": 0,
                            "ticks": ""
                          }
                        },
                        "marker": {
                          "colorbar": {
                            "outlinewidth": 0,
                            "ticks": ""
                          }
                        },
                        "type": "scatter3d"
                      }
                    ],
                    "scattercarpet": [
                      {
                        "marker": {
                          "colorbar": {
                            "outlinewidth": 0,
                            "ticks": ""
                          }
                        },
                        "type": "scattercarpet"
                      }
                    ],
                    "scattergeo": [
                      {
                        "marker": {
                          "colorbar": {
                            "outlinewidth": 0,
                            "ticks": ""
                          }
                        },
                        "type": "scattergeo"
                      }
                    ],
                    "scattergl": [
                      {
                        "marker": {
                          "colorbar": {
                            "outlinewidth": 0,
                            "ticks": ""
                          }
                        },
                        "type": "scattergl"
                      }
                    ],
                    "scattermapbox": [
                      {
                        "marker": {
                          "colorbar": {
                            "outlinewidth": 0,
                            "ticks": ""
                          }
                        },
                        "type": "scattermapbox"
                      }
                    ],
                    "scatterpolar": [
                      {
                        "marker": {
                          "colorbar": {
                            "outlinewidth": 0,
                            "ticks": ""
                          }
                        },
                        "type": "scatterpolar"
                      }
                    ],
                    "scatterpolargl": [
                      {
                        "marker": {
                          "colorbar": {
                            "outlinewidth": 0,
                            "ticks": ""
                          }
                        },
                        "type": "scatterpolargl"
                      }
                    ],
                    "scatterternary": [
                      {
                        "marker": {
                          "colorbar": {
                            "outlinewidth": 0,
                            "ticks": ""
                          }
                        },
                        "type": "scatterternary"
                      }
                    ],
                    "surface": [
                      {
                        "colorbar": {
                          "outlinewidth": 0,
                          "ticks": ""
                        },
                        "colorscale": [
                          [
                            0,
                            "#0d0887"
                          ],
                          [
                            0.1111111111111111,
                            "#46039f"
                          ],
                          [
                            0.2222222222222222,
                            "#7201a8"
                          ],
                          [
                            0.3333333333333333,
                            "#9c179e"
                          ],
                          [
                            0.4444444444444444,
                            "#bd3786"
                          ],
                          [
                            0.5555555555555556,
                            "#d8576b"
                          ],
                          [
                            0.6666666666666666,
                            "#ed7953"
                          ],
                          [
                            0.7777777777777778,
                            "#fb9f3a"
                          ],
                          [
                            0.8888888888888888,
                            "#fdca26"
                          ],
                          [
                            1,
                            "#f0f921"
                          ]
                        ],
                        "type": "surface"
                      }
                    ],
                    "table": [
                      {
                        "cells": {
                          "fill": {
                            "color": "#EBF0F8"
                          },
                          "line": {
                            "color": "white"
                          }
                        },
                        "header": {
                          "fill": {
                            "color": "#C8D4E3"
                          },
                          "line": {
                            "color": "white"
                          }
                        },
                        "type": "table"
                      }
                    ]
                  },
                  "layout": {
                    "annotationdefaults": {
                      "arrowcolor": "#2a3f5f",
                      "arrowhead": 0,
                      "arrowwidth": 1
                    },
                    "autotypenumbers": "strict",
                    "coloraxis": {
                      "colorbar": {
                        "outlinewidth": 0,
                        "ticks": ""
                      }
                    },
                    "colorscale": {
                      "diverging": [
                        [
                          0,
                          "#8e0152"
                        ],
                        [
                          0.1,
                          "#c51b7d"
                        ],
                        [
                          0.2,
                          "#de77ae"
                        ],
                        [
                          0.3,
                          "#f1b6da"
                        ],
                        [
                          0.4,
                          "#fde0ef"
                        ],
                        [
                          0.5,
                          "#f7f7f7"
                        ],
                        [
                          0.6,
                          "#e6f5d0"
                        ],
                        [
                          0.7,
                          "#b8e186"
                        ],
                        [
                          0.8,
                          "#7fbc41"
                        ],
                        [
                          0.9,
                          "#4d9221"
                        ],
                        [
                          1,
                          "#276419"
                        ]
                      ],
                      "sequential": [
                        [
                          0,
                          "#0d0887"
                        ],
                        [
                          0.1111111111111111,
                          "#46039f"
                        ],
                        [
                          0.2222222222222222,
                          "#7201a8"
                        ],
                        [
                          0.3333333333333333,
                          "#9c179e"
                        ],
                        [
                          0.4444444444444444,
                          "#bd3786"
                        ],
                        [
                          0.5555555555555556,
                          "#d8576b"
                        ],
                        [
                          0.6666666666666666,
                          "#ed7953"
                        ],
                        [
                          0.7777777777777778,
                          "#fb9f3a"
                        ],
                        [
                          0.8888888888888888,
                          "#fdca26"
                        ],
                        [
                          1,
                          "#f0f921"
                        ]
                      ],
                      "sequentialminus": [
                        [
                          0,
                          "#0d0887"
                        ],
                        [
                          0.1111111111111111,
                          "#46039f"
                        ],
                        [
                          0.2222222222222222,
                          "#7201a8"
                        ],
                        [
                          0.3333333333333333,
                          "#9c179e"
                        ],
                        [
                          0.4444444444444444,
                          "#bd3786"
                        ],
                        [
                          0.5555555555555556,
                          "#d8576b"
                        ],
                        [
                          0.6666666666666666,
                          "#ed7953"
                        ],
                        [
                          0.7777777777777778,
                          "#fb9f3a"
                        ],
                        [
                          0.8888888888888888,
                          "#fdca26"
                        ],
                        [
                          1,
                          "#f0f921"
                        ]
                      ]
                    },
                    "colorway": [
                      "#636efa",
                      "#EF553B",
                      "#00cc96",
                      "#ab63fa",
                      "#FFA15A",
                      "#19d3f3",
                      "#FF6692",
                      "#B6E880",
                      "#FF97FF",
                      "#FECB52"
                    ],
                    "font": {
                      "color": "#2a3f5f"
                    },
                    "geo": {
                      "bgcolor": "white",
                      "lakecolor": "white",
                      "landcolor": "#E5ECF6",
                      "showlakes": true,
                      "showland": true,
                      "subunitcolor": "white"
                    },
                    "hoverlabel": {
                      "align": "left"
                    },
                    "hovermode": "closest",
                    "mapbox": {
                      "style": "light"
                    },
                    "paper_bgcolor": "white",
                    "plot_bgcolor": "#E5ECF6",
                    "polar": {
                      "angularaxis": {
                        "gridcolor": "white",
                        "linecolor": "white",
                        "ticks": ""
                      },
                      "bgcolor": "#E5ECF6",
                      "radialaxis": {
                        "gridcolor": "white",
                        "linecolor": "white",
                        "ticks": ""
                      }
                    },
                    "scene": {
                      "xaxis": {
                        "backgroundcolor": "#E5ECF6",
                        "gridcolor": "white",
                        "gridwidth": 2,
                        "linecolor": "white",
                        "showbackground": true,
                        "ticks": "",
                        "zerolinecolor": "white"
                      },
                      "yaxis": {
                        "backgroundcolor": "#E5ECF6",
                        "gridcolor": "white",
                        "gridwidth": 2,
                        "linecolor": "white",
                        "showbackground": true,
                        "ticks": "",
                        "zerolinecolor": "white"
                      },
                      "zaxis": {
                        "backgroundcolor": "#E5ECF6",
                        "gridcolor": "white",
                        "gridwidth": 2,
                        "linecolor": "white",
                        "showbackground": true,
                        "ticks": "",
                        "zerolinecolor": "white"
                      }
                    },
                    "shapedefaults": {
                      "line": {
                        "color": "#2a3f5f"
                      }
                    },
                    "ternary": {
                      "aaxis": {
                        "gridcolor": "white",
                        "linecolor": "white",
                        "ticks": ""
                      },
                      "baxis": {
                        "gridcolor": "white",
                        "linecolor": "white",
                        "ticks": ""
                      },
                      "bgcolor": "#E5ECF6",
                      "caxis": {
                        "gridcolor": "white",
                        "linecolor": "white",
                        "ticks": ""
                      }
                    },
                    "title": {
                      "x": 0.05
                    },
                    "xaxis": {
                      "automargin": true,
                      "gridcolor": "white",
                      "linecolor": "white",
                      "ticks": "",
                      "title": {
                        "standoff": 15
                      },
                      "zerolinecolor": "white",
                      "zerolinewidth": 2
                    },
                    "yaxis": {
                      "automargin": true,
                      "gridcolor": "white",
                      "linecolor": "white",
                      "ticks": "",
                      "title": {
                        "standoff": 15
                      },
                      "zerolinecolor": "white",
                      "zerolinewidth": 2
                    }
                  }
                },
                "title": {
                  "text": "Average Annual Temperatures"
                }
              }
            },
            "text/html": [
              "<div>                            <div id=\"dcc436f8-aeb0-4348-8596-bed9f2d301bc\" class=\"plotly-graph-div\" style=\"height:525px; width:100%;\"></div>            <script type=\"text/javascript\">                require([\"plotly\"], function(Plotly) {                    window.PLOTLYENV=window.PLOTLYENV || {};                                    if (document.getElementById(\"dcc436f8-aeb0-4348-8596-bed9f2d301bc\")) {                    Plotly.newPlot(                        \"dcc436f8-aeb0-4348-8596-bed9f2d301bc\",                        [{\"geo\":\"geo\",\"hovertemplate\":\"Latitude=%{lat}<br>Longitude=%{lon}<br>SimpleTemp=%{marker.color}<extra></extra>\",\"lat\":[\"36.7753606\",\"24.3753438\",\"26.7207267\",\"-8.8272699\",\"6.3676953\",\"9.3400159\",\"11.2849785\",\"-19.9860951\",\"-24.6581357\",\"-22.145794\",\"12.3681873\",\"13.580982\",\"-3.3638125\",\"9.3070698\",\"7.37630995\",\"4.0429408\",\"3.8689867\",\"14.9162811\",\"4.3635118\",\"10.2961965\",\"12.1191543\",\"13.8280295\",\"-4.3196982\",\"-11.6642316\",\"11.8145966\",\"30.0443879\",\"31.1991806\",\"1.82385155\",\"3.7310613\",\"15.3389667\",\"13.0091289\",\"13.4966644\",\"9.0\",\"0.4086518\",\"-0.7151966\",\"13.45535\",\"5.5571096\",\"9.4051992\",\"6.6985605\",\"9.5170602\",\"10.6248355\",\"11.861324\",\"6.1329749\",\"7.6906058\",\"5.320357\",\"9.504431\",\"-4.05052\",\"-1.2832533\",\"-0.52360305\",\"3.1165858\",\"32.896672\",\"32.1060708\",\"-21.456444\",\"-18.1553985\",\"-18.9100122\",\"-12.2779134\",\"-15.7181492\",\"-23.354173\",\"-10.08474695\",\"-15.7862543\",\"-11.4607518\",\"14.0492494\",\"16.7719091\",\"12.61326555\",\"20.9127045\",\"18.0792379\",\"34.02236\",\"31.6258257\",\"30.920193\",\"-25.966213\",\"13.524834\",\"6.4550575\",\"7.7312634\",\"9.9175125\",\"11.8948389\",\"13.0611195\",\"-4.2694407\",\"-4.7975373\",\"-4.2005398\",\"14.693425\",\"14.7948093\",\"11.27848\",\"9.561733\",\"2.0349312\",\"-25.7459277\",\"-33.928992\",\"-26.205\",\"-29.116395\",\"-28.456325\",\"-29.861825\",\"4.8459246\",\"7.7001398\",\"19.619217\",\"15.5635972\",\"-6.8160837\",\"-6.1664908\",\"-5.1913822\",\"-6.1791181\",\"6.130419\",\"10.3569681\"],\"legendgroup\":\"\",\"lon\":[\"3.0601882\",\"4.3208436\",\"0.1751507\",\"13.2439512\",\"2.4252507\",\"2.6278258\",\"3.046420881638551\",\"23.4224352\",\"25.9088474\",\"22.7610828\",\"-1.5270944\",\"-2.417699\",\"29.3675028\",\"13.3934527\",\"13.596057761513098\",\"9.706203\",\"11.5213344\",\"-23.5095095\",\"18.5835913\",\"22.7809907\",\"15.0502758\",\"20.8283652\",\"15.3424196\",\"27.4826264\",\"42.8453061\",\"31.2357257\",\"29.8951716\",\"9.856166243652915\",\"8.7627071\",\"38.9326763\",\"42.7444596\",\"39.4768259\",\"38.75\",\"9.4418849\",\"8.7787919\",\"-16.575646\",\"-0.2012376\",\"-0.8423986\",\"-1.6233086\",\"-13.6998434\",\"-9.3175166\",\"-15.583055\",\"-5.9517697\",\"-5.0298408\",\"-4.016107\",\"-7.561942\",\"39.667169\",\"36.8172449\",\"40.356386899707\",\"35.6022943\",\"13.1777923\",\"20.0666748\",\"47.085149\",\"49.4098352\",\"47.5255809\",\"49.2913394\",\"46.3172577\",\"43.66966\",\"33.86619181196623\",\"35.0035694\",\"34.0226422\",\"-5.991121102851542\",\"-3.0087272\",\"-7.984739136241295\",\"-17.0503094\",\"-15.9780071\",\"-6.8340222\",\"-7.9891608\",\"-6.910923\",\"32.56745\",\"2.109823\",\"3.3941795\",\"8.538425\",\"8.8979401\",\"8.5364136\",\"5.3152203\",\"15.2712256\",\"11.8503297\",\"12.6791573\",\"-17.447938\",\"-16.9529272\",\"49.179952\",\"44.061803\",\"45.3419183\",\"28.1879101\",\"18.417396\",\"28.049722\",\"26.215496\",\"21.241867\",\"31.009909\",\"31.5959173\",\"27.9909335\",\"37.211709\",\"32.5349123\",\"39.2803583\",\"39.2074312\",\"32.5080629\",\"35.7468174\",\"1.215829\",\"0.4770206\"],\"marker\":{\"color\":[63.3,71.1,82.9,78.4,81.0,80.2,81.9,72.3,null,70.5,82.9,83.5,74.8,82.9,71.6,80.1,74.8,75.9,78.8,79.7,82.9,84.9,77.5,69.4,85.8,70.5,68.0,77.2,79.3,60.1,86.9,72.9,null,78.6,78.8,null,79.5,82.2,null,79.5,79.7,null,null,null,null,null,79.3,64.0,84.7,84.7,null,67.8,64.2,74.1,64.2,77.4,79.3,75.4,75.9,72.0,63.9,null,null,82.0,70.3,78.3,63.0,67.3,66.0,73.0,84.7,80.2,78.8,81.3,79.5,null,null,79.0,null,null,null,86.0,71.1,80.8,64.8,61.2,59.9,60.1,68.7,69.1,82.0,82.0,83.1,85.8,78.4,null,null,72.9,80.4,82.6],\"coloraxis\":\"coloraxis\",\"symbol\":\"circle\"},\"mode\":\"markers\",\"name\":\"\",\"showlegend\":false,\"type\":\"scattergeo\"}],                        {\"template\":{\"data\":{\"bar\":[{\"error_x\":{\"color\":\"#2a3f5f\"},\"error_y\":{\"color\":\"#2a3f5f\"},\"marker\":{\"line\":{\"color\":\"#E5ECF6\",\"width\":0.5},\"pattern\":{\"fillmode\":\"overlay\",\"size\":10,\"solidity\":0.2}},\"type\":\"bar\"}],\"barpolar\":[{\"marker\":{\"line\":{\"color\":\"#E5ECF6\",\"width\":0.5},\"pattern\":{\"fillmode\":\"overlay\",\"size\":10,\"solidity\":0.2}},\"type\":\"barpolar\"}],\"carpet\":[{\"aaxis\":{\"endlinecolor\":\"#2a3f5f\",\"gridcolor\":\"white\",\"linecolor\":\"white\",\"minorgridcolor\":\"white\",\"startlinecolor\":\"#2a3f5f\"},\"baxis\":{\"endlinecolor\":\"#2a3f5f\",\"gridcolor\":\"white\",\"linecolor\":\"white\",\"minorgridcolor\":\"white\",\"startlinecolor\":\"#2a3f5f\"},\"type\":\"carpet\"}],\"choropleth\":[{\"colorbar\":{\"outlinewidth\":0,\"ticks\":\"\"},\"type\":\"choropleth\"}],\"contour\":[{\"colorbar\":{\"outlinewidth\":0,\"ticks\":\"\"},\"colorscale\":[[0.0,\"#0d0887\"],[0.1111111111111111,\"#46039f\"],[0.2222222222222222,\"#7201a8\"],[0.3333333333333333,\"#9c179e\"],[0.4444444444444444,\"#bd3786\"],[0.5555555555555556,\"#d8576b\"],[0.6666666666666666,\"#ed7953\"],[0.7777777777777778,\"#fb9f3a\"],[0.8888888888888888,\"#fdca26\"],[1.0,\"#f0f921\"]],\"type\":\"contour\"}],\"contourcarpet\":[{\"colorbar\":{\"outlinewidth\":0,\"ticks\":\"\"},\"type\":\"contourcarpet\"}],\"heatmap\":[{\"colorbar\":{\"outlinewidth\":0,\"ticks\":\"\"},\"colorscale\":[[0.0,\"#0d0887\"],[0.1111111111111111,\"#46039f\"],[0.2222222222222222,\"#7201a8\"],[0.3333333333333333,\"#9c179e\"],[0.4444444444444444,\"#bd3786\"],[0.5555555555555556,\"#d8576b\"],[0.6666666666666666,\"#ed7953\"],[0.7777777777777778,\"#fb9f3a\"],[0.8888888888888888,\"#fdca26\"],[1.0,\"#f0f921\"]],\"type\":\"heatmap\"}],\"heatmapgl\":[{\"colorbar\":{\"outlinewidth\":0,\"ticks\":\"\"},\"colorscale\":[[0.0,\"#0d0887\"],[0.1111111111111111,\"#46039f\"],[0.2222222222222222,\"#7201a8\"],[0.3333333333333333,\"#9c179e\"],[0.4444444444444444,\"#bd3786\"],[0.5555555555555556,\"#d8576b\"],[0.6666666666666666,\"#ed7953\"],[0.7777777777777778,\"#fb9f3a\"],[0.8888888888888888,\"#fdca26\"],[1.0,\"#f0f921\"]],\"type\":\"heatmapgl\"}],\"histogram\":[{\"marker\":{\"pattern\":{\"fillmode\":\"overlay\",\"size\":10,\"solidity\":0.2}},\"type\":\"histogram\"}],\"histogram2d\":[{\"colorbar\":{\"outlinewidth\":0,\"ticks\":\"\"},\"colorscale\":[[0.0,\"#0d0887\"],[0.1111111111111111,\"#46039f\"],[0.2222222222222222,\"#7201a8\"],[0.3333333333333333,\"#9c179e\"],[0.4444444444444444,\"#bd3786\"],[0.5555555555555556,\"#d8576b\"],[0.6666666666666666,\"#ed7953\"],[0.7777777777777778,\"#fb9f3a\"],[0.8888888888888888,\"#fdca26\"],[1.0,\"#f0f921\"]],\"type\":\"histogram2d\"}],\"histogram2dcontour\":[{\"colorbar\":{\"outlinewidth\":0,\"ticks\":\"\"},\"colorscale\":[[0.0,\"#0d0887\"],[0.1111111111111111,\"#46039f\"],[0.2222222222222222,\"#7201a8\"],[0.3333333333333333,\"#9c179e\"],[0.4444444444444444,\"#bd3786\"],[0.5555555555555556,\"#d8576b\"],[0.6666666666666666,\"#ed7953\"],[0.7777777777777778,\"#fb9f3a\"],[0.8888888888888888,\"#fdca26\"],[1.0,\"#f0f921\"]],\"type\":\"histogram2dcontour\"}],\"mesh3d\":[{\"colorbar\":{\"outlinewidth\":0,\"ticks\":\"\"},\"type\":\"mesh3d\"}],\"parcoords\":[{\"line\":{\"colorbar\":{\"outlinewidth\":0,\"ticks\":\"\"}},\"type\":\"parcoords\"}],\"pie\":[{\"automargin\":true,\"type\":\"pie\"}],\"scatter\":[{\"marker\":{\"colorbar\":{\"outlinewidth\":0,\"ticks\":\"\"}},\"type\":\"scatter\"}],\"scatter3d\":[{\"line\":{\"colorbar\":{\"outlinewidth\":0,\"ticks\":\"\"}},\"marker\":{\"colorbar\":{\"outlinewidth\":0,\"ticks\":\"\"}},\"type\":\"scatter3d\"}],\"scattercarpet\":[{\"marker\":{\"colorbar\":{\"outlinewidth\":0,\"ticks\":\"\"}},\"type\":\"scattercarpet\"}],\"scattergeo\":[{\"marker\":{\"colorbar\":{\"outlinewidth\":0,\"ticks\":\"\"}},\"type\":\"scattergeo\"}],\"scattergl\":[{\"marker\":{\"colorbar\":{\"outlinewidth\":0,\"ticks\":\"\"}},\"type\":\"scattergl\"}],\"scattermapbox\":[{\"marker\":{\"colorbar\":{\"outlinewidth\":0,\"ticks\":\"\"}},\"type\":\"scattermapbox\"}],\"scatterpolar\":[{\"marker\":{\"colorbar\":{\"outlinewidth\":0,\"ticks\":\"\"}},\"type\":\"scatterpolar\"}],\"scatterpolargl\":[{\"marker\":{\"colorbar\":{\"outlinewidth\":0,\"ticks\":\"\"}},\"type\":\"scatterpolargl\"}],\"scatterternary\":[{\"marker\":{\"colorbar\":{\"outlinewidth\":0,\"ticks\":\"\"}},\"type\":\"scatterternary\"}],\"surface\":[{\"colorbar\":{\"outlinewidth\":0,\"ticks\":\"\"},\"colorscale\":[[0.0,\"#0d0887\"],[0.1111111111111111,\"#46039f\"],[0.2222222222222222,\"#7201a8\"],[0.3333333333333333,\"#9c179e\"],[0.4444444444444444,\"#bd3786\"],[0.5555555555555556,\"#d8576b\"],[0.6666666666666666,\"#ed7953\"],[0.7777777777777778,\"#fb9f3a\"],[0.8888888888888888,\"#fdca26\"],[1.0,\"#f0f921\"]],\"type\":\"surface\"}],\"table\":[{\"cells\":{\"fill\":{\"color\":\"#EBF0F8\"},\"line\":{\"color\":\"white\"}},\"header\":{\"fill\":{\"color\":\"#C8D4E3\"},\"line\":{\"color\":\"white\"}},\"type\":\"table\"}]},\"layout\":{\"annotationdefaults\":{\"arrowcolor\":\"#2a3f5f\",\"arrowhead\":0,\"arrowwidth\":1},\"autotypenumbers\":\"strict\",\"coloraxis\":{\"colorbar\":{\"outlinewidth\":0,\"ticks\":\"\"}},\"colorscale\":{\"diverging\":[[0,\"#8e0152\"],[0.1,\"#c51b7d\"],[0.2,\"#de77ae\"],[0.3,\"#f1b6da\"],[0.4,\"#fde0ef\"],[0.5,\"#f7f7f7\"],[0.6,\"#e6f5d0\"],[0.7,\"#b8e186\"],[0.8,\"#7fbc41\"],[0.9,\"#4d9221\"],[1,\"#276419\"]],\"sequential\":[[0.0,\"#0d0887\"],[0.1111111111111111,\"#46039f\"],[0.2222222222222222,\"#7201a8\"],[0.3333333333333333,\"#9c179e\"],[0.4444444444444444,\"#bd3786\"],[0.5555555555555556,\"#d8576b\"],[0.6666666666666666,\"#ed7953\"],[0.7777777777777778,\"#fb9f3a\"],[0.8888888888888888,\"#fdca26\"],[1.0,\"#f0f921\"]],\"sequentialminus\":[[0.0,\"#0d0887\"],[0.1111111111111111,\"#46039f\"],[0.2222222222222222,\"#7201a8\"],[0.3333333333333333,\"#9c179e\"],[0.4444444444444444,\"#bd3786\"],[0.5555555555555556,\"#d8576b\"],[0.6666666666666666,\"#ed7953\"],[0.7777777777777778,\"#fb9f3a\"],[0.8888888888888888,\"#fdca26\"],[1.0,\"#f0f921\"]]},\"colorway\":[\"#636efa\",\"#EF553B\",\"#00cc96\",\"#ab63fa\",\"#FFA15A\",\"#19d3f3\",\"#FF6692\",\"#B6E880\",\"#FF97FF\",\"#FECB52\"],\"font\":{\"color\":\"#2a3f5f\"},\"geo\":{\"bgcolor\":\"white\",\"lakecolor\":\"white\",\"landcolor\":\"#E5ECF6\",\"showlakes\":true,\"showland\":true,\"subunitcolor\":\"white\"},\"hoverlabel\":{\"align\":\"left\"},\"hovermode\":\"closest\",\"mapbox\":{\"style\":\"light\"},\"paper_bgcolor\":\"white\",\"plot_bgcolor\":\"#E5ECF6\",\"polar\":{\"angularaxis\":{\"gridcolor\":\"white\",\"linecolor\":\"white\",\"ticks\":\"\"},\"bgcolor\":\"#E5ECF6\",\"radialaxis\":{\"gridcolor\":\"white\",\"linecolor\":\"white\",\"ticks\":\"\"}},\"scene\":{\"xaxis\":{\"backgroundcolor\":\"#E5ECF6\",\"gridcolor\":\"white\",\"gridwidth\":2,\"linecolor\":\"white\",\"showbackground\":true,\"ticks\":\"\",\"zerolinecolor\":\"white\"},\"yaxis\":{\"backgroundcolor\":\"#E5ECF6\",\"gridcolor\":\"white\",\"gridwidth\":2,\"linecolor\":\"white\",\"showbackground\":true,\"ticks\":\"\",\"zerolinecolor\":\"white\"},\"zaxis\":{\"backgroundcolor\":\"#E5ECF6\",\"gridcolor\":\"white\",\"gridwidth\":2,\"linecolor\":\"white\",\"showbackground\":true,\"ticks\":\"\",\"zerolinecolor\":\"white\"}},\"shapedefaults\":{\"line\":{\"color\":\"#2a3f5f\"}},\"ternary\":{\"aaxis\":{\"gridcolor\":\"white\",\"linecolor\":\"white\",\"ticks\":\"\"},\"baxis\":{\"gridcolor\":\"white\",\"linecolor\":\"white\",\"ticks\":\"\"},\"bgcolor\":\"#E5ECF6\",\"caxis\":{\"gridcolor\":\"white\",\"linecolor\":\"white\",\"ticks\":\"\"}},\"title\":{\"x\":0.05},\"xaxis\":{\"automargin\":true,\"gridcolor\":\"white\",\"linecolor\":\"white\",\"ticks\":\"\",\"title\":{\"standoff\":15},\"zerolinecolor\":\"white\",\"zerolinewidth\":2},\"yaxis\":{\"automargin\":true,\"gridcolor\":\"white\",\"linecolor\":\"white\",\"ticks\":\"\",\"title\":{\"standoff\":15},\"zerolinecolor\":\"white\",\"zerolinewidth\":2}}},\"geo\":{\"domain\":{\"x\":[0.0,1.0],\"y\":[0.0,1.0]},\"center\":{}},\"coloraxis\":{\"colorbar\":{\"title\":{\"text\":\"SimpleTemp\"}},\"colorscale\":[[0.0,\"#0d0887\"],[0.1111111111111111,\"#46039f\"],[0.2222222222222222,\"#7201a8\"],[0.3333333333333333,\"#9c179e\"],[0.4444444444444444,\"#bd3786\"],[0.5555555555555556,\"#d8576b\"],[0.6666666666666666,\"#ed7953\"],[0.7777777777777778,\"#fb9f3a\"],[0.8888888888888888,\"#fdca26\"],[1.0,\"#f0f921\"]]},\"legend\":{\"tracegroupgap\":0},\"title\":{\"text\":\"Average Annual Temperatures\"}},                        {\"responsive\": true}                    ).then(function(){\n",
              "                            \n",
              "var gd = document.getElementById('dcc436f8-aeb0-4348-8596-bed9f2d301bc');\n",
              "var x = new MutationObserver(function (mutations, observer) {{\n",
              "        var display = window.getComputedStyle(gd).display;\n",
              "        if (!display || display === 'none') {{\n",
              "            console.log([gd, 'removed!']);\n",
              "            Plotly.purge(gd);\n",
              "            observer.disconnect();\n",
              "        }}\n",
              "}});\n",
              "\n",
              "// Listen for the removal of the full notebook cells\n",
              "var notebookContainer = gd.closest('#notebook-container');\n",
              "if (notebookContainer) {{\n",
              "    x.observe(notebookContainer, {childList: true});\n",
              "}}\n",
              "\n",
              "// Listen for the clearing of the current output cell\n",
              "var outputEl = gd.closest('.output');\n",
              "if (outputEl) {{\n",
              "    x.observe(outputEl, {childList: true});\n",
              "}}\n",
              "\n",
              "                        })                };                });            </script>        </div>"
            ]
          },
          "metadata": {},
          "output_type": "display_data"
        }
      ],
      "source": [
        "import plotly.express as px\n",
        "\n",
        "fig = px.scatter_geo(df, lat='Latitude', lon='Longitude', color='SimpleTemp',\n",
        "                     title='Average Annual Temperatures')\n",
        "fig.show()"
      ]
    },
    {
      "cell_type": "markdown",
      "metadata": {
        "id": "GEk6CwW2oUC7"
      },
      "source": [
        "It seems like all of the cities in this dataset are in Africa.  Look up in the documentation how to produce a map that focuses more on this continent, and put your work below."
      ]
    },
    {
      "cell_type": "code",
      "execution_count": null,
      "metadata": {
        "id": "t9CvoGdboUC7",
        "outputId": "1b27b04f-e3fa-4bf4-c829-8da673201884"
      },
      "outputs": [
        {
          "data": {
            "application/vnd.plotly.v1+json": {
              "config": {
                "plotlyServerURL": "https://plot.ly"
              },
              "data": [
                {
                  "geo": "geo",
                  "hovertemplate": "Latitude=%{lat}<br>Longitude=%{lon}<br>SimpleTemp=%{marker.color}<extra></extra>",
                  "lat": [
                    "36.7753606",
                    "24.3753438",
                    "26.7207267",
                    "-8.8272699",
                    "6.3676953",
                    "9.3400159",
                    "11.2849785",
                    "-19.9860951",
                    "-24.6581357",
                    "-22.145794",
                    "12.3681873",
                    "13.580982",
                    "-3.3638125",
                    "9.3070698",
                    "7.37630995",
                    "4.0429408",
                    "3.8689867",
                    "14.9162811",
                    "4.3635118",
                    "10.2961965",
                    "12.1191543",
                    "13.8280295",
                    "-4.3196982",
                    "-11.6642316",
                    "11.8145966",
                    "30.0443879",
                    "31.1991806",
                    "1.82385155",
                    "3.7310613",
                    "15.3389667",
                    "13.0091289",
                    "13.4966644",
                    "9.0",
                    "0.4086518",
                    "-0.7151966",
                    "13.45535",
                    "5.5571096",
                    "9.4051992",
                    "6.6985605",
                    "9.5170602",
                    "10.6248355",
                    "11.861324",
                    "6.1329749",
                    "7.6906058",
                    "5.320357",
                    "9.504431",
                    "-4.05052",
                    "-1.2832533",
                    "-0.52360305",
                    "3.1165858",
                    "32.896672",
                    "32.1060708",
                    "-21.456444",
                    "-18.1553985",
                    "-18.9100122",
                    "-12.2779134",
                    "-15.7181492",
                    "-23.354173",
                    "-10.08474695",
                    "-15.7862543",
                    "-11.4607518",
                    "14.0492494",
                    "16.7719091",
                    "12.61326555",
                    "20.9127045",
                    "18.0792379",
                    "34.02236",
                    "31.6258257",
                    "30.920193",
                    "-25.966213",
                    "13.524834",
                    "6.4550575",
                    "7.7312634",
                    "9.9175125",
                    "11.8948389",
                    "13.0611195",
                    "-4.2694407",
                    "-4.7975373",
                    "-4.2005398",
                    "14.693425",
                    "14.7948093",
                    "11.27848",
                    "9.561733",
                    "2.0349312",
                    "-25.7459277",
                    "-33.928992",
                    "-26.205",
                    "-29.116395",
                    "-28.456325",
                    "-29.861825",
                    "4.8459246",
                    "7.7001398",
                    "19.619217",
                    "15.5635972",
                    "-6.8160837",
                    "-6.1664908",
                    "-5.1913822",
                    "-6.1791181",
                    "6.130419",
                    "10.3569681"
                  ],
                  "legendgroup": "",
                  "lon": [
                    "3.0601882",
                    "4.3208436",
                    "0.1751507",
                    "13.2439512",
                    "2.4252507",
                    "2.6278258",
                    "3.046420881638551",
                    "23.4224352",
                    "25.9088474",
                    "22.7610828",
                    "-1.5270944",
                    "-2.417699",
                    "29.3675028",
                    "13.3934527",
                    "13.596057761513098",
                    "9.706203",
                    "11.5213344",
                    "-23.5095095",
                    "18.5835913",
                    "22.7809907",
                    "15.0502758",
                    "20.8283652",
                    "15.3424196",
                    "27.4826264",
                    "42.8453061",
                    "31.2357257",
                    "29.8951716",
                    "9.856166243652915",
                    "8.7627071",
                    "38.9326763",
                    "42.7444596",
                    "39.4768259",
                    "38.75",
                    "9.4418849",
                    "8.7787919",
                    "-16.575646",
                    "-0.2012376",
                    "-0.8423986",
                    "-1.6233086",
                    "-13.6998434",
                    "-9.3175166",
                    "-15.583055",
                    "-5.9517697",
                    "-5.0298408",
                    "-4.016107",
                    "-7.561942",
                    "39.667169",
                    "36.8172449",
                    "40.356386899707",
                    "35.6022943",
                    "13.1777923",
                    "20.0666748",
                    "47.085149",
                    "49.4098352",
                    "47.5255809",
                    "49.2913394",
                    "46.3172577",
                    "43.66966",
                    "33.86619181196623",
                    "35.0035694",
                    "34.0226422",
                    "-5.991121102851542",
                    "-3.0087272",
                    "-7.984739136241295",
                    "-17.0503094",
                    "-15.9780071",
                    "-6.8340222",
                    "-7.9891608",
                    "-6.910923",
                    "32.56745",
                    "2.109823",
                    "3.3941795",
                    "8.538425",
                    "8.8979401",
                    "8.5364136",
                    "5.3152203",
                    "15.2712256",
                    "11.8503297",
                    "12.6791573",
                    "-17.447938",
                    "-16.9529272",
                    "49.179952",
                    "44.061803",
                    "45.3419183",
                    "28.1879101",
                    "18.417396",
                    "28.049722",
                    "26.215496",
                    "21.241867",
                    "31.009909",
                    "31.5959173",
                    "27.9909335",
                    "37.211709",
                    "32.5349123",
                    "39.2803583",
                    "39.2074312",
                    "32.5080629",
                    "35.7468174",
                    "1.215829",
                    "0.4770206"
                  ],
                  "marker": {
                    "color": [
                      63.3,
                      71.1,
                      82.9,
                      78.4,
                      81,
                      80.2,
                      81.9,
                      72.3,
                      null,
                      70.5,
                      82.9,
                      83.5,
                      74.8,
                      82.9,
                      71.6,
                      80.1,
                      74.8,
                      75.9,
                      78.8,
                      79.7,
                      82.9,
                      84.9,
                      77.5,
                      69.4,
                      85.8,
                      70.5,
                      68,
                      77.2,
                      79.3,
                      60.1,
                      86.9,
                      72.9,
                      null,
                      78.6,
                      78.8,
                      null,
                      79.5,
                      82.2,
                      null,
                      79.5,
                      79.7,
                      null,
                      null,
                      null,
                      null,
                      null,
                      79.3,
                      64,
                      84.7,
                      84.7,
                      null,
                      67.8,
                      64.2,
                      74.1,
                      64.2,
                      77.4,
                      79.3,
                      75.4,
                      75.9,
                      72,
                      63.9,
                      null,
                      null,
                      82,
                      70.3,
                      78.3,
                      63,
                      67.3,
                      66,
                      73,
                      84.7,
                      80.2,
                      78.8,
                      81.3,
                      79.5,
                      null,
                      null,
                      79,
                      null,
                      null,
                      null,
                      86,
                      71.1,
                      80.8,
                      64.8,
                      61.2,
                      59.9,
                      60.1,
                      68.7,
                      69.1,
                      82,
                      82,
                      83.1,
                      85.8,
                      78.4,
                      null,
                      null,
                      72.9,
                      80.4,
                      82.6
                    ],
                    "coloraxis": "coloraxis",
                    "symbol": "circle"
                  },
                  "mode": "markers",
                  "name": "",
                  "showlegend": false,
                  "type": "scattergeo"
                }
              ],
              "layout": {
                "coloraxis": {
                  "colorbar": {
                    "title": {
                      "text": "SimpleTemp"
                    }
                  },
                  "colorscale": [
                    [
                      0,
                      "#0d0887"
                    ],
                    [
                      0.1111111111111111,
                      "#46039f"
                    ],
                    [
                      0.2222222222222222,
                      "#7201a8"
                    ],
                    [
                      0.3333333333333333,
                      "#9c179e"
                    ],
                    [
                      0.4444444444444444,
                      "#bd3786"
                    ],
                    [
                      0.5555555555555556,
                      "#d8576b"
                    ],
                    [
                      0.6666666666666666,
                      "#ed7953"
                    ],
                    [
                      0.7777777777777778,
                      "#fb9f3a"
                    ],
                    [
                      0.8888888888888888,
                      "#fdca26"
                    ],
                    [
                      1,
                      "#f0f921"
                    ]
                  ]
                },
                "geo": {
                  "center": {},
                  "domain": {
                    "x": [
                      0,
                      1
                    ],
                    "y": [
                      0,
                      1
                    ]
                  },
                  "scope": "africa"
                },
                "legend": {
                  "tracegroupgap": 0
                },
                "template": {
                  "data": {
                    "bar": [
                      {
                        "error_x": {
                          "color": "#2a3f5f"
                        },
                        "error_y": {
                          "color": "#2a3f5f"
                        },
                        "marker": {
                          "line": {
                            "color": "#E5ECF6",
                            "width": 0.5
                          },
                          "pattern": {
                            "fillmode": "overlay",
                            "size": 10,
                            "solidity": 0.2
                          }
                        },
                        "type": "bar"
                      }
                    ],
                    "barpolar": [
                      {
                        "marker": {
                          "line": {
                            "color": "#E5ECF6",
                            "width": 0.5
                          },
                          "pattern": {
                            "fillmode": "overlay",
                            "size": 10,
                            "solidity": 0.2
                          }
                        },
                        "type": "barpolar"
                      }
                    ],
                    "carpet": [
                      {
                        "aaxis": {
                          "endlinecolor": "#2a3f5f",
                          "gridcolor": "white",
                          "linecolor": "white",
                          "minorgridcolor": "white",
                          "startlinecolor": "#2a3f5f"
                        },
                        "baxis": {
                          "endlinecolor": "#2a3f5f",
                          "gridcolor": "white",
                          "linecolor": "white",
                          "minorgridcolor": "white",
                          "startlinecolor": "#2a3f5f"
                        },
                        "type": "carpet"
                      }
                    ],
                    "choropleth": [
                      {
                        "colorbar": {
                          "outlinewidth": 0,
                          "ticks": ""
                        },
                        "type": "choropleth"
                      }
                    ],
                    "contour": [
                      {
                        "colorbar": {
                          "outlinewidth": 0,
                          "ticks": ""
                        },
                        "colorscale": [
                          [
                            0,
                            "#0d0887"
                          ],
                          [
                            0.1111111111111111,
                            "#46039f"
                          ],
                          [
                            0.2222222222222222,
                            "#7201a8"
                          ],
                          [
                            0.3333333333333333,
                            "#9c179e"
                          ],
                          [
                            0.4444444444444444,
                            "#bd3786"
                          ],
                          [
                            0.5555555555555556,
                            "#d8576b"
                          ],
                          [
                            0.6666666666666666,
                            "#ed7953"
                          ],
                          [
                            0.7777777777777778,
                            "#fb9f3a"
                          ],
                          [
                            0.8888888888888888,
                            "#fdca26"
                          ],
                          [
                            1,
                            "#f0f921"
                          ]
                        ],
                        "type": "contour"
                      }
                    ],
                    "contourcarpet": [
                      {
                        "colorbar": {
                          "outlinewidth": 0,
                          "ticks": ""
                        },
                        "type": "contourcarpet"
                      }
                    ],
                    "heatmap": [
                      {
                        "colorbar": {
                          "outlinewidth": 0,
                          "ticks": ""
                        },
                        "colorscale": [
                          [
                            0,
                            "#0d0887"
                          ],
                          [
                            0.1111111111111111,
                            "#46039f"
                          ],
                          [
                            0.2222222222222222,
                            "#7201a8"
                          ],
                          [
                            0.3333333333333333,
                            "#9c179e"
                          ],
                          [
                            0.4444444444444444,
                            "#bd3786"
                          ],
                          [
                            0.5555555555555556,
                            "#d8576b"
                          ],
                          [
                            0.6666666666666666,
                            "#ed7953"
                          ],
                          [
                            0.7777777777777778,
                            "#fb9f3a"
                          ],
                          [
                            0.8888888888888888,
                            "#fdca26"
                          ],
                          [
                            1,
                            "#f0f921"
                          ]
                        ],
                        "type": "heatmap"
                      }
                    ],
                    "heatmapgl": [
                      {
                        "colorbar": {
                          "outlinewidth": 0,
                          "ticks": ""
                        },
                        "colorscale": [
                          [
                            0,
                            "#0d0887"
                          ],
                          [
                            0.1111111111111111,
                            "#46039f"
                          ],
                          [
                            0.2222222222222222,
                            "#7201a8"
                          ],
                          [
                            0.3333333333333333,
                            "#9c179e"
                          ],
                          [
                            0.4444444444444444,
                            "#bd3786"
                          ],
                          [
                            0.5555555555555556,
                            "#d8576b"
                          ],
                          [
                            0.6666666666666666,
                            "#ed7953"
                          ],
                          [
                            0.7777777777777778,
                            "#fb9f3a"
                          ],
                          [
                            0.8888888888888888,
                            "#fdca26"
                          ],
                          [
                            1,
                            "#f0f921"
                          ]
                        ],
                        "type": "heatmapgl"
                      }
                    ],
                    "histogram": [
                      {
                        "marker": {
                          "pattern": {
                            "fillmode": "overlay",
                            "size": 10,
                            "solidity": 0.2
                          }
                        },
                        "type": "histogram"
                      }
                    ],
                    "histogram2d": [
                      {
                        "colorbar": {
                          "outlinewidth": 0,
                          "ticks": ""
                        },
                        "colorscale": [
                          [
                            0,
                            "#0d0887"
                          ],
                          [
                            0.1111111111111111,
                            "#46039f"
                          ],
                          [
                            0.2222222222222222,
                            "#7201a8"
                          ],
                          [
                            0.3333333333333333,
                            "#9c179e"
                          ],
                          [
                            0.4444444444444444,
                            "#bd3786"
                          ],
                          [
                            0.5555555555555556,
                            "#d8576b"
                          ],
                          [
                            0.6666666666666666,
                            "#ed7953"
                          ],
                          [
                            0.7777777777777778,
                            "#fb9f3a"
                          ],
                          [
                            0.8888888888888888,
                            "#fdca26"
                          ],
                          [
                            1,
                            "#f0f921"
                          ]
                        ],
                        "type": "histogram2d"
                      }
                    ],
                    "histogram2dcontour": [
                      {
                        "colorbar": {
                          "outlinewidth": 0,
                          "ticks": ""
                        },
                        "colorscale": [
                          [
                            0,
                            "#0d0887"
                          ],
                          [
                            0.1111111111111111,
                            "#46039f"
                          ],
                          [
                            0.2222222222222222,
                            "#7201a8"
                          ],
                          [
                            0.3333333333333333,
                            "#9c179e"
                          ],
                          [
                            0.4444444444444444,
                            "#bd3786"
                          ],
                          [
                            0.5555555555555556,
                            "#d8576b"
                          ],
                          [
                            0.6666666666666666,
                            "#ed7953"
                          ],
                          [
                            0.7777777777777778,
                            "#fb9f3a"
                          ],
                          [
                            0.8888888888888888,
                            "#fdca26"
                          ],
                          [
                            1,
                            "#f0f921"
                          ]
                        ],
                        "type": "histogram2dcontour"
                      }
                    ],
                    "mesh3d": [
                      {
                        "colorbar": {
                          "outlinewidth": 0,
                          "ticks": ""
                        },
                        "type": "mesh3d"
                      }
                    ],
                    "parcoords": [
                      {
                        "line": {
                          "colorbar": {
                            "outlinewidth": 0,
                            "ticks": ""
                          }
                        },
                        "type": "parcoords"
                      }
                    ],
                    "pie": [
                      {
                        "automargin": true,
                        "type": "pie"
                      }
                    ],
                    "scatter": [
                      {
                        "marker": {
                          "colorbar": {
                            "outlinewidth": 0,
                            "ticks": ""
                          }
                        },
                        "type": "scatter"
                      }
                    ],
                    "scatter3d": [
                      {
                        "line": {
                          "colorbar": {
                            "outlinewidth": 0,
                            "ticks": ""
                          }
                        },
                        "marker": {
                          "colorbar": {
                            "outlinewidth": 0,
                            "ticks": ""
                          }
                        },
                        "type": "scatter3d"
                      }
                    ],
                    "scattercarpet": [
                      {
                        "marker": {
                          "colorbar": {
                            "outlinewidth": 0,
                            "ticks": ""
                          }
                        },
                        "type": "scattercarpet"
                      }
                    ],
                    "scattergeo": [
                      {
                        "marker": {
                          "colorbar": {
                            "outlinewidth": 0,
                            "ticks": ""
                          }
                        },
                        "type": "scattergeo"
                      }
                    ],
                    "scattergl": [
                      {
                        "marker": {
                          "colorbar": {
                            "outlinewidth": 0,
                            "ticks": ""
                          }
                        },
                        "type": "scattergl"
                      }
                    ],
                    "scattermapbox": [
                      {
                        "marker": {
                          "colorbar": {
                            "outlinewidth": 0,
                            "ticks": ""
                          }
                        },
                        "type": "scattermapbox"
                      }
                    ],
                    "scatterpolar": [
                      {
                        "marker": {
                          "colorbar": {
                            "outlinewidth": 0,
                            "ticks": ""
                          }
                        },
                        "type": "scatterpolar"
                      }
                    ],
                    "scatterpolargl": [
                      {
                        "marker": {
                          "colorbar": {
                            "outlinewidth": 0,
                            "ticks": ""
                          }
                        },
                        "type": "scatterpolargl"
                      }
                    ],
                    "scatterternary": [
                      {
                        "marker": {
                          "colorbar": {
                            "outlinewidth": 0,
                            "ticks": ""
                          }
                        },
                        "type": "scatterternary"
                      }
                    ],
                    "surface": [
                      {
                        "colorbar": {
                          "outlinewidth": 0,
                          "ticks": ""
                        },
                        "colorscale": [
                          [
                            0,
                            "#0d0887"
                          ],
                          [
                            0.1111111111111111,
                            "#46039f"
                          ],
                          [
                            0.2222222222222222,
                            "#7201a8"
                          ],
                          [
                            0.3333333333333333,
                            "#9c179e"
                          ],
                          [
                            0.4444444444444444,
                            "#bd3786"
                          ],
                          [
                            0.5555555555555556,
                            "#d8576b"
                          ],
                          [
                            0.6666666666666666,
                            "#ed7953"
                          ],
                          [
                            0.7777777777777778,
                            "#fb9f3a"
                          ],
                          [
                            0.8888888888888888,
                            "#fdca26"
                          ],
                          [
                            1,
                            "#f0f921"
                          ]
                        ],
                        "type": "surface"
                      }
                    ],
                    "table": [
                      {
                        "cells": {
                          "fill": {
                            "color": "#EBF0F8"
                          },
                          "line": {
                            "color": "white"
                          }
                        },
                        "header": {
                          "fill": {
                            "color": "#C8D4E3"
                          },
                          "line": {
                            "color": "white"
                          }
                        },
                        "type": "table"
                      }
                    ]
                  },
                  "layout": {
                    "annotationdefaults": {
                      "arrowcolor": "#2a3f5f",
                      "arrowhead": 0,
                      "arrowwidth": 1
                    },
                    "autotypenumbers": "strict",
                    "coloraxis": {
                      "colorbar": {
                        "outlinewidth": 0,
                        "ticks": ""
                      }
                    },
                    "colorscale": {
                      "diverging": [
                        [
                          0,
                          "#8e0152"
                        ],
                        [
                          0.1,
                          "#c51b7d"
                        ],
                        [
                          0.2,
                          "#de77ae"
                        ],
                        [
                          0.3,
                          "#f1b6da"
                        ],
                        [
                          0.4,
                          "#fde0ef"
                        ],
                        [
                          0.5,
                          "#f7f7f7"
                        ],
                        [
                          0.6,
                          "#e6f5d0"
                        ],
                        [
                          0.7,
                          "#b8e186"
                        ],
                        [
                          0.8,
                          "#7fbc41"
                        ],
                        [
                          0.9,
                          "#4d9221"
                        ],
                        [
                          1,
                          "#276419"
                        ]
                      ],
                      "sequential": [
                        [
                          0,
                          "#0d0887"
                        ],
                        [
                          0.1111111111111111,
                          "#46039f"
                        ],
                        [
                          0.2222222222222222,
                          "#7201a8"
                        ],
                        [
                          0.3333333333333333,
                          "#9c179e"
                        ],
                        [
                          0.4444444444444444,
                          "#bd3786"
                        ],
                        [
                          0.5555555555555556,
                          "#d8576b"
                        ],
                        [
                          0.6666666666666666,
                          "#ed7953"
                        ],
                        [
                          0.7777777777777778,
                          "#fb9f3a"
                        ],
                        [
                          0.8888888888888888,
                          "#fdca26"
                        ],
                        [
                          1,
                          "#f0f921"
                        ]
                      ],
                      "sequentialminus": [
                        [
                          0,
                          "#0d0887"
                        ],
                        [
                          0.1111111111111111,
                          "#46039f"
                        ],
                        [
                          0.2222222222222222,
                          "#7201a8"
                        ],
                        [
                          0.3333333333333333,
                          "#9c179e"
                        ],
                        [
                          0.4444444444444444,
                          "#bd3786"
                        ],
                        [
                          0.5555555555555556,
                          "#d8576b"
                        ],
                        [
                          0.6666666666666666,
                          "#ed7953"
                        ],
                        [
                          0.7777777777777778,
                          "#fb9f3a"
                        ],
                        [
                          0.8888888888888888,
                          "#fdca26"
                        ],
                        [
                          1,
                          "#f0f921"
                        ]
                      ]
                    },
                    "colorway": [
                      "#636efa",
                      "#EF553B",
                      "#00cc96",
                      "#ab63fa",
                      "#FFA15A",
                      "#19d3f3",
                      "#FF6692",
                      "#B6E880",
                      "#FF97FF",
                      "#FECB52"
                    ],
                    "font": {
                      "color": "#2a3f5f"
                    },
                    "geo": {
                      "bgcolor": "white",
                      "lakecolor": "white",
                      "landcolor": "#E5ECF6",
                      "showlakes": true,
                      "showland": true,
                      "subunitcolor": "white"
                    },
                    "hoverlabel": {
                      "align": "left"
                    },
                    "hovermode": "closest",
                    "mapbox": {
                      "style": "light"
                    },
                    "paper_bgcolor": "white",
                    "plot_bgcolor": "#E5ECF6",
                    "polar": {
                      "angularaxis": {
                        "gridcolor": "white",
                        "linecolor": "white",
                        "ticks": ""
                      },
                      "bgcolor": "#E5ECF6",
                      "radialaxis": {
                        "gridcolor": "white",
                        "linecolor": "white",
                        "ticks": ""
                      }
                    },
                    "scene": {
                      "xaxis": {
                        "backgroundcolor": "#E5ECF6",
                        "gridcolor": "white",
                        "gridwidth": 2,
                        "linecolor": "white",
                        "showbackground": true,
                        "ticks": "",
                        "zerolinecolor": "white"
                      },
                      "yaxis": {
                        "backgroundcolor": "#E5ECF6",
                        "gridcolor": "white",
                        "gridwidth": 2,
                        "linecolor": "white",
                        "showbackground": true,
                        "ticks": "",
                        "zerolinecolor": "white"
                      },
                      "zaxis": {
                        "backgroundcolor": "#E5ECF6",
                        "gridcolor": "white",
                        "gridwidth": 2,
                        "linecolor": "white",
                        "showbackground": true,
                        "ticks": "",
                        "zerolinecolor": "white"
                      }
                    },
                    "shapedefaults": {
                      "line": {
                        "color": "#2a3f5f"
                      }
                    },
                    "ternary": {
                      "aaxis": {
                        "gridcolor": "white",
                        "linecolor": "white",
                        "ticks": ""
                      },
                      "baxis": {
                        "gridcolor": "white",
                        "linecolor": "white",
                        "ticks": ""
                      },
                      "bgcolor": "#E5ECF6",
                      "caxis": {
                        "gridcolor": "white",
                        "linecolor": "white",
                        "ticks": ""
                      }
                    },
                    "title": {
                      "x": 0.05
                    },
                    "xaxis": {
                      "automargin": true,
                      "gridcolor": "white",
                      "linecolor": "white",
                      "ticks": "",
                      "title": {
                        "standoff": 15
                      },
                      "zerolinecolor": "white",
                      "zerolinewidth": 2
                    },
                    "yaxis": {
                      "automargin": true,
                      "gridcolor": "white",
                      "linecolor": "white",
                      "ticks": "",
                      "title": {
                        "standoff": 15
                      },
                      "zerolinecolor": "white",
                      "zerolinewidth": 2
                    }
                  }
                },
                "title": {
                  "text": "Average Annual Temperatures"
                }
              }
            },
            "text/html": [
              "<div>                            <div id=\"40d9da58-b549-44b5-bd53-ec90aa034c44\" class=\"plotly-graph-div\" style=\"height:525px; width:100%;\"></div>            <script type=\"text/javascript\">                require([\"plotly\"], function(Plotly) {                    window.PLOTLYENV=window.PLOTLYENV || {};                                    if (document.getElementById(\"40d9da58-b549-44b5-bd53-ec90aa034c44\")) {                    Plotly.newPlot(                        \"40d9da58-b549-44b5-bd53-ec90aa034c44\",                        [{\"geo\":\"geo\",\"hovertemplate\":\"Latitude=%{lat}<br>Longitude=%{lon}<br>SimpleTemp=%{marker.color}<extra></extra>\",\"lat\":[\"36.7753606\",\"24.3753438\",\"26.7207267\",\"-8.8272699\",\"6.3676953\",\"9.3400159\",\"11.2849785\",\"-19.9860951\",\"-24.6581357\",\"-22.145794\",\"12.3681873\",\"13.580982\",\"-3.3638125\",\"9.3070698\",\"7.37630995\",\"4.0429408\",\"3.8689867\",\"14.9162811\",\"4.3635118\",\"10.2961965\",\"12.1191543\",\"13.8280295\",\"-4.3196982\",\"-11.6642316\",\"11.8145966\",\"30.0443879\",\"31.1991806\",\"1.82385155\",\"3.7310613\",\"15.3389667\",\"13.0091289\",\"13.4966644\",\"9.0\",\"0.4086518\",\"-0.7151966\",\"13.45535\",\"5.5571096\",\"9.4051992\",\"6.6985605\",\"9.5170602\",\"10.6248355\",\"11.861324\",\"6.1329749\",\"7.6906058\",\"5.320357\",\"9.504431\",\"-4.05052\",\"-1.2832533\",\"-0.52360305\",\"3.1165858\",\"32.896672\",\"32.1060708\",\"-21.456444\",\"-18.1553985\",\"-18.9100122\",\"-12.2779134\",\"-15.7181492\",\"-23.354173\",\"-10.08474695\",\"-15.7862543\",\"-11.4607518\",\"14.0492494\",\"16.7719091\",\"12.61326555\",\"20.9127045\",\"18.0792379\",\"34.02236\",\"31.6258257\",\"30.920193\",\"-25.966213\",\"13.524834\",\"6.4550575\",\"7.7312634\",\"9.9175125\",\"11.8948389\",\"13.0611195\",\"-4.2694407\",\"-4.7975373\",\"-4.2005398\",\"14.693425\",\"14.7948093\",\"11.27848\",\"9.561733\",\"2.0349312\",\"-25.7459277\",\"-33.928992\",\"-26.205\",\"-29.116395\",\"-28.456325\",\"-29.861825\",\"4.8459246\",\"7.7001398\",\"19.619217\",\"15.5635972\",\"-6.8160837\",\"-6.1664908\",\"-5.1913822\",\"-6.1791181\",\"6.130419\",\"10.3569681\"],\"legendgroup\":\"\",\"lon\":[\"3.0601882\",\"4.3208436\",\"0.1751507\",\"13.2439512\",\"2.4252507\",\"2.6278258\",\"3.046420881638551\",\"23.4224352\",\"25.9088474\",\"22.7610828\",\"-1.5270944\",\"-2.417699\",\"29.3675028\",\"13.3934527\",\"13.596057761513098\",\"9.706203\",\"11.5213344\",\"-23.5095095\",\"18.5835913\",\"22.7809907\",\"15.0502758\",\"20.8283652\",\"15.3424196\",\"27.4826264\",\"42.8453061\",\"31.2357257\",\"29.8951716\",\"9.856166243652915\",\"8.7627071\",\"38.9326763\",\"42.7444596\",\"39.4768259\",\"38.75\",\"9.4418849\",\"8.7787919\",\"-16.575646\",\"-0.2012376\",\"-0.8423986\",\"-1.6233086\",\"-13.6998434\",\"-9.3175166\",\"-15.583055\",\"-5.9517697\",\"-5.0298408\",\"-4.016107\",\"-7.561942\",\"39.667169\",\"36.8172449\",\"40.356386899707\",\"35.6022943\",\"13.1777923\",\"20.0666748\",\"47.085149\",\"49.4098352\",\"47.5255809\",\"49.2913394\",\"46.3172577\",\"43.66966\",\"33.86619181196623\",\"35.0035694\",\"34.0226422\",\"-5.991121102851542\",\"-3.0087272\",\"-7.984739136241295\",\"-17.0503094\",\"-15.9780071\",\"-6.8340222\",\"-7.9891608\",\"-6.910923\",\"32.56745\",\"2.109823\",\"3.3941795\",\"8.538425\",\"8.8979401\",\"8.5364136\",\"5.3152203\",\"15.2712256\",\"11.8503297\",\"12.6791573\",\"-17.447938\",\"-16.9529272\",\"49.179952\",\"44.061803\",\"45.3419183\",\"28.1879101\",\"18.417396\",\"28.049722\",\"26.215496\",\"21.241867\",\"31.009909\",\"31.5959173\",\"27.9909335\",\"37.211709\",\"32.5349123\",\"39.2803583\",\"39.2074312\",\"32.5080629\",\"35.7468174\",\"1.215829\",\"0.4770206\"],\"marker\":{\"color\":[63.3,71.1,82.9,78.4,81.0,80.2,81.9,72.3,null,70.5,82.9,83.5,74.8,82.9,71.6,80.1,74.8,75.9,78.8,79.7,82.9,84.9,77.5,69.4,85.8,70.5,68.0,77.2,79.3,60.1,86.9,72.9,null,78.6,78.8,null,79.5,82.2,null,79.5,79.7,null,null,null,null,null,79.3,64.0,84.7,84.7,null,67.8,64.2,74.1,64.2,77.4,79.3,75.4,75.9,72.0,63.9,null,null,82.0,70.3,78.3,63.0,67.3,66.0,73.0,84.7,80.2,78.8,81.3,79.5,null,null,79.0,null,null,null,86.0,71.1,80.8,64.8,61.2,59.9,60.1,68.7,69.1,82.0,82.0,83.1,85.8,78.4,null,null,72.9,80.4,82.6],\"coloraxis\":\"coloraxis\",\"symbol\":\"circle\"},\"mode\":\"markers\",\"name\":\"\",\"showlegend\":false,\"type\":\"scattergeo\"}],                        {\"template\":{\"data\":{\"bar\":[{\"error_x\":{\"color\":\"#2a3f5f\"},\"error_y\":{\"color\":\"#2a3f5f\"},\"marker\":{\"line\":{\"color\":\"#E5ECF6\",\"width\":0.5},\"pattern\":{\"fillmode\":\"overlay\",\"size\":10,\"solidity\":0.2}},\"type\":\"bar\"}],\"barpolar\":[{\"marker\":{\"line\":{\"color\":\"#E5ECF6\",\"width\":0.5},\"pattern\":{\"fillmode\":\"overlay\",\"size\":10,\"solidity\":0.2}},\"type\":\"barpolar\"}],\"carpet\":[{\"aaxis\":{\"endlinecolor\":\"#2a3f5f\",\"gridcolor\":\"white\",\"linecolor\":\"white\",\"minorgridcolor\":\"white\",\"startlinecolor\":\"#2a3f5f\"},\"baxis\":{\"endlinecolor\":\"#2a3f5f\",\"gridcolor\":\"white\",\"linecolor\":\"white\",\"minorgridcolor\":\"white\",\"startlinecolor\":\"#2a3f5f\"},\"type\":\"carpet\"}],\"choropleth\":[{\"colorbar\":{\"outlinewidth\":0,\"ticks\":\"\"},\"type\":\"choropleth\"}],\"contour\":[{\"colorbar\":{\"outlinewidth\":0,\"ticks\":\"\"},\"colorscale\":[[0.0,\"#0d0887\"],[0.1111111111111111,\"#46039f\"],[0.2222222222222222,\"#7201a8\"],[0.3333333333333333,\"#9c179e\"],[0.4444444444444444,\"#bd3786\"],[0.5555555555555556,\"#d8576b\"],[0.6666666666666666,\"#ed7953\"],[0.7777777777777778,\"#fb9f3a\"],[0.8888888888888888,\"#fdca26\"],[1.0,\"#f0f921\"]],\"type\":\"contour\"}],\"contourcarpet\":[{\"colorbar\":{\"outlinewidth\":0,\"ticks\":\"\"},\"type\":\"contourcarpet\"}],\"heatmap\":[{\"colorbar\":{\"outlinewidth\":0,\"ticks\":\"\"},\"colorscale\":[[0.0,\"#0d0887\"],[0.1111111111111111,\"#46039f\"],[0.2222222222222222,\"#7201a8\"],[0.3333333333333333,\"#9c179e\"],[0.4444444444444444,\"#bd3786\"],[0.5555555555555556,\"#d8576b\"],[0.6666666666666666,\"#ed7953\"],[0.7777777777777778,\"#fb9f3a\"],[0.8888888888888888,\"#fdca26\"],[1.0,\"#f0f921\"]],\"type\":\"heatmap\"}],\"heatmapgl\":[{\"colorbar\":{\"outlinewidth\":0,\"ticks\":\"\"},\"colorscale\":[[0.0,\"#0d0887\"],[0.1111111111111111,\"#46039f\"],[0.2222222222222222,\"#7201a8\"],[0.3333333333333333,\"#9c179e\"],[0.4444444444444444,\"#bd3786\"],[0.5555555555555556,\"#d8576b\"],[0.6666666666666666,\"#ed7953\"],[0.7777777777777778,\"#fb9f3a\"],[0.8888888888888888,\"#fdca26\"],[1.0,\"#f0f921\"]],\"type\":\"heatmapgl\"}],\"histogram\":[{\"marker\":{\"pattern\":{\"fillmode\":\"overlay\",\"size\":10,\"solidity\":0.2}},\"type\":\"histogram\"}],\"histogram2d\":[{\"colorbar\":{\"outlinewidth\":0,\"ticks\":\"\"},\"colorscale\":[[0.0,\"#0d0887\"],[0.1111111111111111,\"#46039f\"],[0.2222222222222222,\"#7201a8\"],[0.3333333333333333,\"#9c179e\"],[0.4444444444444444,\"#bd3786\"],[0.5555555555555556,\"#d8576b\"],[0.6666666666666666,\"#ed7953\"],[0.7777777777777778,\"#fb9f3a\"],[0.8888888888888888,\"#fdca26\"],[1.0,\"#f0f921\"]],\"type\":\"histogram2d\"}],\"histogram2dcontour\":[{\"colorbar\":{\"outlinewidth\":0,\"ticks\":\"\"},\"colorscale\":[[0.0,\"#0d0887\"],[0.1111111111111111,\"#46039f\"],[0.2222222222222222,\"#7201a8\"],[0.3333333333333333,\"#9c179e\"],[0.4444444444444444,\"#bd3786\"],[0.5555555555555556,\"#d8576b\"],[0.6666666666666666,\"#ed7953\"],[0.7777777777777778,\"#fb9f3a\"],[0.8888888888888888,\"#fdca26\"],[1.0,\"#f0f921\"]],\"type\":\"histogram2dcontour\"}],\"mesh3d\":[{\"colorbar\":{\"outlinewidth\":0,\"ticks\":\"\"},\"type\":\"mesh3d\"}],\"parcoords\":[{\"line\":{\"colorbar\":{\"outlinewidth\":0,\"ticks\":\"\"}},\"type\":\"parcoords\"}],\"pie\":[{\"automargin\":true,\"type\":\"pie\"}],\"scatter\":[{\"marker\":{\"colorbar\":{\"outlinewidth\":0,\"ticks\":\"\"}},\"type\":\"scatter\"}],\"scatter3d\":[{\"line\":{\"colorbar\":{\"outlinewidth\":0,\"ticks\":\"\"}},\"marker\":{\"colorbar\":{\"outlinewidth\":0,\"ticks\":\"\"}},\"type\":\"scatter3d\"}],\"scattercarpet\":[{\"marker\":{\"colorbar\":{\"outlinewidth\":0,\"ticks\":\"\"}},\"type\":\"scattercarpet\"}],\"scattergeo\":[{\"marker\":{\"colorbar\":{\"outlinewidth\":0,\"ticks\":\"\"}},\"type\":\"scattergeo\"}],\"scattergl\":[{\"marker\":{\"colorbar\":{\"outlinewidth\":0,\"ticks\":\"\"}},\"type\":\"scattergl\"}],\"scattermapbox\":[{\"marker\":{\"colorbar\":{\"outlinewidth\":0,\"ticks\":\"\"}},\"type\":\"scattermapbox\"}],\"scatterpolar\":[{\"marker\":{\"colorbar\":{\"outlinewidth\":0,\"ticks\":\"\"}},\"type\":\"scatterpolar\"}],\"scatterpolargl\":[{\"marker\":{\"colorbar\":{\"outlinewidth\":0,\"ticks\":\"\"}},\"type\":\"scatterpolargl\"}],\"scatterternary\":[{\"marker\":{\"colorbar\":{\"outlinewidth\":0,\"ticks\":\"\"}},\"type\":\"scatterternary\"}],\"surface\":[{\"colorbar\":{\"outlinewidth\":0,\"ticks\":\"\"},\"colorscale\":[[0.0,\"#0d0887\"],[0.1111111111111111,\"#46039f\"],[0.2222222222222222,\"#7201a8\"],[0.3333333333333333,\"#9c179e\"],[0.4444444444444444,\"#bd3786\"],[0.5555555555555556,\"#d8576b\"],[0.6666666666666666,\"#ed7953\"],[0.7777777777777778,\"#fb9f3a\"],[0.8888888888888888,\"#fdca26\"],[1.0,\"#f0f921\"]],\"type\":\"surface\"}],\"table\":[{\"cells\":{\"fill\":{\"color\":\"#EBF0F8\"},\"line\":{\"color\":\"white\"}},\"header\":{\"fill\":{\"color\":\"#C8D4E3\"},\"line\":{\"color\":\"white\"}},\"type\":\"table\"}]},\"layout\":{\"annotationdefaults\":{\"arrowcolor\":\"#2a3f5f\",\"arrowhead\":0,\"arrowwidth\":1},\"autotypenumbers\":\"strict\",\"coloraxis\":{\"colorbar\":{\"outlinewidth\":0,\"ticks\":\"\"}},\"colorscale\":{\"diverging\":[[0,\"#8e0152\"],[0.1,\"#c51b7d\"],[0.2,\"#de77ae\"],[0.3,\"#f1b6da\"],[0.4,\"#fde0ef\"],[0.5,\"#f7f7f7\"],[0.6,\"#e6f5d0\"],[0.7,\"#b8e186\"],[0.8,\"#7fbc41\"],[0.9,\"#4d9221\"],[1,\"#276419\"]],\"sequential\":[[0.0,\"#0d0887\"],[0.1111111111111111,\"#46039f\"],[0.2222222222222222,\"#7201a8\"],[0.3333333333333333,\"#9c179e\"],[0.4444444444444444,\"#bd3786\"],[0.5555555555555556,\"#d8576b\"],[0.6666666666666666,\"#ed7953\"],[0.7777777777777778,\"#fb9f3a\"],[0.8888888888888888,\"#fdca26\"],[1.0,\"#f0f921\"]],\"sequentialminus\":[[0.0,\"#0d0887\"],[0.1111111111111111,\"#46039f\"],[0.2222222222222222,\"#7201a8\"],[0.3333333333333333,\"#9c179e\"],[0.4444444444444444,\"#bd3786\"],[0.5555555555555556,\"#d8576b\"],[0.6666666666666666,\"#ed7953\"],[0.7777777777777778,\"#fb9f3a\"],[0.8888888888888888,\"#fdca26\"],[1.0,\"#f0f921\"]]},\"colorway\":[\"#636efa\",\"#EF553B\",\"#00cc96\",\"#ab63fa\",\"#FFA15A\",\"#19d3f3\",\"#FF6692\",\"#B6E880\",\"#FF97FF\",\"#FECB52\"],\"font\":{\"color\":\"#2a3f5f\"},\"geo\":{\"bgcolor\":\"white\",\"lakecolor\":\"white\",\"landcolor\":\"#E5ECF6\",\"showlakes\":true,\"showland\":true,\"subunitcolor\":\"white\"},\"hoverlabel\":{\"align\":\"left\"},\"hovermode\":\"closest\",\"mapbox\":{\"style\":\"light\"},\"paper_bgcolor\":\"white\",\"plot_bgcolor\":\"#E5ECF6\",\"polar\":{\"angularaxis\":{\"gridcolor\":\"white\",\"linecolor\":\"white\",\"ticks\":\"\"},\"bgcolor\":\"#E5ECF6\",\"radialaxis\":{\"gridcolor\":\"white\",\"linecolor\":\"white\",\"ticks\":\"\"}},\"scene\":{\"xaxis\":{\"backgroundcolor\":\"#E5ECF6\",\"gridcolor\":\"white\",\"gridwidth\":2,\"linecolor\":\"white\",\"showbackground\":true,\"ticks\":\"\",\"zerolinecolor\":\"white\"},\"yaxis\":{\"backgroundcolor\":\"#E5ECF6\",\"gridcolor\":\"white\",\"gridwidth\":2,\"linecolor\":\"white\",\"showbackground\":true,\"ticks\":\"\",\"zerolinecolor\":\"white\"},\"zaxis\":{\"backgroundcolor\":\"#E5ECF6\",\"gridcolor\":\"white\",\"gridwidth\":2,\"linecolor\":\"white\",\"showbackground\":true,\"ticks\":\"\",\"zerolinecolor\":\"white\"}},\"shapedefaults\":{\"line\":{\"color\":\"#2a3f5f\"}},\"ternary\":{\"aaxis\":{\"gridcolor\":\"white\",\"linecolor\":\"white\",\"ticks\":\"\"},\"baxis\":{\"gridcolor\":\"white\",\"linecolor\":\"white\",\"ticks\":\"\"},\"bgcolor\":\"#E5ECF6\",\"caxis\":{\"gridcolor\":\"white\",\"linecolor\":\"white\",\"ticks\":\"\"}},\"title\":{\"x\":0.05},\"xaxis\":{\"automargin\":true,\"gridcolor\":\"white\",\"linecolor\":\"white\",\"ticks\":\"\",\"title\":{\"standoff\":15},\"zerolinecolor\":\"white\",\"zerolinewidth\":2},\"yaxis\":{\"automargin\":true,\"gridcolor\":\"white\",\"linecolor\":\"white\",\"ticks\":\"\",\"title\":{\"standoff\":15},\"zerolinecolor\":\"white\",\"zerolinewidth\":2}}},\"geo\":{\"domain\":{\"x\":[0.0,1.0],\"y\":[0.0,1.0]},\"center\":{},\"scope\":\"africa\"},\"coloraxis\":{\"colorbar\":{\"title\":{\"text\":\"SimpleTemp\"}},\"colorscale\":[[0.0,\"#0d0887\"],[0.1111111111111111,\"#46039f\"],[0.2222222222222222,\"#7201a8\"],[0.3333333333333333,\"#9c179e\"],[0.4444444444444444,\"#bd3786\"],[0.5555555555555556,\"#d8576b\"],[0.6666666666666666,\"#ed7953\"],[0.7777777777777778,\"#fb9f3a\"],[0.8888888888888888,\"#fdca26\"],[1.0,\"#f0f921\"]]},\"legend\":{\"tracegroupgap\":0},\"title\":{\"text\":\"Average Annual Temperatures\"}},                        {\"responsive\": true}                    ).then(function(){\n",
              "                            \n",
              "var gd = document.getElementById('40d9da58-b549-44b5-bd53-ec90aa034c44');\n",
              "var x = new MutationObserver(function (mutations, observer) {{\n",
              "        var display = window.getComputedStyle(gd).display;\n",
              "        if (!display || display === 'none') {{\n",
              "            console.log([gd, 'removed!']);\n",
              "            Plotly.purge(gd);\n",
              "            observer.disconnect();\n",
              "        }}\n",
              "}});\n",
              "\n",
              "// Listen for the removal of the full notebook cells\n",
              "var notebookContainer = gd.closest('#notebook-container');\n",
              "if (notebookContainer) {{\n",
              "    x.observe(notebookContainer, {childList: true});\n",
              "}}\n",
              "\n",
              "// Listen for the clearing of the current output cell\n",
              "var outputEl = gd.closest('.output');\n",
              "if (outputEl) {{\n",
              "    x.observe(outputEl, {childList: true});\n",
              "}}\n",
              "\n",
              "                        })                };                });            </script>        </div>"
            ]
          },
          "metadata": {},
          "output_type": "display_data"
        }
      ],
      "source": [
        "# TODO\n",
        "fig = px.scatter_geo(df, lat='Latitude', lon='Longitude', color='SimpleTemp',\n",
        "                     scope='africa',\n",
        "                     title='Average Annual Temperatures')\n",
        "fig.show()"
      ]
    }
  ],
  "metadata": {
    "colab": {
      "provenance": [],
      "include_colab_link": true
    },
    "kernelspec": {
      "display_name": "Python 3 (ipykernel)",
      "language": "python",
      "name": "python3"
    },
    "language_info": {
      "codemirror_mode": {
        "name": "ipython",
        "version": 3
      },
      "file_extension": ".py",
      "mimetype": "text/x-python",
      "name": "python",
      "nbconvert_exporter": "python",
      "pygments_lexer": "ipython3",
      "version": "3.8.8"
    }
  },
  "nbformat": 4,
  "nbformat_minor": 0
}