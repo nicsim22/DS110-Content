{
  "cells": [
    {
      "cell_type": "markdown",
      "metadata": {
        "id": "view-in-github",
        "colab_type": "text"
      },
      "source": [
        "<a href=\"https://colab.research.google.com/github/nicsim22/DS110-Content/blob/main/Lecture18Objects_nosol.ipynb\" target=\"_parent\"><img src=\"https://colab.research.google.com/assets/colab-badge.svg\" alt=\"Open In Colab\"/></a>"
      ]
    },
    {
      "cell_type": "markdown",
      "metadata": {
        "id": "zi1uLQh3Oscc"
      },
      "source": [
        "# Objects"
      ]
    },
    {
      "cell_type": "markdown",
      "metadata": {
        "id": "FES0B6aiOscc"
      },
      "source": [
        "*Finally done with her file-scanning project, Cynthia tried committing her code to SAGE's repository, hoping it would pass code review.*\n",
        "\n",
        "*Unfortunately, her commit was rejected almost instantly.  \"We're an OO shop,\" read the terse feedback from a senior programmer.  \"Just because we're saving the world, doesn't mean we're sloppy.\"*\n",
        "\n",
        "*OO?  Right - Object-Oriented.  It was stuff Cynthia had skipped in her Python education because she couldn't see the point.  But now the senior programmers wouldn't let her play ball unless she structured her code that way, so she supposed that was point enough.*\n",
        "\n",
        "\n",
        "\n",
        "**Definitions to know:**\n",
        "- A class\n",
        "- An object\n",
        "- _ _ in it _ _ parameter\n",
        "- inheritance\n",
        "- 'self' parameter: used to access variables that belong to the class\n",
        "- difference between class and object: a class defines attributes and methods while an object holds the attribute data. A class doesn't hold attribute data."
      ]
    },
    {
      "cell_type": "markdown",
      "metadata": {
        "id": "J0n05HefOscc"
      },
      "source": [
        "# Object-oriented programming\n",
        "\n",
        "Suppose I want to model a lot of cars in a dataset.  Up until now, a reasonable way to do this might be with a tuple for each car:  (2010, \"Honda\", \"Fit\", \"blue\").  Having this data travel around together, inseparably, is already an improvement over tracking the year, make, model, and color with separate variables.  Assigning a tuple to a variable like my_car will keep the relevant facts together.  Being able to bundle data like this is good."
      ]
    },
    {
      "cell_type": "markdown",
      "metadata": {
        "id": "VoqCJvXsOscd"
      },
      "source": [
        "But we could get still more organized.  Today we'll learn how to implement our own object *classes*.  If I make all my cars objects that belong to a Car class:\n",
        "\n",
        "* I will have a way of checking whether something really is a Car instead of an unrelated four-element tuple.\n",
        "* I can organize my code by having all Car-related functions (methods) in one place.\n",
        "* Using inheritance (next time), I can share code between objects that are similar.\n",
        "* Readers of the code have a better idea of what's happening when it talks about a Car instead of a tuple.\n"
      ]
    },
    {
      "cell_type": "markdown",
      "metadata": {
        "id": "eblDS7UbOscd"
      },
      "source": [
        "We'll start by defining a basic **empty Car class**.  The \"pass\" keyword just means \"nothing interesting here.\"  To define a new class, we say **class [name of class]: and follow it with the body of the class**, which we can leave empty if we say \"pass.\""
      ]
    },
    {
      "cell_type": "code",
      "execution_count": null,
      "metadata": {
        "id": "PmZmrs1fOscd"
      },
      "outputs": [],
      "source": [
        "class Car:\n",
        "    pass #means no further code, intended to leave blank"
      ]
    },
    {
      "cell_type": "markdown",
      "metadata": {
        "id": "CHYAMV2-Oscd"
      },
      "source": [
        "We have at least declared that there's something you can create called a \"Car.\"  Even with this minimal definition, we can now create Car objects like so:"
      ]
    },
    {
      "cell_type": "code",
      "execution_count": null,
      "metadata": {
        "id": "c73FDbqrOscd"
      },
      "outputs": [],
      "source": [
        "car1 = Car()\n",
        "car2 = Car()\n",
        "car3 = Car()"
      ]
    },
    {
      "cell_type": "markdown",
      "metadata": {
        "id": "hJsmCz5KOscd"
      },
      "source": [
        "Each variable now points to a car object.  There's not much to know about these objects except the fact that they are indeed Cars, which we can check in the code:"
      ]
    },
    {
      "cell_type": "code",
      "execution_count": null,
      "metadata": {
        "colab": {
          "base_uri": "https://localhost:8080/"
        },
        "id": "wB8rJUx5Oscd",
        "outputId": "978acd05-a77f-4cfb-997f-9aad9cd207bc"
      },
      "outputs": [
        {
          "output_type": "stream",
          "name": "stdout",
          "text": [
            "True\n",
            "False\n"
          ]
        }
      ],
      "source": [
        "print(isinstance(car1,Car)) #isinstance -- takes two arguments (thing asked abt, name of type) -- is car1 a car?\n",
        "print(isinstance(5,Car)) #5 not assigned to car type -- thus false"
      ]
    },
    {
      "cell_type": "markdown",
      "metadata": {
        "id": "nF1qDzI4Oscd"
      },
      "source": [
        "The cars currently don't have any data associated with them, but we could assign data to them.  Unlike other languages, **Python doesn't require *attributes*, the variables associated with an object, to be defined ahead of time.** So we can set the attributes for these car objects like this:\n",
        "\n",
        "example of attribute: e.g. shape of array in numpy"
      ]
    },
    {
      "cell_type": "code",
      "execution_count": null,
      "metadata": {
        "id": "hvwZ__lsOscd"
      },
      "outputs": [],
      "source": [
        "car1.year = 2010\n",
        "car1.make = \"Honda\"\n",
        "car1.model = \"Fit\"\n",
        "car1.color = \"blue\"\n",
        "car2.year = 2013\n",
        "car2.make = \"Toyota\"\n",
        "car2.model = \"Camry\"\n",
        "car2.color = \"silver\""
      ]
    },
    {
      "cell_type": "markdown",
      "metadata": {
        "id": "zQf-PRUrOsce"
      },
      "source": [
        "We haven't done a lot with this class yet, but the code is already going to be more readable than it would be if we were using a tuple."
      ]
    },
    {
      "cell_type": "code",
      "execution_count": null,
      "metadata": {
        "colab": {
          "base_uri": "https://localhost:8080/"
        },
        "id": "-M5JfPHWOsce",
        "outputId": "4d304a3a-5518-4f04-f95c-ba93696af8ca"
      },
      "outputs": [
        {
          "output_type": "stream",
          "name": "stdout",
          "text": [
            "This car is a 2010 blue Honda Fit\n",
            "This car is a 2010 blue Honda Fit\n"
          ]
        }
      ],
      "source": [
        "print(f\"This car is a {car1.year} {car1.color} {car1.make} {car1.model}\")\n",
        "# as opposed to the less readable w tuple below\n",
        "my_car = (2010, 'Honda', 'Fit', 'blue')\n",
        "print(f\"This car is a {my_car[0]} {my_car[3]} {my_car[1]} {my_car[2]}\")"
      ]
    },
    {
      "cell_type": "markdown",
      "metadata": {
        "id": "0upYCwXhOsce"
      },
      "source": [
        "If we expect to do something a lot with our object, we can go back and **define a method for the object**.\n",
        "\n",
        "//Methods are functions specific to class.//\n",
        "\n",
        "To write a method for a class, define it indented under the class definition.  **You should also include a first argument of self**, in addition to any other arguments, that represents the object itself."
      ]
    },
    {
      "cell_type": "code",
      "execution_count": null,
      "metadata": {
        "colab": {
          "base_uri": "https://localhost:8080/"
        },
        "id": "6cXc3RmWOsce",
        "outputId": "832803ae-1118-46f8-9fbf-150d053a96d5"
      },
      "outputs": [
        {
          "output_type": "stream",
          "name": "stdout",
          "text": [
            "This car is a 2010 blue Honda Fit\n",
            "This car is a 2013 silver Toyota Camry\n",
            "This car is a 2010 blue Honda Fit\n"
          ]
        }
      ],
      "source": [
        "class Car:\n",
        "    def print_facts(self): #self refers to the argument it self --> object itself gets bound to self\n",
        "        print(f\"This car is a {self.year} {self.color} {self.make} {self.model}\") #self is whatever obj that comes before the . period\n",
        "\n",
        "# Have to re-start these car objects since they had the old class definition\n",
        "car1 = Car()\n",
        "car2 = Car()\n",
        "\n",
        "car1.year = 2010\n",
        "car1.make = \"Honda\"\n",
        "car1.model = \"Fit\"\n",
        "car1.color = \"blue\"\n",
        "car2.year = 2013\n",
        "car2.make = \"Toyota\"\n",
        "car2.model = \"Camry\"\n",
        "car2.color = \"silver\"\n",
        "\n",
        "car1.print_facts() #no argument here bc self argument is implict --> car.1 is the object that is already bound, so () can be empty\n",
        "car2.print_facts()\n",
        "Car.print_facts(car1) #will also works ????"
      ]
    },
    {
      "cell_type": "markdown",
      "metadata": {
        "id": "MfxiYGU_Osce"
      },
      "source": [
        "This code is still rather wordier than it needs to be - we want the *initialization* of the object, where all the attributes are set for the first time, to be a little more painless.  To this end, we introduce the *constructor* `__init__()`.  The method with this name gets called automatically when the object is created for the first time, using the arguments passed in at that time."
      ]
    },
    {
      "cell_type": "code",
      "execution_count": null,
      "metadata": {
        "colab": {
          "base_uri": "https://localhost:8080/"
        },
        "id": "mIpcqVh-Osce",
        "outputId": "99ed6ffc-9b4d-4919-ecc5-320b1d22ee46"
      },
      "outputs": [
        {
          "output_type": "stream",
          "name": "stdout",
          "text": [
            "This car is a 2010 blue Honda Fit\n",
            "This car is a 2013 silver Toyota Camry\n"
          ]
        }
      ],
      "source": [
        "class Car:\n",
        "    def __init__(self, year, make, model, color): #start with __ (2 underscores) and end with __ (2 underscores); __init__ defines i\n",
        "        # self refers to object that we are creating\n",
        "        # It's common for the constructor's arguments\n",
        "        # to have similar or identical names to the attributes they set\n",
        "        # (but we still have to say one should be set to the other)\n",
        "        self.year = year #self.year is the year that is stored in the object\n",
        "        self.make = make\n",
        "        self.model = model\n",
        "        self.color = color\n",
        "\n",
        "    def print_facts(self):\n",
        "        print(f\"This car is a {self.year} {self.color} {self.make} {self.model}\")\n",
        "\n",
        "# Now this is nicer\n",
        "car1 = Car(2010, \"Honda\", \"Fit\", \"blue\") #__init__ will be called\n",
        "car2 = Car(2013, \"Toyota\", \"Camry\", \"silver\")\n",
        "\n",
        "car1.print_facts()\n",
        "car2.print_facts()"
      ]
    },
    {
      "cell_type": "markdown",
      "metadata": {
        "id": "f96UKor_Osce"
      },
      "source": [
        "Those are the essentials to creating new classes.  We can expand the classes by adding more methods, or we can write code that makes use of the methods and attributes."
      ]
    },
    {
      "cell_type": "code",
      "execution_count": null,
      "metadata": {
        "colab": {
          "base_uri": "https://localhost:8080/"
        },
        "id": "hT-Viyv7Osce",
        "outputId": "5fe879ea-991d-4a68-f029-9a0194409ef3"
      },
      "outputs": [
        {
          "output_type": "stream",
          "name": "stdout",
          "text": [
            "This car is a 2013 silver Toyota Camry\n"
          ]
        }
      ],
      "source": [
        "# Return the newest car in a list of cars\n",
        "def newest_car(list_of_cars):\n",
        "    if not list_of_cars:  # ie, if empty list\n",
        "        return None\n",
        "    best_year = list_of_cars[0].year\n",
        "    best_car = list_of_cars[0]\n",
        "    for car in list_of_cars:\n",
        "        # This warning message could prevent a bug if we try\n",
        "        # to hand this function the wrong list\n",
        "        if not isinstance(car, Car):\n",
        "            print('Warning, list had non-car items!')\n",
        "        elif car.year > best_year:\n",
        "            best_year = car.year\n",
        "            best_car = car\n",
        "    return best_car\n",
        "\n",
        "newest_car([car1, car2]).print_facts()"
      ]
    },
    {
      "cell_type": "markdown",
      "metadata": {
        "id": "r92772fxOsce"
      },
      "source": [
        "# Review of object-oriented vocabulary so far\n",
        "\n",
        "The ***class*** is the template that allows us to make many **object *instances***.  Each instance has its own ***attributes***, which are like variables attached to the object, and can call ***methods***, functions associated with the class.  The function that creates a new object is called the *constructor*; the *constructor* creates new *instances*."
      ]
    },
    {
      "cell_type": "markdown",
      "metadata": {
        "id": "6YlsZ1Y4USgD"
      },
      "source": [
        "# Getters and Setters"
      ]
    },
    {
      "cell_type": "markdown",
      "metadata": {
        "id": "p1pXfSeyOsce"
      },
      "source": [
        "It's not uncommon to see object code that looks like the following, where there seem to be **methods that don't do anything besides set attribute values (*setters*)** and **methods that don't do anything besides return attribute values (*getters*)**.  We also see the attribute itself has a name starting with an underscore; this means \"please use a method instead of accessing this directly.\""
      ]
    },
    {
      "cell_type": "code",
      "execution_count": null,
      "metadata": {
        "id": "XeYUbBYGP3hc"
      },
      "outputs": [],
      "source": [
        "class Bill:\n",
        "  \"\"\" Represents a bill at a restaurant.\n",
        "\n",
        "  _items (list of tuples):  list of (item name, cost) tuples\n",
        "  \"\"\"\n",
        "\n",
        "  def __init__(self, items):\n",
        "    self._items = items\n",
        "\n",
        "  # \"Getter\"\n",
        "  def items(self):\n",
        "    return self._items\n",
        "\n",
        "  # \"Setter\"\n",
        "  def set_items(self, items):\n",
        "    self._items = items #why are there ._items instead of just .items? --> considered good obj oriented programming style --> esp if you will rewrite the code later --> usual\n",
        "    #if code were to be shifted around, methods to attributes will still safeguard and code will not break\n",
        "    #._ --> means do not access directly\n",
        "\n",
        "  def total_cost_pretax(self):\n",
        "    total = 0\n",
        "    for name, cost in self._items:\n",
        "      total += cost\n",
        "    return total\n",
        "\n",
        "  def total_cost_with_tax(self, tax_rate):\n",
        "    return round(self.total_cost_pretax() * (1 + tax_rate), 2)\n"
      ]
    },
    {
      "cell_type": "code",
      "execution_count": null,
      "metadata": {
        "colab": {
          "base_uri": "https://localhost:8080/"
        },
        "id": "TtR-qYgXRLTJ",
        "outputId": "280ee3c2-1a80-43c0-9537-ce4a36cc45ad"
      },
      "outputs": [
        {
          "output_type": "stream",
          "name": "stdout",
          "text": [
            "Total cost: 11.88\n"
          ]
        }
      ],
      "source": [
        "my_lunch = [(\"Ham Sandwich\", 9), (\"Coke\", 2)]\n",
        "new_bill = Bill(my_lunch)\n",
        "cost_with_tax = new_bill.total_cost_with_tax(0.08)\n",
        "print(f\"Total cost: {cost_with_tax}\")"
      ]
    },
    {
      "cell_type": "markdown",
      "metadata": {
        "id": "zQzPqEQYc4Vm"
      },
      "source": [
        "Writing \"getters\" and \"setters\" that avoid direct attribute access is generally considered to be a good practice in object-oriented programming, because it avoids breaking people's code when changes happen."
      ]
    },
    {
      "cell_type": "code",
      "execution_count": null,
      "metadata": {
        "colab": {
          "base_uri": "https://localhost:8080/"
        },
        "id": "liJIEZ9FOsce",
        "outputId": "11570db5-1025-4dc3-b095-54224a8ab6a0"
      },
      "outputs": [
        {
          "output_type": "execute_result",
          "data": {
            "text/plain": [
              "[('Ham Sandwich', 9), ('Coke', 2)]"
            ]
          },
          "metadata": {},
          "execution_count": 13
        }
      ],
      "source": [
        "new_bill.items() # could have said new_bill._items, but we were told not to"
      ]
    },
    {
      "cell_type": "code",
      "execution_count": null,
      "metadata": {
        "id": "vUlRai3MOsce"
      },
      "outputs": [],
      "source": [
        "# Now suppose the Bill code gets redesigned a little - code is rearranged for some reason\n",
        "# names and prices in separate lists now!\n",
        "class Bill:\n",
        "  \"\"\" Represents a bill at a restaurant.\n",
        "\n",
        "  _item_names (list of strings):  list of items on bill\n",
        "  _item_costs (list of ints): list of prices of items on bill\n",
        "  _items is not here anymore! sorry anybody who wrote code that uses it, we warned you!\n",
        "  \"\"\"\n",
        "\n",
        "  def __init__(self, items):\n",
        "    self._item_names = [item[0] for item in items]\n",
        "    self._item_costs = [item[1] for item in items]\n",
        "\n",
        "  # \"Getter\"\n",
        "  def items(self):\n",
        "    # list(zip(a, b)) returns a list of tuples combining a and b\n",
        "    return list(zip(self._item_names, self._item_costs))\n",
        "\n",
        "  # \"Setter\"\n",
        "  def set_items(self, items):\n",
        "    self._item_names = [item[0] for item in items]\n",
        "    self._item_costs = [item[1] for item in items]\n",
        "\n",
        "  def total_cost_pretax(self):\n",
        "    total = 0\n",
        "    for name, cost in self._items:\n",
        "      total += cost\n",
        "    return total\n",
        "\n",
        "  # Notice that we can call another method with this one\n",
        "  def total_cost_with_tax(self, tax_rate):\n",
        "    return round(self.total_cost_pretax() * (1 + tax_rate), 2)"
      ]
    },
    {
      "cell_type": "code",
      "execution_count": null,
      "metadata": {
        "colab": {
          "base_uri": "https://localhost:8080/"
        },
        "id": "AwfuR2OFOscf",
        "outputId": "91289025-2e4b-4496-be11-fba9e6c79c5d"
      },
      "outputs": [
        {
          "output_type": "stream",
          "name": "stdout",
          "text": [
            "[('Ham Sandwich', 9), ('Coke', 2)]\n"
          ]
        }
      ],
      "source": [
        "my_lunch = [(\"Ham Sandwich\", 9), (\"Coke\", 2)]\n",
        "new_bill = Bill(my_lunch)\n",
        "print(new_bill.items())  # this still works the same, but _items would have broken"
      ]
    },
    {
      "cell_type": "markdown",
      "metadata": {
        "id": "OprNylJL1vaW"
      },
      "source": [
        "# Validation in the Constructor\n",
        "\n",
        "One use of objects is in validating data - making sure it's the right type and range for its intended use.  This also demonstrates the use of ***raise*, or raising your own exception**."
      ]
    },
    {
      "cell_type": "code",
      "execution_count": null,
      "metadata": {
        "id": "TZ0Gl_fJ19ur",
        "scrolled": true
      },
      "outputs": [],
      "source": [
        "class Circle:\n",
        "  def __init__(self, radius):\n",
        "    if radius < 0:\n",
        "      raise ValueError(\"Can't have negative circle radius\") #raise your own error\n",
        "    self.radius=radius\n",
        "\n",
        "Circle(-1)"
      ]
    },
    {
      "cell_type": "code",
      "source": [],
      "metadata": {
        "id": "aeGb4ir6YG25"
      },
      "execution_count": null,
      "outputs": []
    },
    {
      "cell_type": "markdown",
      "metadata": {
        "id": "Nl_DZsuA2onA"
      },
      "source": [
        "# Default parameter values\n",
        "\n",
        "It often makes sense to have the constructor take all the attributes of an object as arguments.  But there may be some default values that work well.\n",
        "You can set default arguments to the constructor by following each argument with =value, where value is the default value.  Classes in machine learning libraries like scikit-learn do this a lot, recommending default values for their algorithms' parameters that often work well."
      ]
    },
    {
      "cell_type": "code",
      "execution_count": null,
      "metadata": {
        "colab": {
          "base_uri": "https://localhost:8080/"
        },
        "id": "3b9xOClM3Ck3",
        "outputId": "39d11043-cde6-4c8d-ca86-ad4a2f32ba24"
      },
      "outputs": [
        {
          "output_type": "execute_result",
          "data": {
            "text/plain": [
              "2"
            ]
          },
          "metadata": {},
          "execution_count": 1
        }
      ],
      "source": [
        "class Circle2:\n",
        "  def __init__(self,radius=2): #can specify a default value for an argument, spare yourself extra typing and errors\n",
        "    self.radius = radius\n",
        "\n",
        "Circle2().radius #calling circle2 constructor, asking for its radius"
      ]
    },
    {
      "cell_type": "markdown",
      "metadata": {
        "id": "HJxr2IvV6A71"
      },
      "source": [
        "# Choosing what is an object\n",
        "\n",
        "Suppose we're writing software for a gradebook.  There are students who have grades on assignments and tests.  It's for a particular class.  What among these might usefully be an object?\n",
        "\n",
        "* The students? -- Yes, can be obj\n",
        "* The gradebook itself? -- Likely not, but possible, depends on what u want\n",
        "* The grades? -- No\n",
        "* The course name? -- No, just a single attribute of the grade book"
      ]
    },
    {
      "cell_type": "markdown",
      "metadata": {
        "id": "0-Y-kGM5Oscf"
      },
      "source": [
        "In short, things that make good classes often have several pieces of data associated with them, along with functions that specifically pertain to that data.  But choosing what to treat as an object is often a question of elegance rather than a hard-and-fast rule."
      ]
    },
    {
      "cell_type": "markdown",
      "metadata": {
        "id": "W4Cc7bhVs8IR"
      },
      "source": [
        "# Exercise (5 min)\n",
        "\n",
        "Try defining an object that represents a student.  Include at least 3 attributes that describe the student, including age.  Define a constructor and a method get_older() which increases the student's age by the argument.  You don't need to define all the getters and setters."
      ]
    },
    {
      "cell_type": "code",
      "execution_count": null,
      "metadata": {
        "colab": {
          "base_uri": "https://localhost:8080/"
        },
        "id": "r6i5KbmSJ-qg",
        "outputId": "ce0db840-156b-467c-a572-9177d1c20978"
      },
      "outputs": [
        {
          "output_type": "stream",
          "name": "stdout",
          "text": [
            "22\n"
          ]
        }
      ],
      "source": [
        "# TODO\n",
        "class Student:\n",
        "  def __init__(self, age, major, year):\n",
        "    self.age = age\n",
        "    self.major = major\n",
        "    self.year = year\n",
        "\n",
        "  def get_older(self, amount):\n",
        "    self.age += amount\n",
        "\n",
        "\n",
        "bob = Student(20, \"Biology\", \"Sophomore\")\n",
        "bob.get_older(2)\n",
        "print (bob.age)\n",
        "\n"
      ]
    },
    {
      "cell_type": "markdown",
      "metadata": {
        "id": "Y9kvq8fGrwaK"
      },
      "source": [
        "# Pass by reference and objects\n",
        "\n",
        "Everything in Python is actually an object, and Python is actually pass-by-reference with everything.  But you'll see the effects of this particularly when dealing with objects you created.  If you assign from one variable to another, then change one of the variables, the other will appear to change as well - because both variables are pointing to the same data in memory."
      ]
    },
    {
      "cell_type": "code",
      "execution_count": null,
      "metadata": {
        "colab": {
          "base_uri": "https://localhost:8080/"
        },
        "id": "bMCNsXwdsPOB",
        "outputId": "0b4d1af4-f0bb-4005-fe03-fc24e0163ca6"
      },
      "outputs": [
        {
          "output_type": "stream",
          "name": "stdout",
          "text": [
            "This car is a 2010 black Honda Fit\n",
            "This car is a 2010 black Honda Fit\n"
          ]
        }
      ],
      "source": [
        "car1 = Car(2010, \"Honda\", \"Fit\", \"blue\")\n",
        "car2 = car1\n",
        "car2.color = \"black\" #will change blue in line 1 to black\n",
        "car1.print_facts()  # It's black now\n",
        "car2.print_facts()"
      ]
    },
    {
      "cell_type": "markdown",
      "metadata": {
        "id": "GocVgCRROscq"
      },
      "source": [
        "If you want to alter one copy but not the other, you need to copy your object first. copy.copy() will do the job, or copy.deepcopy() if you've created a data structure with pointers to other objects that also need copying."
      ]
    },
    {
      "cell_type": "code",
      "execution_count": null,
      "metadata": {
        "colab": {
          "base_uri": "https://localhost:8080/"
        },
        "id": "tVz45Mu6Oscq",
        "outputId": "7e0c6a7c-42e7-4e1f-afb6-f8efe262c746"
      },
      "outputs": [
        {
          "output_type": "stream",
          "name": "stdout",
          "text": [
            "This car is a 2010 black Honda Fit\n",
            "This car is a 2010 white Honda Fit\n"
          ]
        }
      ],
      "source": [
        "import copy\n",
        "\n",
        "car2 = copy.copy(car1) #standard copy here, not a deep copy\n",
        "car2.color = \"white\"\n",
        "car1.print_facts()\n",
        "car2.print_facts()"
      ]
    },
    {
      "cell_type": "markdown",
      "metadata": {
        "id": "Epu7ZtJ2Oscq"
      },
      "source": [
        "# Example with a CSV dataset\n",
        "\n",
        "In reading a dataset, there may be entities that it makes sense to treat as objects, either because the object represents one sample, or because the object brings together data from several rows.  Here we show two classes that could be created that are related to the books.csv dataset:  a Book class, which corresponds to a row of the dataset, and a Publisher that has published multiple books, corresponding to an entry in the last column."
      ]
    },
    {
      "cell_type": "code",
      "execution_count": null,
      "metadata": {
        "colab": {
          "base_uri": "https://localhost:8080/",
          "height": 74
        },
        "id": "4puN9G1WOscq",
        "outputId": "d819e04f-fadd-45af-8a49-10119ee9fe8b"
      },
      "outputs": [
        {
          "output_type": "display_data",
          "data": {
            "text/plain": [
              "<IPython.core.display.HTML object>"
            ],
            "text/html": [
              "\n",
              "     <input type=\"file\" id=\"files-e70ac976-1a17-42fc-8817-a573c4f59cce\" name=\"files[]\" multiple disabled\n",
              "        style=\"border:none\" />\n",
              "     <output id=\"result-e70ac976-1a17-42fc-8817-a573c4f59cce\">\n",
              "      Upload widget is only available when the cell has been executed in the\n",
              "      current browser session. Please rerun this cell to enable.\n",
              "      </output>\n",
              "      <script>// Copyright 2017 Google LLC\n",
              "//\n",
              "// Licensed under the Apache License, Version 2.0 (the \"License\");\n",
              "// you may not use this file except in compliance with the License.\n",
              "// You may obtain a copy of the License at\n",
              "//\n",
              "//      http://www.apache.org/licenses/LICENSE-2.0\n",
              "//\n",
              "// Unless required by applicable law or agreed to in writing, software\n",
              "// distributed under the License is distributed on an \"AS IS\" BASIS,\n",
              "// WITHOUT WARRANTIES OR CONDITIONS OF ANY KIND, either express or implied.\n",
              "// See the License for the specific language governing permissions and\n",
              "// limitations under the License.\n",
              "\n",
              "/**\n",
              " * @fileoverview Helpers for google.colab Python module.\n",
              " */\n",
              "(function(scope) {\n",
              "function span(text, styleAttributes = {}) {\n",
              "  const element = document.createElement('span');\n",
              "  element.textContent = text;\n",
              "  for (const key of Object.keys(styleAttributes)) {\n",
              "    element.style[key] = styleAttributes[key];\n",
              "  }\n",
              "  return element;\n",
              "}\n",
              "\n",
              "// Max number of bytes which will be uploaded at a time.\n",
              "const MAX_PAYLOAD_SIZE = 100 * 1024;\n",
              "\n",
              "function _uploadFiles(inputId, outputId) {\n",
              "  const steps = uploadFilesStep(inputId, outputId);\n",
              "  const outputElement = document.getElementById(outputId);\n",
              "  // Cache steps on the outputElement to make it available for the next call\n",
              "  // to uploadFilesContinue from Python.\n",
              "  outputElement.steps = steps;\n",
              "\n",
              "  return _uploadFilesContinue(outputId);\n",
              "}\n",
              "\n",
              "// This is roughly an async generator (not supported in the browser yet),\n",
              "// where there are multiple asynchronous steps and the Python side is going\n",
              "// to poll for completion of each step.\n",
              "// This uses a Promise to block the python side on completion of each step,\n",
              "// then passes the result of the previous step as the input to the next step.\n",
              "function _uploadFilesContinue(outputId) {\n",
              "  const outputElement = document.getElementById(outputId);\n",
              "  const steps = outputElement.steps;\n",
              "\n",
              "  const next = steps.next(outputElement.lastPromiseValue);\n",
              "  return Promise.resolve(next.value.promise).then((value) => {\n",
              "    // Cache the last promise value to make it available to the next\n",
              "    // step of the generator.\n",
              "    outputElement.lastPromiseValue = value;\n",
              "    return next.value.response;\n",
              "  });\n",
              "}\n",
              "\n",
              "/**\n",
              " * Generator function which is called between each async step of the upload\n",
              " * process.\n",
              " * @param {string} inputId Element ID of the input file picker element.\n",
              " * @param {string} outputId Element ID of the output display.\n",
              " * @return {!Iterable<!Object>} Iterable of next steps.\n",
              " */\n",
              "function* uploadFilesStep(inputId, outputId) {\n",
              "  const inputElement = document.getElementById(inputId);\n",
              "  inputElement.disabled = false;\n",
              "\n",
              "  const outputElement = document.getElementById(outputId);\n",
              "  outputElement.innerHTML = '';\n",
              "\n",
              "  const pickedPromise = new Promise((resolve) => {\n",
              "    inputElement.addEventListener('change', (e) => {\n",
              "      resolve(e.target.files);\n",
              "    });\n",
              "  });\n",
              "\n",
              "  const cancel = document.createElement('button');\n",
              "  inputElement.parentElement.appendChild(cancel);\n",
              "  cancel.textContent = 'Cancel upload';\n",
              "  const cancelPromise = new Promise((resolve) => {\n",
              "    cancel.onclick = () => {\n",
              "      resolve(null);\n",
              "    };\n",
              "  });\n",
              "\n",
              "  // Wait for the user to pick the files.\n",
              "  const files = yield {\n",
              "    promise: Promise.race([pickedPromise, cancelPromise]),\n",
              "    response: {\n",
              "      action: 'starting',\n",
              "    }\n",
              "  };\n",
              "\n",
              "  cancel.remove();\n",
              "\n",
              "  // Disable the input element since further picks are not allowed.\n",
              "  inputElement.disabled = true;\n",
              "\n",
              "  if (!files) {\n",
              "    return {\n",
              "      response: {\n",
              "        action: 'complete',\n",
              "      }\n",
              "    };\n",
              "  }\n",
              "\n",
              "  for (const file of files) {\n",
              "    const li = document.createElement('li');\n",
              "    li.append(span(file.name, {fontWeight: 'bold'}));\n",
              "    li.append(span(\n",
              "        `(${file.type || 'n/a'}) - ${file.size} bytes, ` +\n",
              "        `last modified: ${\n",
              "            file.lastModifiedDate ? file.lastModifiedDate.toLocaleDateString() :\n",
              "                                    'n/a'} - `));\n",
              "    const percent = span('0% done');\n",
              "    li.appendChild(percent);\n",
              "\n",
              "    outputElement.appendChild(li);\n",
              "\n",
              "    const fileDataPromise = new Promise((resolve) => {\n",
              "      const reader = new FileReader();\n",
              "      reader.onload = (e) => {\n",
              "        resolve(e.target.result);\n",
              "      };\n",
              "      reader.readAsArrayBuffer(file);\n",
              "    });\n",
              "    // Wait for the data to be ready.\n",
              "    let fileData = yield {\n",
              "      promise: fileDataPromise,\n",
              "      response: {\n",
              "        action: 'continue',\n",
              "      }\n",
              "    };\n",
              "\n",
              "    // Use a chunked sending to avoid message size limits. See b/62115660.\n",
              "    let position = 0;\n",
              "    do {\n",
              "      const length = Math.min(fileData.byteLength - position, MAX_PAYLOAD_SIZE);\n",
              "      const chunk = new Uint8Array(fileData, position, length);\n",
              "      position += length;\n",
              "\n",
              "      const base64 = btoa(String.fromCharCode.apply(null, chunk));\n",
              "      yield {\n",
              "        response: {\n",
              "          action: 'append',\n",
              "          file: file.name,\n",
              "          data: base64,\n",
              "        },\n",
              "      };\n",
              "\n",
              "      let percentDone = fileData.byteLength === 0 ?\n",
              "          100 :\n",
              "          Math.round((position / fileData.byteLength) * 100);\n",
              "      percent.textContent = `${percentDone}% done`;\n",
              "\n",
              "    } while (position < fileData.byteLength);\n",
              "  }\n",
              "\n",
              "  // All done.\n",
              "  yield {\n",
              "    response: {\n",
              "      action: 'complete',\n",
              "    }\n",
              "  };\n",
              "}\n",
              "\n",
              "scope.google = scope.google || {};\n",
              "scope.google.colab = scope.google.colab || {};\n",
              "scope.google.colab._files = {\n",
              "  _uploadFiles,\n",
              "  _uploadFilesContinue,\n",
              "};\n",
              "})(self);\n",
              "</script> "
            ]
          },
          "metadata": {}
        },
        {
          "output_type": "stream",
          "name": "stdout",
          "text": [
            "Saving books.csv to books.csv\n"
          ]
        }
      ],
      "source": [
        "# Google colab only\n",
        "from google.colab import files\n",
        "uploaded = files.upload() # import books.csv"
      ]
    },
    {
      "cell_type": "code",
      "execution_count": null,
      "metadata": {
        "scrolled": true,
        "colab": {
          "base_uri": "https://localhost:8080/",
          "height": 935
        },
        "id": "1J1LURB7Oscq",
        "outputId": "9d884742-41af-4535-e6ae-c2a5f7573aa2"
      },
      "outputs": [
        {
          "output_type": "execute_result",
          "data": {
            "text/plain": [
              "                                                    bookID  \\\n",
              "title                                                        \n",
              "Harry Potter and the Half-Blood Prince (Harry P...       1   \n",
              "Harry Potter and the Order of the Phoenix (Harr...       2   \n",
              "Harry Potter and the Chamber of Secrets (Harry ...       4   \n",
              "Harry Potter and the Prisoner of Azkaban (Harry...       5   \n",
              "Harry Potter Boxed Set  Books 1-5 (Harry Potter...       8   \n",
              "\n",
              "                                                                       authors  \\\n",
              "title                                                                            \n",
              "Harry Potter and the Half-Blood Prince (Harry P...  J.K. Rowling/Mary GrandPré   \n",
              "Harry Potter and the Order of the Phoenix (Harr...  J.K. Rowling/Mary GrandPré   \n",
              "Harry Potter and the Chamber of Secrets (Harry ...                J.K. Rowling   \n",
              "Harry Potter and the Prisoner of Azkaban (Harry...  J.K. Rowling/Mary GrandPré   \n",
              "Harry Potter Boxed Set  Books 1-5 (Harry Potter...  J.K. Rowling/Mary GrandPré   \n",
              "\n",
              "                                                    average_rating  \\\n",
              "title                                                                \n",
              "Harry Potter and the Half-Blood Prince (Harry P...            4.57   \n",
              "Harry Potter and the Order of the Phoenix (Harr...            4.49   \n",
              "Harry Potter and the Chamber of Secrets (Harry ...            4.42   \n",
              "Harry Potter and the Prisoner of Azkaban (Harry...            4.56   \n",
              "Harry Potter Boxed Set  Books 1-5 (Harry Potter...            4.78   \n",
              "\n",
              "                                                          isbn         isbn13  \\\n",
              "title                                                                           \n",
              "Harry Potter and the Half-Blood Prince (Harry P...  0439785960  9780439785969   \n",
              "Harry Potter and the Order of the Phoenix (Harr...  0439358078  9780439358071   \n",
              "Harry Potter and the Chamber of Secrets (Harry ...  0439554896  9780439554893   \n",
              "Harry Potter and the Prisoner of Azkaban (Harry...  043965548X  9780439655484   \n",
              "Harry Potter Boxed Set  Books 1-5 (Harry Potter...  0439682584  9780439682589   \n",
              "\n",
              "                                                   language_code  num_pages  \\\n",
              "title                                                                         \n",
              "Harry Potter and the Half-Blood Prince (Harry P...           eng        652   \n",
              "Harry Potter and the Order of the Phoenix (Harr...           eng        870   \n",
              "Harry Potter and the Chamber of Secrets (Harry ...           eng        352   \n",
              "Harry Potter and the Prisoner of Azkaban (Harry...           eng        435   \n",
              "Harry Potter Boxed Set  Books 1-5 (Harry Potter...           eng       2690   \n",
              "\n",
              "                                                    ratings_count  \\\n",
              "title                                                               \n",
              "Harry Potter and the Half-Blood Prince (Harry P...        2095690   \n",
              "Harry Potter and the Order of the Phoenix (Harr...        2153167   \n",
              "Harry Potter and the Chamber of Secrets (Harry ...           6333   \n",
              "Harry Potter and the Prisoner of Azkaban (Harry...        2339585   \n",
              "Harry Potter Boxed Set  Books 1-5 (Harry Potter...          41428   \n",
              "\n",
              "                                                    text_reviews_count  \\\n",
              "title                                                                    \n",
              "Harry Potter and the Half-Blood Prince (Harry P...               27591   \n",
              "Harry Potter and the Order of the Phoenix (Harr...               29221   \n",
              "Harry Potter and the Chamber of Secrets (Harry ...                 244   \n",
              "Harry Potter and the Prisoner of Azkaban (Harry...               36325   \n",
              "Harry Potter Boxed Set  Books 1-5 (Harry Potter...                 164   \n",
              "\n",
              "                                                   publication_date  \\\n",
              "title                                                                 \n",
              "Harry Potter and the Half-Blood Prince (Harry P...        9/16/2006   \n",
              "Harry Potter and the Order of the Phoenix (Harr...         9/1/2004   \n",
              "Harry Potter and the Chamber of Secrets (Harry ...        11/1/2003   \n",
              "Harry Potter and the Prisoner of Azkaban (Harry...         5/1/2004   \n",
              "Harry Potter Boxed Set  Books 1-5 (Harry Potter...        9/13/2004   \n",
              "\n",
              "                                                          publisher  \n",
              "title                                                                \n",
              "Harry Potter and the Half-Blood Prince (Harry P...  Scholastic Inc.  \n",
              "Harry Potter and the Order of the Phoenix (Harr...  Scholastic Inc.  \n",
              "Harry Potter and the Chamber of Secrets (Harry ...       Scholastic  \n",
              "Harry Potter and the Prisoner of Azkaban (Harry...  Scholastic Inc.  \n",
              "Harry Potter Boxed Set  Books 1-5 (Harry Potter...       Scholastic  "
            ],
            "text/html": [
              "\n",
              "  <div id=\"df-202d6030-38d8-45c5-b9ad-85804e196d6d\" class=\"colab-df-container\">\n",
              "    <div>\n",
              "<style scoped>\n",
              "    .dataframe tbody tr th:only-of-type {\n",
              "        vertical-align: middle;\n",
              "    }\n",
              "\n",
              "    .dataframe tbody tr th {\n",
              "        vertical-align: top;\n",
              "    }\n",
              "\n",
              "    .dataframe thead th {\n",
              "        text-align: right;\n",
              "    }\n",
              "</style>\n",
              "<table border=\"1\" class=\"dataframe\">\n",
              "  <thead>\n",
              "    <tr style=\"text-align: right;\">\n",
              "      <th></th>\n",
              "      <th>bookID</th>\n",
              "      <th>authors</th>\n",
              "      <th>average_rating</th>\n",
              "      <th>isbn</th>\n",
              "      <th>isbn13</th>\n",
              "      <th>language_code</th>\n",
              "      <th>num_pages</th>\n",
              "      <th>ratings_count</th>\n",
              "      <th>text_reviews_count</th>\n",
              "      <th>publication_date</th>\n",
              "      <th>publisher</th>\n",
              "    </tr>\n",
              "    <tr>\n",
              "      <th>title</th>\n",
              "      <th></th>\n",
              "      <th></th>\n",
              "      <th></th>\n",
              "      <th></th>\n",
              "      <th></th>\n",
              "      <th></th>\n",
              "      <th></th>\n",
              "      <th></th>\n",
              "      <th></th>\n",
              "      <th></th>\n",
              "      <th></th>\n",
              "    </tr>\n",
              "  </thead>\n",
              "  <tbody>\n",
              "    <tr>\n",
              "      <th>Harry Potter and the Half-Blood Prince (Harry Potter  #6)</th>\n",
              "      <td>1</td>\n",
              "      <td>J.K. Rowling/Mary GrandPré</td>\n",
              "      <td>4.57</td>\n",
              "      <td>0439785960</td>\n",
              "      <td>9780439785969</td>\n",
              "      <td>eng</td>\n",
              "      <td>652</td>\n",
              "      <td>2095690</td>\n",
              "      <td>27591</td>\n",
              "      <td>9/16/2006</td>\n",
              "      <td>Scholastic Inc.</td>\n",
              "    </tr>\n",
              "    <tr>\n",
              "      <th>Harry Potter and the Order of the Phoenix (Harry Potter  #5)</th>\n",
              "      <td>2</td>\n",
              "      <td>J.K. Rowling/Mary GrandPré</td>\n",
              "      <td>4.49</td>\n",
              "      <td>0439358078</td>\n",
              "      <td>9780439358071</td>\n",
              "      <td>eng</td>\n",
              "      <td>870</td>\n",
              "      <td>2153167</td>\n",
              "      <td>29221</td>\n",
              "      <td>9/1/2004</td>\n",
              "      <td>Scholastic Inc.</td>\n",
              "    </tr>\n",
              "    <tr>\n",
              "      <th>Harry Potter and the Chamber of Secrets (Harry Potter  #2)</th>\n",
              "      <td>4</td>\n",
              "      <td>J.K. Rowling</td>\n",
              "      <td>4.42</td>\n",
              "      <td>0439554896</td>\n",
              "      <td>9780439554893</td>\n",
              "      <td>eng</td>\n",
              "      <td>352</td>\n",
              "      <td>6333</td>\n",
              "      <td>244</td>\n",
              "      <td>11/1/2003</td>\n",
              "      <td>Scholastic</td>\n",
              "    </tr>\n",
              "    <tr>\n",
              "      <th>Harry Potter and the Prisoner of Azkaban (Harry Potter  #3)</th>\n",
              "      <td>5</td>\n",
              "      <td>J.K. Rowling/Mary GrandPré</td>\n",
              "      <td>4.56</td>\n",
              "      <td>043965548X</td>\n",
              "      <td>9780439655484</td>\n",
              "      <td>eng</td>\n",
              "      <td>435</td>\n",
              "      <td>2339585</td>\n",
              "      <td>36325</td>\n",
              "      <td>5/1/2004</td>\n",
              "      <td>Scholastic Inc.</td>\n",
              "    </tr>\n",
              "    <tr>\n",
              "      <th>Harry Potter Boxed Set  Books 1-5 (Harry Potter  #1-5)</th>\n",
              "      <td>8</td>\n",
              "      <td>J.K. Rowling/Mary GrandPré</td>\n",
              "      <td>4.78</td>\n",
              "      <td>0439682584</td>\n",
              "      <td>9780439682589</td>\n",
              "      <td>eng</td>\n",
              "      <td>2690</td>\n",
              "      <td>41428</td>\n",
              "      <td>164</td>\n",
              "      <td>9/13/2004</td>\n",
              "      <td>Scholastic</td>\n",
              "    </tr>\n",
              "  </tbody>\n",
              "</table>\n",
              "</div>\n",
              "    <div class=\"colab-df-buttons\">\n",
              "\n",
              "  <div class=\"colab-df-container\">\n",
              "    <button class=\"colab-df-convert\" onclick=\"convertToInteractive('df-202d6030-38d8-45c5-b9ad-85804e196d6d')\"\n",
              "            title=\"Convert this dataframe to an interactive table.\"\n",
              "            style=\"display:none;\">\n",
              "\n",
              "  <svg xmlns=\"http://www.w3.org/2000/svg\" height=\"24px\" viewBox=\"0 -960 960 960\">\n",
              "    <path d=\"M120-120v-720h720v720H120Zm60-500h600v-160H180v160Zm220 220h160v-160H400v160Zm0 220h160v-160H400v160ZM180-400h160v-160H180v160Zm440 0h160v-160H620v160ZM180-180h160v-160H180v160Zm440 0h160v-160H620v160Z\"/>\n",
              "  </svg>\n",
              "    </button>\n",
              "\n",
              "  <style>\n",
              "    .colab-df-container {\n",
              "      display:flex;\n",
              "      gap: 12px;\n",
              "    }\n",
              "\n",
              "    .colab-df-convert {\n",
              "      background-color: #E8F0FE;\n",
              "      border: none;\n",
              "      border-radius: 50%;\n",
              "      cursor: pointer;\n",
              "      display: none;\n",
              "      fill: #1967D2;\n",
              "      height: 32px;\n",
              "      padding: 0 0 0 0;\n",
              "      width: 32px;\n",
              "    }\n",
              "\n",
              "    .colab-df-convert:hover {\n",
              "      background-color: #E2EBFA;\n",
              "      box-shadow: 0px 1px 2px rgba(60, 64, 67, 0.3), 0px 1px 3px 1px rgba(60, 64, 67, 0.15);\n",
              "      fill: #174EA6;\n",
              "    }\n",
              "\n",
              "    .colab-df-buttons div {\n",
              "      margin-bottom: 4px;\n",
              "    }\n",
              "\n",
              "    [theme=dark] .colab-df-convert {\n",
              "      background-color: #3B4455;\n",
              "      fill: #D2E3FC;\n",
              "    }\n",
              "\n",
              "    [theme=dark] .colab-df-convert:hover {\n",
              "      background-color: #434B5C;\n",
              "      box-shadow: 0px 1px 3px 1px rgba(0, 0, 0, 0.15);\n",
              "      filter: drop-shadow(0px 1px 2px rgba(0, 0, 0, 0.3));\n",
              "      fill: #FFFFFF;\n",
              "    }\n",
              "  </style>\n",
              "\n",
              "    <script>\n",
              "      const buttonEl =\n",
              "        document.querySelector('#df-202d6030-38d8-45c5-b9ad-85804e196d6d button.colab-df-convert');\n",
              "      buttonEl.style.display =\n",
              "        google.colab.kernel.accessAllowed ? 'block' : 'none';\n",
              "\n",
              "      async function convertToInteractive(key) {\n",
              "        const element = document.querySelector('#df-202d6030-38d8-45c5-b9ad-85804e196d6d');\n",
              "        const dataTable =\n",
              "          await google.colab.kernel.invokeFunction('convertToInteractive',\n",
              "                                                    [key], {});\n",
              "        if (!dataTable) return;\n",
              "\n",
              "        const docLinkHtml = 'Like what you see? Visit the ' +\n",
              "          '<a target=\"_blank\" href=https://colab.research.google.com/notebooks/data_table.ipynb>data table notebook</a>'\n",
              "          + ' to learn more about interactive tables.';\n",
              "        element.innerHTML = '';\n",
              "        dataTable['output_type'] = 'display_data';\n",
              "        await google.colab.output.renderOutput(dataTable, element);\n",
              "        const docLink = document.createElement('div');\n",
              "        docLink.innerHTML = docLinkHtml;\n",
              "        element.appendChild(docLink);\n",
              "      }\n",
              "    </script>\n",
              "  </div>\n",
              "\n",
              "\n",
              "<div id=\"df-7a98c727-2573-4281-bff9-71be19ef8149\">\n",
              "  <button class=\"colab-df-quickchart\" onclick=\"quickchart('df-7a98c727-2573-4281-bff9-71be19ef8149')\"\n",
              "            title=\"Suggest charts\"\n",
              "            style=\"display:none;\">\n",
              "\n",
              "<svg xmlns=\"http://www.w3.org/2000/svg\" height=\"24px\"viewBox=\"0 0 24 24\"\n",
              "     width=\"24px\">\n",
              "    <g>\n",
              "        <path d=\"M19 3H5c-1.1 0-2 .9-2 2v14c0 1.1.9 2 2 2h14c1.1 0 2-.9 2-2V5c0-1.1-.9-2-2-2zM9 17H7v-7h2v7zm4 0h-2V7h2v10zm4 0h-2v-4h2v4z\"/>\n",
              "    </g>\n",
              "</svg>\n",
              "  </button>\n",
              "\n",
              "<style>\n",
              "  .colab-df-quickchart {\n",
              "      --bg-color: #E8F0FE;\n",
              "      --fill-color: #1967D2;\n",
              "      --hover-bg-color: #E2EBFA;\n",
              "      --hover-fill-color: #174EA6;\n",
              "      --disabled-fill-color: #AAA;\n",
              "      --disabled-bg-color: #DDD;\n",
              "  }\n",
              "\n",
              "  [theme=dark] .colab-df-quickchart {\n",
              "      --bg-color: #3B4455;\n",
              "      --fill-color: #D2E3FC;\n",
              "      --hover-bg-color: #434B5C;\n",
              "      --hover-fill-color: #FFFFFF;\n",
              "      --disabled-bg-color: #3B4455;\n",
              "      --disabled-fill-color: #666;\n",
              "  }\n",
              "\n",
              "  .colab-df-quickchart {\n",
              "    background-color: var(--bg-color);\n",
              "    border: none;\n",
              "    border-radius: 50%;\n",
              "    cursor: pointer;\n",
              "    display: none;\n",
              "    fill: var(--fill-color);\n",
              "    height: 32px;\n",
              "    padding: 0;\n",
              "    width: 32px;\n",
              "  }\n",
              "\n",
              "  .colab-df-quickchart:hover {\n",
              "    background-color: var(--hover-bg-color);\n",
              "    box-shadow: 0 1px 2px rgba(60, 64, 67, 0.3), 0 1px 3px 1px rgba(60, 64, 67, 0.15);\n",
              "    fill: var(--button-hover-fill-color);\n",
              "  }\n",
              "\n",
              "  .colab-df-quickchart-complete:disabled,\n",
              "  .colab-df-quickchart-complete:disabled:hover {\n",
              "    background-color: var(--disabled-bg-color);\n",
              "    fill: var(--disabled-fill-color);\n",
              "    box-shadow: none;\n",
              "  }\n",
              "\n",
              "  .colab-df-spinner {\n",
              "    border: 2px solid var(--fill-color);\n",
              "    border-color: transparent;\n",
              "    border-bottom-color: var(--fill-color);\n",
              "    animation:\n",
              "      spin 1s steps(1) infinite;\n",
              "  }\n",
              "\n",
              "  @keyframes spin {\n",
              "    0% {\n",
              "      border-color: transparent;\n",
              "      border-bottom-color: var(--fill-color);\n",
              "      border-left-color: var(--fill-color);\n",
              "    }\n",
              "    20% {\n",
              "      border-color: transparent;\n",
              "      border-left-color: var(--fill-color);\n",
              "      border-top-color: var(--fill-color);\n",
              "    }\n",
              "    30% {\n",
              "      border-color: transparent;\n",
              "      border-left-color: var(--fill-color);\n",
              "      border-top-color: var(--fill-color);\n",
              "      border-right-color: var(--fill-color);\n",
              "    }\n",
              "    40% {\n",
              "      border-color: transparent;\n",
              "      border-right-color: var(--fill-color);\n",
              "      border-top-color: var(--fill-color);\n",
              "    }\n",
              "    60% {\n",
              "      border-color: transparent;\n",
              "      border-right-color: var(--fill-color);\n",
              "    }\n",
              "    80% {\n",
              "      border-color: transparent;\n",
              "      border-right-color: var(--fill-color);\n",
              "      border-bottom-color: var(--fill-color);\n",
              "    }\n",
              "    90% {\n",
              "      border-color: transparent;\n",
              "      border-bottom-color: var(--fill-color);\n",
              "    }\n",
              "  }\n",
              "</style>\n",
              "\n",
              "  <script>\n",
              "    async function quickchart(key) {\n",
              "      const quickchartButtonEl =\n",
              "        document.querySelector('#' + key + ' button');\n",
              "      quickchartButtonEl.disabled = true;  // To prevent multiple clicks.\n",
              "      quickchartButtonEl.classList.add('colab-df-spinner');\n",
              "      try {\n",
              "        const charts = await google.colab.kernel.invokeFunction(\n",
              "            'suggestCharts', [key], {});\n",
              "      } catch (error) {\n",
              "        console.error('Error during call to suggestCharts:', error);\n",
              "      }\n",
              "      quickchartButtonEl.classList.remove('colab-df-spinner');\n",
              "      quickchartButtonEl.classList.add('colab-df-quickchart-complete');\n",
              "    }\n",
              "    (() => {\n",
              "      let quickchartButtonEl =\n",
              "        document.querySelector('#df-7a98c727-2573-4281-bff9-71be19ef8149 button');\n",
              "      quickchartButtonEl.style.display =\n",
              "        google.colab.kernel.accessAllowed ? 'block' : 'none';\n",
              "    })();\n",
              "  </script>\n",
              "</div>\n",
              "\n",
              "    </div>\n",
              "  </div>\n"
            ],
            "application/vnd.google.colaboratory.intrinsic+json": {
              "type": "dataframe",
              "variable_name": "df",
              "summary": "{\n  \"name\": \"df\",\n  \"rows\": 11127,\n  \"fields\": [\n    {\n      \"column\": \"title\",\n      \"properties\": {\n        \"dtype\": \"string\",\n        \"num_unique_values\": 10352,\n        \"samples\": [\n          \"Den of Thieves\",\n          \"Madame Bovary\",\n          \"The Prestige\"\n        ],\n        \"semantic_type\": \"\",\n        \"description\": \"\"\n      }\n    },\n    {\n      \"column\": \"bookID\",\n      \"properties\": {\n        \"dtype\": \"number\",\n        \"std\": 13093,\n        \"min\": 1,\n        \"max\": 45641,\n        \"num_unique_values\": 11127,\n        \"samples\": [\n          33438,\n          1537,\n          32329\n        ],\n        \"semantic_type\": \"\",\n        \"description\": \"\"\n      }\n    },\n    {\n      \"column\": \"authors\",\n      \"properties\": {\n        \"dtype\": \"string\",\n        \"num_unique_values\": 6643,\n        \"samples\": [\n          \"Amy Krouse Rosenthal\",\n          \"Plato/John M. Cooper/Benjamin Jowett/Dorothea Frede/Alexander Nehamas/Paul Woodruff/Anthony Kenny/Rosamond Kent Sprague/Nicholas D. Smith/Karen Bell/D.S. Hutchinson/Donald J. Zeyl/Francisco J. Gonz\\u00e1lez/Diskin Clay/Malcolm Schofield/Glenn R. Morrow/Jonathan Barnes/G.M.A. Grube/Brad Inwood/Mark Joyal/Jackson P. Hershbell/J.M. Edmonds/C.D.C. Reeve/Myles Burnyeat/Nicholas P. White/Mary Louise Gill/C.J. Rowe/Stanley Lombardo/David Gallop/Jeffrey Mitscherling/Richard D. McKiharan Jr./Andrew S. Becker/Mark Reuter/M.J. Levett/Paul        Ryan\",\n          \"Don Ihde\"\n        ],\n        \"semantic_type\": \"\",\n        \"description\": \"\"\n      }\n    },\n    {\n      \"column\": \"average_rating\",\n      \"properties\": {\n        \"dtype\": \"number\",\n        \"std\": 0.35244503249594356,\n        \"min\": 0.0,\n        \"max\": 5.0,\n        \"num_unique_values\": 209,\n        \"samples\": [\n          4.06,\n          3.18,\n          3.96\n        ],\n        \"semantic_type\": \"\",\n        \"description\": \"\"\n      }\n    },\n    {\n      \"column\": \"isbn\",\n      \"properties\": {\n        \"dtype\": \"string\",\n        \"num_unique_values\": 11127,\n        \"samples\": [\n          \"0758201559\",\n          \"0452011671\",\n          \"0345492803\"\n        ],\n        \"semantic_type\": \"\",\n        \"description\": \"\"\n      }\n    },\n    {\n      \"column\": \"isbn13\",\n      \"properties\": {\n        \"dtype\": \"number\",\n        \"std\": 442896393933,\n        \"min\": 8987059752,\n        \"max\": 9790007672386,\n        \"num_unique_values\": 11127,\n        \"samples\": [\n          9780758201553,\n          9780452011670,\n          9780345492807\n        ],\n        \"semantic_type\": \"\",\n        \"description\": \"\"\n      }\n    },\n    {\n      \"column\": \"language_code\",\n      \"properties\": {\n        \"dtype\": \"category\",\n        \"num_unique_values\": 27,\n        \"samples\": [\n          \"en-CA\",\n          \"zho\",\n          \"ger\"\n        ],\n        \"semantic_type\": \"\",\n        \"description\": \"\"\n      }\n    },\n    {\n      \"column\": \"num_pages\",\n      \"properties\": {\n        \"dtype\": \"number\",\n        \"std\": 241,\n        \"min\": 0,\n        \"max\": 6576,\n        \"num_unique_values\": 997,\n        \"samples\": [\n          268,\n          795,\n          4\n        ],\n        \"semantic_type\": \"\",\n        \"description\": \"\"\n      }\n    },\n    {\n      \"column\": \"ratings_count\",\n      \"properties\": {\n        \"dtype\": \"number\",\n        \"std\": 112479,\n        \"min\": 0,\n        \"max\": 4597666,\n        \"num_unique_values\": 5294,\n        \"samples\": [\n          2883,\n          40629,\n          3760\n        ],\n        \"semantic_type\": \"\",\n        \"description\": \"\"\n      }\n    },\n    {\n      \"column\": \"text_reviews_count\",\n      \"properties\": {\n        \"dtype\": \"number\",\n        \"std\": 2576,\n        \"min\": 0,\n        \"max\": 94265,\n        \"num_unique_values\": 1822,\n        \"samples\": [\n          1607,\n          17547,\n          99\n        ],\n        \"semantic_type\": \"\",\n        \"description\": \"\"\n      }\n    },\n    {\n      \"column\": \"publication_date\",\n      \"properties\": {\n        \"dtype\": \"category\",\n        \"num_unique_values\": 3679,\n        \"samples\": [\n          \"8/30/1999\",\n          \"9/6/1997\",\n          \"4/24/1998\"\n        ],\n        \"semantic_type\": \"\",\n        \"description\": \"\"\n      }\n    },\n    {\n      \"column\": \"publisher\",\n      \"properties\": {\n        \"dtype\": \"category\",\n        \"num_unique_values\": 2292,\n        \"samples\": [\n          \"Seal Press\",\n          \"Amereon Limited\",\n          \"Jump At The Sun\"\n        ],\n        \"semantic_type\": \"\",\n        \"description\": \"\"\n      }\n    }\n  ]\n}"
            }
          },
          "metadata": {},
          "execution_count": 19
        }
      ],
      "source": [
        "import pandas as pd\n",
        "df = pd.read_csv('books.csv', index_col = 'title')\n",
        "df.head()"
      ]
    },
    {
      "cell_type": "code",
      "execution_count": null,
      "metadata": {
        "colab": {
          "base_uri": "https://localhost:8080/"
        },
        "id": "j9IxEPxrOscq",
        "outputId": "0f606638-034f-4a9e-db5b-372d644ab1ee"
      },
      "outputs": [
        {
          "output_type": "execute_result",
          "data": {
            "text/plain": [
              "4.05923076923077"
            ]
          },
          "metadata": {},
          "execution_count": 20
        }
      ],
      "source": [
        "class Book:\n",
        "    def __init__(self, title, author, average_rating):\n",
        "        self.title = title\n",
        "        self.author = author\n",
        "        self.average_rating = average_rating\n",
        "        # Could add more fields from the dataset if desired\n",
        "\n",
        "class Publisher:\n",
        "    def __init__(self, df, publisher_name):\n",
        "        self.name = publisher_name\n",
        "        self.books = []\n",
        "        for row in df.itertuples(): #takes publisher one row after another in data frame -->itertuples\n",
        "            if row.publisher == publisher_name:\n",
        "                self.books.append(Book(row.Index, row.authors, row.average_rating)) # --> add publisher to self.books\n",
        "\n",
        "    def average_rating(self):\n",
        "        total = 0\n",
        "        for book in self.books:\n",
        "            total += book.average_rating\n",
        "        return total/len(self.books)\n",
        "\n",
        "scholastic = Publisher(df,'Scholastic Inc.')\n",
        "scholastic.average_rating()"
      ]
    },
    {
      "cell_type": "code",
      "execution_count": null,
      "metadata": {
        "id": "UyT3GnDuOscq"
      },
      "outputs": [],
      "source": []
    }
  ],
  "metadata": {
    "celltoolbar": "Slideshow",
    "colab": {
      "provenance": [],
      "include_colab_link": true
    },
    "kernelspec": {
      "display_name": "Python 3 (ipykernel)",
      "language": "python",
      "name": "python3"
    },
    "language_info": {
      "codemirror_mode": {
        "name": "ipython",
        "version": 3
      },
      "file_extension": ".py",
      "mimetype": "text/x-python",
      "name": "python",
      "nbconvert_exporter": "python",
      "pygments_lexer": "ipython3",
      "version": "3.8.8"
    },
    "rise": {
      "scroll": true
    }
  },
  "nbformat": 4,
  "nbformat_minor": 0
}