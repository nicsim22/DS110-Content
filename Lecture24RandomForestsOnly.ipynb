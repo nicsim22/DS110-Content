{
  "cells": [
    {
      "cell_type": "markdown",
      "metadata": {
        "id": "view-in-github",
        "colab_type": "text"
      },
      "source": [
        "<a href=\"https://colab.research.google.com/github/nicsim22/DS110-Content/blob/main/Lecture24RandomForestsOnly.ipynb\" target=\"_parent\"><img src=\"https://colab.research.google.com/assets/colab-badge.svg\" alt=\"Open In Colab\"/></a>"
      ]
    },
    {
      "cell_type": "markdown",
      "metadata": {
        "id": "nIkJiQC6hR53"
      },
      "source": [
        "# Ensemble methods\n"
      ]
    },
    {
      "cell_type": "markdown",
      "metadata": {
        "id": "z2U1tI72iWve"
      },
      "source": [
        "# Bagging and random forests\n",
        "\n",
        "See slides for details.  Demo with the classic \"iris\" dataset:"
      ]
    },
    {
      "cell_type": "code",
      "execution_count": null,
      "metadata": {
        "id": "_KMCTlM9xKiV"
      },
      "outputs": [],
      "source": [
        "from sklearn.datasets import load_iris\n",
        "from sklearn.ensemble import RandomForestClassifier\n",
        "from sklearn.model_selection import train_test_split\n",
        "import numpy as np\n",
        "\n",
        "iris = load_iris()"
      ]
    },
    {
      "cell_type": "code",
      "execution_count": null,
      "metadata": {
        "colab": {
          "base_uri": "https://localhost:8080/"
        },
        "id": "Te0p8rXdxRP-",
        "outputId": "e09e9436-5524-4199-d9fa-3fc87dc37237"
      },
      "outputs": [
        {
          "output_type": "execute_result",
          "data": {
            "text/plain": [
              "['sepal length (cm)',\n",
              " 'sepal width (cm)',\n",
              " 'petal length (cm)',\n",
              " 'petal width (cm)']"
            ]
          },
          "metadata": {},
          "execution_count": 2
        }
      ],
      "source": [
        "iris[\"feature_names\"]"
      ]
    },
    {
      "cell_type": "code",
      "execution_count": null,
      "metadata": {
        "colab": {
          "base_uri": "https://localhost:8080/"
        },
        "id": "_nAIz4RKxawR",
        "outputId": "24293203-fb05-49e0-aaf8-a58aafe2f487"
      },
      "outputs": [
        {
          "output_type": "execute_result",
          "data": {
            "text/plain": [
              "0.9333333333333333"
            ]
          },
          "metadata": {},
          "execution_count": 3
        }
      ],
      "source": [
        "features_train, features_test, labels_train, labels_test = \\\n",
        "  train_test_split(iris['data'], iris['target'],\n",
        "                   test_size=0.1,random_state=110)\n",
        "irisforest = RandomForestClassifier(n_estimators=200,random_state=110)\n",
        "irisforest.fit(features_train, labels_train)\n",
        "\n",
        "irisforest.score(features_test, labels_test)"
      ]
    },
    {
      "cell_type": "code",
      "execution_count": null,
      "metadata": {
        "colab": {
          "base_uri": "https://localhost:8080/"
        },
        "id": "f1n4YIywyA3z",
        "outputId": "a9a3a3a1-68fe-41f6-a046-b2a6860197f7"
      },
      "outputs": [
        {
          "output_type": "execute_result",
          "data": {
            "text/plain": [
              "array([0.09884984, 0.02446368, 0.42532022, 0.45136627])"
            ]
          },
          "metadata": {},
          "execution_count": 4
        }
      ],
      "source": [
        "irisforest.feature_importances_ #track for each info, how useful it is to split the examples\n",
        "#info gain is the diff between the entropy that we had before and the entropy now\n",
        "#shows that petal length and petal width are impt --> petals were more informative than sepals in training the data set"
      ]
    },
    {
      "cell_type": "code",
      "execution_count": null,
      "metadata": {
        "id": "npxMjefD4JOg"
      },
      "outputs": [],
      "source": []
    }
  ],
  "metadata": {
    "celltoolbar": "Slideshow",
    "colab": {
      "provenance": [],
      "include_colab_link": true
    },
    "kernelspec": {
      "display_name": "Python 3 (ipykernel)",
      "language": "python",
      "name": "python3"
    },
    "language_info": {
      "codemirror_mode": {
        "name": "ipython",
        "version": 3
      },
      "file_extension": ".py",
      "mimetype": "text/x-python",
      "name": "python",
      "nbconvert_exporter": "python",
      "pygments_lexer": "ipython3",
      "version": "3.8.8"
    },
    "rise": {
      "scroll": true
    }
  },
  "nbformat": 4,
  "nbformat_minor": 0
}