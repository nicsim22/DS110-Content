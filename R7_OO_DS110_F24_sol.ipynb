{
  "cells": [
    {
      "cell_type": "markdown",
      "metadata": {
        "id": "view-in-github",
        "colab_type": "text"
      },
      "source": [
        "<a href=\"https://colab.research.google.com/github/nicsim22/DS110-Content/blob/main/R7_OO_DS110_F24_sol.ipynb\" target=\"_parent\"><img src=\"https://colab.research.google.com/assets/colab-badge.svg\" alt=\"Open In Colab\"/></a>"
      ]
    },
    {
      "cell_type": "markdown",
      "metadata": {
        "id": "G2HoZC_Glmzd"
      },
      "source": [
        "# Files"
      ]
    },
    {
      "cell_type": "markdown",
      "metadata": {
        "id": "6w7KOsQLlmzf"
      },
      "source": [
        "For the following problems, you'll find it especially helpful to refer to the lecture .ipynb for Files and Exceptions."
      ]
    },
    {
      "cell_type": "markdown",
      "metadata": {
        "id": "80F-okTqlmzf"
      },
      "source": [
        "1. Try writing a csv file hobbit.csv that consists of two lines:  \"green, yellow\" for the first line, \"curly, clever\" for the second."
      ]
    },
    {
      "cell_type": "code",
      "execution_count": null,
      "metadata": {
        "id": "R9koiaVRlmzg"
      },
      "outputs": [],
      "source": [
        "import csv\n",
        "\n",
        "with open('hobbit.csv', mode = 'w') as my_csv:\n",
        "    writer = csv.writer(my_csv)\n",
        "    writer.writerow(['green','yellow'])\n",
        "    writer.writerow(['curly','clever'])"
      ]
    },
    {
      "cell_type": "markdown",
      "metadata": {
        "id": "ngF0tjkElmzh"
      },
      "source": [
        "Use !ls and !cat hobbit.csv to make sure it worked."
      ]
    },
    {
      "cell_type": "code",
      "execution_count": null,
      "metadata": {
        "id": "-FIFZ3eclmzh"
      },
      "outputs": [],
      "source": [
        "!ls\n",
        "\n",
        "!cat hobbit.csv"
      ]
    },
    {
      "cell_type": "markdown",
      "metadata": {
        "id": "5eqze3qAlmzh"
      },
      "source": [
        "2. Now, try writing to file a JSON that uses the following dictionary."
      ]
    },
    {
      "cell_type": "code",
      "execution_count": null,
      "metadata": {
        "id": "yXo-ecQwlmzh"
      },
      "outputs": [],
      "source": [
        "my_dict = {\n",
        "    'colors': ['green, blue'],\n",
        "    'descriptions': ['curly','clever']\n",
        "}\n",
        "\n",
        "import json\n",
        "\n",
        "with open('hobbit.json', 'w') as myfile:\n",
        "  json.dump(my_dict,myfile)"
      ]
    },
    {
      "cell_type": "code",
      "execution_count": null,
      "metadata": {
        "id": "m873r1qFlmzh"
      },
      "outputs": [],
      "source": [
        "!ls"
      ]
    },
    {
      "cell_type": "markdown",
      "metadata": {
        "id": "aUrQ5Itwlmzh"
      },
      "source": [
        "3. Read the JSON file back again and print the values associated with 'colors'."
      ]
    },
    {
      "cell_type": "code",
      "execution_count": null,
      "metadata": {
        "id": "LRBRfgM6lmzh"
      },
      "outputs": [],
      "source": [
        "with open('hobbit.json', 'r') as myfile:\n",
        "  my_dict = json.load(myfile)\n",
        "  print(my_dict['colors'])"
      ]
    },
    {
      "cell_type": "markdown",
      "metadata": {
        "id": "Omev9Xbvlmzh"
      },
      "source": [
        "# Objects"
      ]
    },
    {
      "cell_type": "markdown",
      "metadata": {
        "id": "YsBX3tTYlmzh"
      },
      "source": [
        "1.  Write a class \"Property\" that represents a home for sale.  A property has a price, a number of bedrooms, a number of bathrooms, an integer number of square feet, and a boolean indicating whether the property is on the market.  The class should have the following methods:\n",
        "    * *\\_\\_init\\_\\_()* should initialize the object with the price, bedrooms, bathrooms, and area, which are all passed in as arguments.  It should also initialize the \"on the market\" attribute to False.\n",
        "    * *set_available(self, available)* is a setter that should set the \"on the market\" attribute to True or False.\n",
        "    * *price_per_sqft(self)* is a getter that returns the price divided by the square feet.\n",
        "    * *bnb(self)* returns a string like \"4 bed 2 bath\" describing the number of these rooms."
      ]
    },
    {
      "cell_type": "code",
      "execution_count": null,
      "metadata": {
        "id": "nuVrbThclmzh"
      },
      "outputs": [],
      "source": [
        "class Property:\n",
        "    def __init__(self, price, bedrooms, bathrooms, sqft):\n",
        "        self.price = price\n",
        "        self.bedrooms = bedrooms\n",
        "        self.bathrooms = bathrooms\n",
        "        self.sqft = sqft\n",
        "        self.on_market = False\n",
        "\n",
        "    def set_available(self, available):\n",
        "        self.on_market = available\n",
        "\n",
        "    def price_per_sqft(self):\n",
        "        return self.price / self.sqft\n",
        "\n",
        "    def bnb(self):\n",
        "        return f'{self.bedrooms} bed {self.bathrooms} bath'"
      ]
    },
    {
      "cell_type": "markdown",
      "metadata": {
        "id": "axMNQjeFlmzi"
      },
      "source": [
        "2. Write a function available() that takes a list of Property objects and returns a list of just the properties that are actually on the market."
      ]
    },
    {
      "cell_type": "code",
      "execution_count": null,
      "metadata": {
        "id": "Wl5u6Qyclmzi"
      },
      "outputs": [],
      "source": [
        "def available(properties):\n",
        "    on_market = []\n",
        "    for p in properties:\n",
        "        if p.on_market:\n",
        "            on_market.append(p)\n",
        "    return on_market"
      ]
    },
    {
      "cell_type": "code",
      "execution_count": null,
      "metadata": {
        "id": "imr3d91Qlmzi",
        "outputId": "e91ab81e-ae4d-4eb7-858b-52b7c46d8ab9"
      },
      "outputs": [
        {
          "name": "stdout",
          "output_type": "stream",
          "text": [
            "2 bed 2 bath\n",
            "1 bed 2 bath\n"
          ]
        }
      ],
      "source": [
        "property1 = Property(1000000, 2, 2, 1700)\n",
        "property2 = Property(1000000, 2, 3, 2000)\n",
        "property3 = Property(1000000, 1, 2, 1500)\n",
        "property1.set_available(True)\n",
        "property3.set_available(True)\n",
        "# Expect 2 bed 2 bath, 1 bed 2 bath\n",
        "for prop in available([property1, property2, property3]):\n",
        "    print(prop.bnb())"
      ]
    },
    {
      "cell_type": "markdown",
      "metadata": {
        "id": "eeA4vU1Qlmzi"
      },
      "source": [
        "3.  Write a class Rental that inherits from Property.  Rentals have an additional attribute of *rent*, which their constructor should accept as an additional argument (use *super* to reuse your constructor)."
      ]
    },
    {
      "cell_type": "code",
      "execution_count": null,
      "metadata": {
        "id": "YuY-e9TWlmzi"
      },
      "outputs": [],
      "source": [
        "class Rental(Property):\n",
        "    def __init__(self, price, bedrooms, bathrooms, sqft, rent):\n",
        "        super().__init__(price, bedrooms, bathrooms, sqft)\n",
        "        self.rent = rent"
      ]
    },
    {
      "cell_type": "markdown",
      "metadata": {
        "id": "Lo1_woi7lmzi"
      },
      "source": [
        "4.  Write a function renter_recs() which takes a list of Property objects and a *rent_thresh* and returns a list of just the properties that are Rentals, with rent less than or equal to *rent_thresh*.  (Recall that you can use isinstance(obj, class) to check the class of an object.)"
      ]
    },
    {
      "cell_type": "code",
      "execution_count": null,
      "metadata": {
        "id": "J4ZfSLHtlmzi"
      },
      "outputs": [],
      "source": [
        "def renter_recs(properties, rent_thresh):\n",
        "    recs = []\n",
        "    for p in properties:\n",
        "        if isinstance(p, Rental) and p.rent <= rent_thresh:\n",
        "            recs.append(p)\n",
        "    return recs"
      ]
    },
    {
      "cell_type": "code",
      "execution_count": null,
      "metadata": {
        "id": "OC7PoNlTlmzi",
        "outputId": "7a65df95-1d58-4cbe-e533-6fc2958a7840"
      },
      "outputs": [
        {
          "name": "stdout",
          "output_type": "stream",
          "text": [
            "2 bed 2 bath\n"
          ]
        }
      ],
      "source": [
        "property1 = Rental(1000000, 2, 2, 1700, 2500)\n",
        "property2 = Rental(1000000, 2, 3, 2000, 3000)\n",
        "property3 = Property(1000000, 1, 2, 1500)\n",
        "property1.set_available(True)\n",
        "property2.set_available(True)\n",
        "property3.set_available(True)\n",
        "# Expect 2 bed 2 bath\n",
        "for prop in renter_recs([property1, property2, property3], 2500):\n",
        "    print(prop.bnb())"
      ]
    },
    {
      "cell_type": "code",
      "execution_count": null,
      "metadata": {
        "id": "L2oHj0eAlmzj"
      },
      "outputs": [],
      "source": []
    }
  ],
  "metadata": {
    "colab": {
      "provenance": [],
      "include_colab_link": true
    },
    "kernelspec": {
      "display_name": "Python 3 (ipykernel)",
      "language": "python",
      "name": "python3"
    },
    "language_info": {
      "codemirror_mode": {
        "name": "ipython",
        "version": 3
      },
      "file_extension": ".py",
      "mimetype": "text/x-python",
      "name": "python",
      "nbconvert_exporter": "python",
      "pygments_lexer": "ipython3",
      "version": "3.8.8"
    }
  },
  "nbformat": 4,
  "nbformat_minor": 0
}