{
  "cells": [
    {
      "cell_type": "markdown",
      "metadata": {
        "id": "view-in-github",
        "colab_type": "text"
      },
      "source": [
        "<a href=\"https://colab.research.google.com/github/nicsim22/DS110-Content/blob/main/Lecture16Strings_nosol.ipynb\" target=\"_parent\"><img src=\"https://colab.research.google.com/assets/colab-badge.svg\" alt=\"Open In Colab\"/></a>"
      ]
    },
    {
      "cell_type": "markdown",
      "metadata": {
        "id": "JTolf6_GUOAI"
      },
      "source": [
        "# Strings"
      ]
    },
    {
      "cell_type": "markdown",
      "metadata": {
        "id": "EaBisnJdUOAK"
      },
      "source": [
        "*Suddenly, the solution to the puzzle occurred to Cynthia.  The clue said she was supposed to go to \"0ac0cafe\".  But what if each 0 meant something like \"some other characters here\"? In other words, she was looking for (probably) a cafe where the other word(s) contained the characters \"ac\".*\n",
        "\n",
        "*Cynthia returned to her DataFrame of businesses.  It was still a long list of cafes to go through.  Luckily, Cynthia knew how to use regular expressions!*"
      ]
    },
    {
      "cell_type": "markdown",
      "metadata": {
        "id": "jsSnS1gU2Efa"
      },
      "source": [
        "# Formatted strings\n",
        "\n",
        "Suppose you want to print a number with just two decimal places of precision - so, not 12.95821, but just 12.96.  This is a very common use case for formatted strings, which also are sometimes just easier to use than concatenating other strings.\n",
        "\n",
        "\n"
      ]
    },
    {
      "cell_type": "markdown",
      "metadata": {
        "id": "vthd0HUqUOAL"
      },
      "source": [
        "**f-strings (the f is for formatted)** are the easiest way to get a formatted string.  f precedes the string, and an expression (like a variable name) can be placed between curly braces in the string."
      ]
    },
    {
      "cell_type": "code",
      "execution_count": null,
      "metadata": {
        "colab": {
          "base_uri": "https://localhost:8080/"
        },
        "id": "ofBN6h9F11EC",
        "outputId": "224331df-5608-49e1-97d4-9c2d964ece34"
      },
      "outputs": [
        {
          "output_type": "stream",
          "name": "stdout",
          "text": [
            "The total cost was 6.479105 dollars\n"
          ]
        }
      ],
      "source": [
        "my_cost = 12.95821\n",
        "print(f'The total cost was {my_cost} dollars') #{} prints the variable value, SUPER USEFUL! #doesn't need to only be a variable, can be some math too (eg. {my_cost/2})"
      ]
    },
    {
      "cell_type": "markdown",
      "metadata": {
        "id": "F7hpr55z3o5V"
      },
      "source": [
        "To give two places after the decimal, add :.2f to the expression.  (The f stands for the float \"presentation type.\")"
      ]
    },
    {
      "cell_type": "code",
      "execution_count": null,
      "metadata": {
        "colab": {
          "base_uri": "https://localhost:8080/"
        },
        "id": "1njhXwem36Hn",
        "outputId": "9f796836-1975-45c6-ded5-c417ec55236b"
      },
      "outputs": [
        {
          "output_type": "stream",
          "name": "stdout",
          "text": [
            "The total cost was 12.96 dollars\n"
          ]
        }
      ],
      "source": [
        "print(f'The total cost was {my_cost:.2f} dollars')"
      ]
    },
    {
      "cell_type": "markdown",
      "metadata": {
        "id": "W7Evtd597J3W"
      },
      "source": [
        "# Other useful string functions\n",
        "\n",
        "One of the most useful string functions is **split()**, which turns a string like \"A,B,C,D\" into a list of strings ['A','B','C','D'].  It takes the valid separators as an argument.\n"
      ]
    },
    {
      "cell_type": "code",
      "execution_count": null,
      "metadata": {
        "colab": {
          "base_uri": "https://localhost:8080/"
        },
        "id": "ljL5o8Z29_nC",
        "outputId": "defab960-7f7e-4e4e-d936-2cde6db97219"
      },
      "outputs": [
        {
          "output_type": "stream",
          "name": "stdout",
          "text": [
            "['milk', 'eggs', 'yogurt']\n"
          ]
        }
      ],
      "source": [
        "groceries = \"milk,eggs,yogurt\"\n",
        "grocerieslist = groceries.split(',')\n",
        "print(grocerieslist)"
      ]
    },
    {
      "cell_type": "markdown",
      "metadata": {
        "id": "x5r-nYWLUOAL"
      },
      "source": [
        "**.join()** does the opposite of split() - it glues strings in a list together with the given delimiter.  (Oddly, this is called as a method of the delimiter string.)"
      ]
    },
    {
      "cell_type": "code",
      "execution_count": null,
      "metadata": {
        "colab": {
          "base_uri": "https://localhost:8080/",
          "height": 35
        },
        "id": "J3Es43bMUOAM",
        "outputId": "8464c27e-285f-4f96-af71-a6aa2ecb8941"
      },
      "outputs": [
        {
          "output_type": "execute_result",
          "data": {
            "text/plain": [
              "'milk,eggs,yogurt'"
            ],
            "application/vnd.google.colaboratory.intrinsic+json": {
              "type": "string"
            }
          },
          "metadata": {},
          "execution_count": 5
        }
      ],
      "source": [
        "','.join(['milk', 'eggs', 'yogurt'])"
      ]
    },
    {
      "cell_type": "markdown",
      "metadata": {
        "id": "iV_ZYwBk-sYC"
      },
      "source": [
        "A common thing that is 'wrong' with strings is too much invisible whitespace where you didn't expect any.  strip() gets rid of whitespace on either side of the string."
      ]
    },
    {
      "cell_type": "code",
      "execution_count": null,
      "metadata": {
        "colab": {
          "base_uri": "https://localhost:8080/",
          "height": 35
        },
        "id": "vl1e4aUN-4Su",
        "outputId": "778f4c41-63e5-4fd3-9afa-f706cfbc85d7"
      },
      "outputs": [
        {
          "output_type": "execute_result",
          "data": {
            "text/plain": [
              "'milk,eggs,yogurt'"
            ],
            "application/vnd.google.colaboratory.intrinsic+json": {
              "type": "string"
            }
          },
          "metadata": {},
          "execution_count": 6
        }
      ],
      "source": [
        "'     milk,eggs,yogurt     '.strip()"
      ]
    },
    {
      "cell_type": "markdown",
      "metadata": {
        "id": "iswi_aVd94PK"
      },
      "source": [
        "\n",
        "Sometimes lines of interest can be identified with particular starting substrings. **startswith()** can easily pick these out.  (There's also an **endswith()**, probably less used.)\n",
        "\n",
        "**lines.splitlines()** is a shortcut for split('\\n')"
      ]
    },
    {
      "cell_type": "code",
      "execution_count": null,
      "metadata": {
        "colab": {
          "base_uri": "https://localhost:8080/"
        },
        "id": "CHQqTavlAAtY",
        "outputId": "e05f4682-445b-4d96-d898-2b113243dbea"
      },
      "outputs": [
        {
          "output_type": "stream",
          "name": "stdout",
          "text": [
            "Geese, villain?\n"
          ]
        }
      ],
      "source": [
        "lines = \"SERVANT: Sir, there are ten thousand--\\nMACBETH: Geese, villain?\"\n",
        "linelist = lines.splitlines()  # A shortcut for split('\\n')\n",
        "for line in linelist:\n",
        "  if line.startswith(\"MACBETH\"):\n",
        "    print(line.split(\": \")[1]) #starts with 1st index, takes : as where to split"
      ]
    },
    {
      "cell_type": "markdown",
      "metadata": {
        "id": "6AeXrJ7YTQhP"
      },
      "source": [
        "The simple **\"in\" operator can let you check for substrings within strings**.  .**replace()** can go a step further and **replace the matches** that are found."
      ]
    },
    {
      "cell_type": "code",
      "execution_count": null,
      "metadata": {
        "colab": {
          "base_uri": "https://localhost:8080/"
        },
        "id": "HgdYdF1ITXm2",
        "outputId": "8d899fff-f0cb-4b74-c29d-9ed4ca294448"
      },
      "outputs": [
        {
          "output_type": "stream",
          "name": "stdout",
          "text": [
            "True\n",
            "radrad\n"
          ]
        }
      ],
      "source": [
        "print(\"foo\" in \"food\")\n",
        "print(\"foodfood\".replace(\"foo\", \"ra\"))"
      ]
    },
    {
      "cell_type": "markdown",
      "metadata": {
        "id": "TLFgFBi_CeqU"
      },
      "source": [
        "# DataFrames and String operations\n",
        "\n",
        "DataFrames have great integration with the Python string methods.  You can call a string function and have it automatically applied to every item in the same column.  You just need to access the .str attribute, as demonstrated below.\n"
      ]
    },
    {
      "cell_type": "code",
      "execution_count": null,
      "metadata": {
        "colab": {
          "base_uri": "https://localhost:8080/",
          "height": 125
        },
        "id": "yvWig6GzDMMV",
        "outputId": "c92bc184-44e7-4fa8-91ed-c2196dc69123"
      },
      "outputs": [
        {
          "output_type": "execute_result",
          "data": {
            "text/plain": [
              "          Hilton    Marriott Four Seasons\n",
              "Alice  Excellent     Okay            Okay\n",
              "Bob    Great            Good         Good"
            ],
            "text/html": [
              "\n",
              "  <div id=\"df-947228fa-97a7-4048-b9aa-cbd3d5d16b7b\" class=\"colab-df-container\">\n",
              "    <div>\n",
              "<style scoped>\n",
              "    .dataframe tbody tr th:only-of-type {\n",
              "        vertical-align: middle;\n",
              "    }\n",
              "\n",
              "    .dataframe tbody tr th {\n",
              "        vertical-align: top;\n",
              "    }\n",
              "\n",
              "    .dataframe thead th {\n",
              "        text-align: right;\n",
              "    }\n",
              "</style>\n",
              "<table border=\"1\" class=\"dataframe\">\n",
              "  <thead>\n",
              "    <tr style=\"text-align: right;\">\n",
              "      <th></th>\n",
              "      <th>Hilton</th>\n",
              "      <th>Marriott</th>\n",
              "      <th>Four Seasons</th>\n",
              "    </tr>\n",
              "  </thead>\n",
              "  <tbody>\n",
              "    <tr>\n",
              "      <th>Alice</th>\n",
              "      <td>Excellent</td>\n",
              "      <td>Okay</td>\n",
              "      <td>Okay</td>\n",
              "    </tr>\n",
              "    <tr>\n",
              "      <th>Bob</th>\n",
              "      <td>Great</td>\n",
              "      <td>Good</td>\n",
              "      <td>Good</td>\n",
              "    </tr>\n",
              "  </tbody>\n",
              "</table>\n",
              "</div>\n",
              "    <div class=\"colab-df-buttons\">\n",
              "\n",
              "  <div class=\"colab-df-container\">\n",
              "    <button class=\"colab-df-convert\" onclick=\"convertToInteractive('df-947228fa-97a7-4048-b9aa-cbd3d5d16b7b')\"\n",
              "            title=\"Convert this dataframe to an interactive table.\"\n",
              "            style=\"display:none;\">\n",
              "\n",
              "  <svg xmlns=\"http://www.w3.org/2000/svg\" height=\"24px\" viewBox=\"0 -960 960 960\">\n",
              "    <path d=\"M120-120v-720h720v720H120Zm60-500h600v-160H180v160Zm220 220h160v-160H400v160Zm0 220h160v-160H400v160ZM180-400h160v-160H180v160Zm440 0h160v-160H620v160ZM180-180h160v-160H180v160Zm440 0h160v-160H620v160Z\"/>\n",
              "  </svg>\n",
              "    </button>\n",
              "\n",
              "  <style>\n",
              "    .colab-df-container {\n",
              "      display:flex;\n",
              "      gap: 12px;\n",
              "    }\n",
              "\n",
              "    .colab-df-convert {\n",
              "      background-color: #E8F0FE;\n",
              "      border: none;\n",
              "      border-radius: 50%;\n",
              "      cursor: pointer;\n",
              "      display: none;\n",
              "      fill: #1967D2;\n",
              "      height: 32px;\n",
              "      padding: 0 0 0 0;\n",
              "      width: 32px;\n",
              "    }\n",
              "\n",
              "    .colab-df-convert:hover {\n",
              "      background-color: #E2EBFA;\n",
              "      box-shadow: 0px 1px 2px rgba(60, 64, 67, 0.3), 0px 1px 3px 1px rgba(60, 64, 67, 0.15);\n",
              "      fill: #174EA6;\n",
              "    }\n",
              "\n",
              "    .colab-df-buttons div {\n",
              "      margin-bottom: 4px;\n",
              "    }\n",
              "\n",
              "    [theme=dark] .colab-df-convert {\n",
              "      background-color: #3B4455;\n",
              "      fill: #D2E3FC;\n",
              "    }\n",
              "\n",
              "    [theme=dark] .colab-df-convert:hover {\n",
              "      background-color: #434B5C;\n",
              "      box-shadow: 0px 1px 3px 1px rgba(0, 0, 0, 0.15);\n",
              "      filter: drop-shadow(0px 1px 2px rgba(0, 0, 0, 0.3));\n",
              "      fill: #FFFFFF;\n",
              "    }\n",
              "  </style>\n",
              "\n",
              "    <script>\n",
              "      const buttonEl =\n",
              "        document.querySelector('#df-947228fa-97a7-4048-b9aa-cbd3d5d16b7b button.colab-df-convert');\n",
              "      buttonEl.style.display =\n",
              "        google.colab.kernel.accessAllowed ? 'block' : 'none';\n",
              "\n",
              "      async function convertToInteractive(key) {\n",
              "        const element = document.querySelector('#df-947228fa-97a7-4048-b9aa-cbd3d5d16b7b');\n",
              "        const dataTable =\n",
              "          await google.colab.kernel.invokeFunction('convertToInteractive',\n",
              "                                                    [key], {});\n",
              "        if (!dataTable) return;\n",
              "\n",
              "        const docLinkHtml = 'Like what you see? Visit the ' +\n",
              "          '<a target=\"_blank\" href=https://colab.research.google.com/notebooks/data_table.ipynb>data table notebook</a>'\n",
              "          + ' to learn more about interactive tables.';\n",
              "        element.innerHTML = '';\n",
              "        dataTable['output_type'] = 'display_data';\n",
              "        await google.colab.output.renderOutput(dataTable, element);\n",
              "        const docLink = document.createElement('div');\n",
              "        docLink.innerHTML = docLinkHtml;\n",
              "        element.appendChild(docLink);\n",
              "      }\n",
              "    </script>\n",
              "  </div>\n",
              "\n",
              "\n",
              "<div id=\"df-bd8d9729-1858-4e35-9a1e-6ca42d2aa070\">\n",
              "  <button class=\"colab-df-quickchart\" onclick=\"quickchart('df-bd8d9729-1858-4e35-9a1e-6ca42d2aa070')\"\n",
              "            title=\"Suggest charts\"\n",
              "            style=\"display:none;\">\n",
              "\n",
              "<svg xmlns=\"http://www.w3.org/2000/svg\" height=\"24px\"viewBox=\"0 0 24 24\"\n",
              "     width=\"24px\">\n",
              "    <g>\n",
              "        <path d=\"M19 3H5c-1.1 0-2 .9-2 2v14c0 1.1.9 2 2 2h14c1.1 0 2-.9 2-2V5c0-1.1-.9-2-2-2zM9 17H7v-7h2v7zm4 0h-2V7h2v10zm4 0h-2v-4h2v4z\"/>\n",
              "    </g>\n",
              "</svg>\n",
              "  </button>\n",
              "\n",
              "<style>\n",
              "  .colab-df-quickchart {\n",
              "      --bg-color: #E8F0FE;\n",
              "      --fill-color: #1967D2;\n",
              "      --hover-bg-color: #E2EBFA;\n",
              "      --hover-fill-color: #174EA6;\n",
              "      --disabled-fill-color: #AAA;\n",
              "      --disabled-bg-color: #DDD;\n",
              "  }\n",
              "\n",
              "  [theme=dark] .colab-df-quickchart {\n",
              "      --bg-color: #3B4455;\n",
              "      --fill-color: #D2E3FC;\n",
              "      --hover-bg-color: #434B5C;\n",
              "      --hover-fill-color: #FFFFFF;\n",
              "      --disabled-bg-color: #3B4455;\n",
              "      --disabled-fill-color: #666;\n",
              "  }\n",
              "\n",
              "  .colab-df-quickchart {\n",
              "    background-color: var(--bg-color);\n",
              "    border: none;\n",
              "    border-radius: 50%;\n",
              "    cursor: pointer;\n",
              "    display: none;\n",
              "    fill: var(--fill-color);\n",
              "    height: 32px;\n",
              "    padding: 0;\n",
              "    width: 32px;\n",
              "  }\n",
              "\n",
              "  .colab-df-quickchart:hover {\n",
              "    background-color: var(--hover-bg-color);\n",
              "    box-shadow: 0 1px 2px rgba(60, 64, 67, 0.3), 0 1px 3px 1px rgba(60, 64, 67, 0.15);\n",
              "    fill: var(--button-hover-fill-color);\n",
              "  }\n",
              "\n",
              "  .colab-df-quickchart-complete:disabled,\n",
              "  .colab-df-quickchart-complete:disabled:hover {\n",
              "    background-color: var(--disabled-bg-color);\n",
              "    fill: var(--disabled-fill-color);\n",
              "    box-shadow: none;\n",
              "  }\n",
              "\n",
              "  .colab-df-spinner {\n",
              "    border: 2px solid var(--fill-color);\n",
              "    border-color: transparent;\n",
              "    border-bottom-color: var(--fill-color);\n",
              "    animation:\n",
              "      spin 1s steps(1) infinite;\n",
              "  }\n",
              "\n",
              "  @keyframes spin {\n",
              "    0% {\n",
              "      border-color: transparent;\n",
              "      border-bottom-color: var(--fill-color);\n",
              "      border-left-color: var(--fill-color);\n",
              "    }\n",
              "    20% {\n",
              "      border-color: transparent;\n",
              "      border-left-color: var(--fill-color);\n",
              "      border-top-color: var(--fill-color);\n",
              "    }\n",
              "    30% {\n",
              "      border-color: transparent;\n",
              "      border-left-color: var(--fill-color);\n",
              "      border-top-color: var(--fill-color);\n",
              "      border-right-color: var(--fill-color);\n",
              "    }\n",
              "    40% {\n",
              "      border-color: transparent;\n",
              "      border-right-color: var(--fill-color);\n",
              "      border-top-color: var(--fill-color);\n",
              "    }\n",
              "    60% {\n",
              "      border-color: transparent;\n",
              "      border-right-color: var(--fill-color);\n",
              "    }\n",
              "    80% {\n",
              "      border-color: transparent;\n",
              "      border-right-color: var(--fill-color);\n",
              "      border-bottom-color: var(--fill-color);\n",
              "    }\n",
              "    90% {\n",
              "      border-color: transparent;\n",
              "      border-bottom-color: var(--fill-color);\n",
              "    }\n",
              "  }\n",
              "</style>\n",
              "\n",
              "  <script>\n",
              "    async function quickchart(key) {\n",
              "      const quickchartButtonEl =\n",
              "        document.querySelector('#' + key + ' button');\n",
              "      quickchartButtonEl.disabled = true;  // To prevent multiple clicks.\n",
              "      quickchartButtonEl.classList.add('colab-df-spinner');\n",
              "      try {\n",
              "        const charts = await google.colab.kernel.invokeFunction(\n",
              "            'suggestCharts', [key], {});\n",
              "      } catch (error) {\n",
              "        console.error('Error during call to suggestCharts:', error);\n",
              "      }\n",
              "      quickchartButtonEl.classList.remove('colab-df-spinner');\n",
              "      quickchartButtonEl.classList.add('colab-df-quickchart-complete');\n",
              "    }\n",
              "    (() => {\n",
              "      let quickchartButtonEl =\n",
              "        document.querySelector('#df-bd8d9729-1858-4e35-9a1e-6ca42d2aa070 button');\n",
              "      quickchartButtonEl.style.display =\n",
              "        google.colab.kernel.accessAllowed ? 'block' : 'none';\n",
              "    })();\n",
              "  </script>\n",
              "</div>\n",
              "\n",
              "  <div id=\"id_816ffabc-c211-4beb-b703-7af9c87c9868\">\n",
              "    <style>\n",
              "      .colab-df-generate {\n",
              "        background-color: #E8F0FE;\n",
              "        border: none;\n",
              "        border-radius: 50%;\n",
              "        cursor: pointer;\n",
              "        display: none;\n",
              "        fill: #1967D2;\n",
              "        height: 32px;\n",
              "        padding: 0 0 0 0;\n",
              "        width: 32px;\n",
              "      }\n",
              "\n",
              "      .colab-df-generate:hover {\n",
              "        background-color: #E2EBFA;\n",
              "        box-shadow: 0px 1px 2px rgba(60, 64, 67, 0.3), 0px 1px 3px 1px rgba(60, 64, 67, 0.15);\n",
              "        fill: #174EA6;\n",
              "      }\n",
              "\n",
              "      [theme=dark] .colab-df-generate {\n",
              "        background-color: #3B4455;\n",
              "        fill: #D2E3FC;\n",
              "      }\n",
              "\n",
              "      [theme=dark] .colab-df-generate:hover {\n",
              "        background-color: #434B5C;\n",
              "        box-shadow: 0px 1px 3px 1px rgba(0, 0, 0, 0.15);\n",
              "        filter: drop-shadow(0px 1px 2px rgba(0, 0, 0, 0.3));\n",
              "        fill: #FFFFFF;\n",
              "      }\n",
              "    </style>\n",
              "    <button class=\"colab-df-generate\" onclick=\"generateWithVariable('df')\"\n",
              "            title=\"Generate code using this dataframe.\"\n",
              "            style=\"display:none;\">\n",
              "\n",
              "  <svg xmlns=\"http://www.w3.org/2000/svg\" height=\"24px\"viewBox=\"0 0 24 24\"\n",
              "       width=\"24px\">\n",
              "    <path d=\"M7,19H8.4L18.45,9,17,7.55,7,17.6ZM5,21V16.75L18.45,3.32a2,2,0,0,1,2.83,0l1.4,1.43a1.91,1.91,0,0,1,.58,1.4,1.91,1.91,0,0,1-.58,1.4L9.25,21ZM18.45,9,17,7.55Zm-12,3A5.31,5.31,0,0,0,4.9,8.1,5.31,5.31,0,0,0,1,6.5,5.31,5.31,0,0,0,4.9,4.9,5.31,5.31,0,0,0,6.5,1,5.31,5.31,0,0,0,8.1,4.9,5.31,5.31,0,0,0,12,6.5,5.46,5.46,0,0,0,6.5,12Z\"/>\n",
              "  </svg>\n",
              "    </button>\n",
              "    <script>\n",
              "      (() => {\n",
              "      const buttonEl =\n",
              "        document.querySelector('#id_816ffabc-c211-4beb-b703-7af9c87c9868 button.colab-df-generate');\n",
              "      buttonEl.style.display =\n",
              "        google.colab.kernel.accessAllowed ? 'block' : 'none';\n",
              "\n",
              "      buttonEl.onclick = () => {\n",
              "        google.colab.notebook.generateWithVariable('df');\n",
              "      }\n",
              "      })();\n",
              "    </script>\n",
              "  </div>\n",
              "\n",
              "    </div>\n",
              "  </div>\n"
            ],
            "application/vnd.google.colaboratory.intrinsic+json": {
              "type": "dataframe",
              "variable_name": "df",
              "summary": "{\n  \"name\": \"df\",\n  \"rows\": 2,\n  \"fields\": [\n    {\n      \"column\": \"Hilton\",\n      \"properties\": {\n        \"dtype\": \"string\",\n        \"num_unique_values\": 2,\n        \"samples\": [\n          \"Great    \",\n          \"Excellent\"\n        ],\n        \"semantic_type\": \"\",\n        \"description\": \"\"\n      }\n    },\n    {\n      \"column\": \"Marriott\",\n      \"properties\": {\n        \"dtype\": \"string\",\n        \"num_unique_values\": 2,\n        \"samples\": [\n          \"   Good\",\n          \"   Okay   \"\n        ],\n        \"semantic_type\": \"\",\n        \"description\": \"\"\n      }\n    },\n    {\n      \"column\": \"Four Seasons\",\n      \"properties\": {\n        \"dtype\": \"string\",\n        \"num_unique_values\": 2,\n        \"samples\": [\n          \"   Good\",\n          \"   Okay\"\n        ],\n        \"semantic_type\": \"\",\n        \"description\": \"\"\n      }\n    }\n  ]\n}"
            }
          },
          "metadata": {},
          "execution_count": 10
        }
      ],
      "source": [
        "import numpy as np\n",
        "import pandas as pd\n",
        "\n",
        "# Hotel ratings on a 5-star scale\n",
        "my_data = np.array([[\"Excellent\", \"   Okay   \", \"   Okay\"], [\"Great    \", \"   Good\", \"   Good\"]])\n",
        "df = pd.DataFrame(my_data, columns = [\"Hilton\", \"Marriott\", \"Four Seasons\"], index = [\"Alice\", \"Bob\"])\n",
        "df"
      ]
    },
    {
      "cell_type": "code",
      "execution_count": null,
      "metadata": {
        "colab": {
          "base_uri": "https://localhost:8080/"
        },
        "id": "tbR9qwx-DqB0",
        "outputId": "edee5356-a72a-4b86-8868-5e79bf080146"
      },
      "outputs": [
        {
          "output_type": "stream",
          "name": "stdout",
          "text": [
            "   Okay   \n",
            "   Good\n",
            "---\n",
            "Okay\n",
            "Good\n"
          ]
        }
      ],
      "source": [
        "marriott = df['Marriott']\n",
        "for s in marriott:\n",
        "    print(s)\n",
        "print('---')\n",
        "for s in marriott.str.strip(): #.str shows tells system that we are abt to give a string\n",
        "    print(s)  # Look, no extra whitespace"
      ]
    },
    {
      "cell_type": "markdown",
      "metadata": {
        "id": "a6Zzzt_KfKhm"
      },
      "source": [
        "DataFrames are also well-integrated with regular expression matching, which we'll explore just below."
      ]
    },
    {
      "cell_type": "code",
      "execution_count": null,
      "metadata": {
        "colab": {
          "base_uri": "https://localhost:8080/",
          "height": 147
        },
        "id": "NOYB4FZdfQGD",
        "outputId": "26c52162-58b0-4ac1-cfe3-5a9596b77464"
      },
      "outputs": [
        {
          "output_type": "execute_result",
          "data": {
            "text/plain": [
              "Alice     True\n",
              "Bob      False\n",
              "Name: Marriott, dtype: bool"
            ],
            "text/html": [
              "<div>\n",
              "<style scoped>\n",
              "    .dataframe tbody tr th:only-of-type {\n",
              "        vertical-align: middle;\n",
              "    }\n",
              "\n",
              "    .dataframe tbody tr th {\n",
              "        vertical-align: top;\n",
              "    }\n",
              "\n",
              "    .dataframe thead th {\n",
              "        text-align: right;\n",
              "    }\n",
              "</style>\n",
              "<table border=\"1\" class=\"dataframe\">\n",
              "  <thead>\n",
              "    <tr style=\"text-align: right;\">\n",
              "      <th></th>\n",
              "      <th>Marriott</th>\n",
              "    </tr>\n",
              "  </thead>\n",
              "  <tbody>\n",
              "    <tr>\n",
              "      <th>Alice</th>\n",
              "      <td>True</td>\n",
              "    </tr>\n",
              "    <tr>\n",
              "      <th>Bob</th>\n",
              "      <td>False</td>\n",
              "    </tr>\n",
              "  </tbody>\n",
              "</table>\n",
              "</div><br><label><b>dtype:</b> bool</label>"
            ]
          },
          "metadata": {},
          "execution_count": 12
        }
      ],
      "source": [
        "marriott.str.match(\"\\s*Okay\\s*\")\n",
        "#means looking for string 'Okay' and there can be any amount of whitespace before or after the string"
      ]
    },
    {
      "cell_type": "markdown",
      "metadata": {
        "id": "Dm6LqIfSE3NW"
      },
      "source": [
        "# Regular expressions\n",
        "\n",
        "**Regular expressions search for patterns in your data**.  They can be either very specific, such as looking for a particular zip code (02143); or they could be very broad, like looking for words.  Once a pattern has been found, you can get back the string that matched the pattern; or you could extract details of the string that matched the pattern, like the name next to the zip code.\n"
      ]
    },
    {
      "cell_type": "markdown",
      "metadata": {
        "id": "POd341yyUOAN"
      },
      "source": [
        "The pattern we're looking for is described by a string; it can literally be exactly the string we're looking for.  We hand this pattern to a method **search()** from the \"re\" module, and it can tell us whether the pattern is in the data.  The result is a \"match object,\" but its **group()** method tells us the string it found.  (The result is None if no match was found.)"
      ]
    },
    {
      "cell_type": "code",
      "execution_count": null,
      "metadata": {
        "colab": {
          "base_uri": "https://localhost:8080/"
        },
        "id": "-XEER6vjE1rX",
        "outputId": "cbb1ad32-f96d-455d-b1e6-067ceabb5579"
      },
      "outputs": [
        {
          "output_type": "stream",
          "name": "stdout",
          "text": [
            "02143\n"
          ]
        }
      ],
      "source": [
        "import re #regular expressions\n",
        "\n",
        "pattern = '02143'\n",
        "longstring = 'Somerville, MA 02143'\n",
        "result = re.search(pattern, longstring) #search function looks for pattern in the longstring\n",
        "if result:  # (if result: means if result it's not None, with if, None also functions as false)\n",
        "    print(result.group())"
      ]
    },
    {
      "cell_type": "code",
      "execution_count": null,
      "metadata": {
        "colab": {
          "base_uri": "https://localhost:8080/"
        },
        "id": "39hTc6XvHjjb",
        "outputId": "0177649b-a7ee-4a97-8b67-5c0b1b4261ef"
      },
      "outputs": [
        {
          "output_type": "stream",
          "name": "stdout",
          "text": [
            "None\n"
          ]
        }
      ],
      "source": [
        "longstring = '0132428190214200'\n",
        "pattern2 = '02143'\n",
        "result2 = re.search(pattern2, longstring)\n",
        "print(result2)"
      ]
    },
    {
      "cell_type": "markdown",
      "metadata": {
        "id": "FTCgd3D3H46H"
      },
      "source": [
        "We can increase the power of the regular expression by using \"escape sequences\" that represent whole categories of symbol, like **\\d for any digit**, **\\s for any whitespace**, and **\\w for any alphanumeric character**.  So we could look for an arbitrary 5-digit zip code with \\d\\d\\d\\d\\d."
      ]
    },
    {
      "cell_type": "code",
      "execution_count": null,
      "metadata": {
        "id": "Zp31FvE-JJMJ"
      },
      "outputs": [],
      "source": [
        "pattern3 = '\\d\\d\\d\\d\\d' #looking for any digit, any digit, any digit, any digit, any digit --> just finds 5 digits tgt\n",
        "\n",
        "longstring = 'Somerville, MA 02130' #thus even if numbers change, as long as there are 5 numbers, will match\n",
        "#however, if it is more than 5 numbers, e.g. 7 numbers 1234567 --> will show first 5 numbers 12345 --> BE CAREFUL!\n",
        "\n",
        "result3 = re.search(pattern3, longstring)\n",
        "if result3:\n",
        "    print(result3.group())"
      ]
    },
    {
      "cell_type": "markdown",
      "metadata": {
        "id": "RrMTdzX9JZ6r"
      },
      "source": [
        "A * can match zero or more characters, and + can match one or more characters.  So looking for **'3\\d*3**' will try to find a sequence of digits bookended by 3's, but the stuff between could be arbitrarily long (means 0 or more digits between first digit 3 and last digit 3).\n",
        "\n",
        "IMPT for test: **+ means one or more, * means 0 or more**  "
      ]
    },
    {
      "cell_type": "code",
      "execution_count": null,
      "metadata": {
        "colab": {
          "base_uri": "https://localhost:8080/"
        },
        "id": "ViDeLnrrKlIq",
        "outputId": "4e9fd1e0-2d20-422b-f573-528754dd7135"
      },
      "outputs": [
        {
          "output_type": "stream",
          "name": "stdout",
          "text": [
            "phone number is 5555555\n"
          ]
        }
      ],
      "source": [
        "longstring = 'My phone number is 5555555'\n",
        "pattern4 = 'phone number is \\d+' #means 1 or more digits\n",
        "result4 = re.search(pattern4, longstring)\n",
        "if result4:\n",
        "    print(result4.group())"
      ]
    },
    {
      "cell_type": "markdown",
      "metadata": {
        "id": "7di3yj9NxvIi"
      },
      "source": [
        "It's also possible to be uncertain about a particular character being there or not:  a **'?'** in the expression indicates that the character could be there or not, and the expression still matches."
      ]
    },
    {
      "cell_type": "code",
      "execution_count": null,
      "metadata": {
        "colab": {
          "base_uri": "https://localhost:8080/"
        },
        "id": "58pdjn9qx5zS",
        "outputId": "43d402dc-adda-45c6-cd30-77a5b36eb251"
      },
      "outputs": [
        {
          "output_type": "stream",
          "name": "stdout",
          "text": [
            "5555555\n"
          ]
        }
      ],
      "source": [
        "longstring = 'Call me at 5555555'\n",
        "pattern5 = '\\d\\d\\d-?\\d\\d\\d\\d' #match with or without the dash, not sure if have dash or not. however, ? only matches one character, -- will not work\n",
        "result5 = re.search(pattern5, longstring)\n",
        "if result5:\n",
        "    print(result5.group())\n"
      ]
    },
    {
      "cell_type": "markdown",
      "metadata": {
        "id": "VFZ2W3VSiJZV"
      },
      "source": [
        "Something that can greatly increase the power of the regular expression is putting subsequences in parentheses, then using +, *, or ? on that \"group.\"  In the case of star, the whole sequence now can appear zero or more times, and + and ? are similarly extended to apply to the whole subgroup."
      ]
    },
    {
      "cell_type": "code",
      "execution_count": null,
      "metadata": {
        "colab": {
          "base_uri": "https://localhost:8080/"
        },
        "id": "j7Fc-wabiiNg",
        "outputId": "08ce9d9f-c8d4-4eef-cb59-199664bf71d7"
      },
      "outputs": [
        {
          "output_type": "stream",
          "name": "stdout",
          "text": [
            "1-800-555-5555\n"
          ]
        }
      ],
      "source": [
        "longstring = \"Call me at 1-800-555-5555.\"\n",
        "pattern = \"(\\d-)?(\\d\\d\\d-)?\\d\\d\\d-?\\d\\d\\d\\d\" #(may or may not have first digit)(may or may not have next 3 digits)(next 3 digits)(may or may not have dash)(last 4 digits)\n",
        "#allows for match to occur even if phone number is just last 7 digits without country and area code and dashes\n",
        "result = re.search(pattern, longstring)\n",
        "if result:\n",
        "    print(result.group())"
      ]
    },
    {
      "cell_type": "code",
      "execution_count": null,
      "metadata": {
        "colab": {
          "base_uri": "https://localhost:8080/"
        },
        "id": "__bT9QGSUOAO",
        "outputId": "4a61e393-121c-47ef-8668-fa395e68f697"
      },
      "outputs": [
        {
          "output_type": "stream",
          "name": "stdout",
          "text": [
            "555-5555\n"
          ]
        }
      ],
      "source": [
        "# Same regex now finds a phone number without area code\n",
        "longstring2 = \"Call me at 555-5555.\"\n",
        "result = re.search(pattern, longstring2)\n",
        "if result:\n",
        "    print(result.group())"
      ]
    },
    {
      "cell_type": "markdown",
      "metadata": {
        "id": "212QjeWN25ZF"
      },
      "source": [
        "Sometimes you may want to accept one of a few different strings.  **The | (or)** operator allows the regular expression to **accept this or that**."
      ]
    },
    {
      "cell_type": "code",
      "execution_count": null,
      "metadata": {
        "colab": {
          "base_uri": "https://localhost:8080/"
        },
        "id": "sUPIqw6l3IKQ",
        "outputId": "1bb9129e-ce63-4360-b346-ccd5010b4313"
      },
      "outputs": [
        {
          "output_type": "stream",
          "name": "stdout",
          "text": [
            "Somerville, MA\n"
          ]
        }
      ],
      "source": [
        "pattern = \"Somerville, (MA|NJ)\"\n",
        "longstring = \"Somerville, MA 02143\"\n",
        "result = re.search(pattern, longstring)\n",
        "if result:\n",
        "    print(result.group())"
      ]
    },
    {
      "cell_type": "markdown",
      "metadata": {
        "id": "mpE1xIg5UOAO"
      },
      "source": [
        "Sometimes you want to find multiple matches for a pattern in the target string, rather than just the first match.  re.findall() will look for all the matches and return them in a list."
      ]
    },
    {
      "cell_type": "code",
      "execution_count": null,
      "metadata": {
        "colab": {
          "base_uri": "https://localhost:8080/"
        },
        "id": "NNA93n24UOAO",
        "outputId": "c532262a-fc54-4f73-84b8-faac49205a74"
      },
      "outputs": [
        {
          "output_type": "stream",
          "name": "stdout",
          "text": [
            "['AL', 'IN', 'ME', 'MA', 'NJ', 'OH', 'TN', 'TX']\n"
          ]
        }
      ],
      "source": [
        "longstring = \"States with a Somerville:  AL, IN, ME, MA, NJ, OH, TN, TX\"\n",
        "pattern = \"[A-Z][A-Z]\"  # Get capital letters within A-Z range #searching for range of letters between A to Z #case sensitive! not equal [a-z]\n",
        "result = re.findall(pattern, longstring)\n",
        "print(result)"
      ]
    },
    {
      "cell_type": "markdown",
      "metadata": {
        "id": "JuhL1DRuKY5Z"
      },
      "source": [
        "A last interesting thing to do with a regex is capture information from groups (in parentheses) in the regular expression.  This requires the text to have a predictable structure - if it doesn't, you could try AI to extract the information instead.  But regexes are a little more predictable."
      ]
    },
    {
      "cell_type": "code",
      "execution_count": null,
      "metadata": {
        "colab": {
          "base_uri": "https://localhost:8080/"
        },
        "id": "amM8M2_BLWmX",
        "outputId": "a522ff6c-ff41-48e7-dc44-4ecb5e72f9a8"
      },
      "outputs": [
        {
          "output_type": "stream",
          "name": "stdout",
          "text": [
            "NVDA\n",
            "4.54\n"
          ]
        }
      ],
      "source": [
        "longstring = \"The stock NVDA went down 4.54 points\"\n",
        "pattern = \"stock (\\w+) went down (\\d+.\\d+) points\" #\\w+ means can be any number of characters  \\d+.\\d+ means that can be any number of digits before and aft decimal pt\n",
        "#put in parenthesis so that that specific information can be grabbed directly next time\n",
        "\n",
        "result = re.search(pattern, longstring)\n",
        "if result:\n",
        "    print(result.group(1))  # Subgroup 1, the first () in the pattern\n",
        "    print(result.group(2))"
      ]
    },
    {
      "cell_type": "markdown",
      "metadata": {
        "id": "vWecNAmphtkx"
      },
      "source": [
        "# Exercise (3 min)\n",
        "\n",
        "Write a regular expression that looks for a price:  a dollar sign followed by at least one digit.  Try running the search on the provided string.  Note that a dollar sign has a specific meaning in regular expressions (end of string), so you'll need to write it as an escape character (precede it with \\\\)."
      ]
    },
    {
      "cell_type": "code",
      "execution_count": null,
      "metadata": {
        "colab": {
          "base_uri": "https://localhost:8080/"
        },
        "id": "4yU2s1lYiCTn",
        "outputId": "fbc0a9d7-ac3d-4ee8-f355-1dc7ace39bed"
      },
      "outputs": [
        {
          "output_type": "stream",
          "name": "stdout",
          "text": [
            "$100\n"
          ]
        }
      ],
      "source": [
        "import re\n",
        "\n",
        "longstring = \"We paid $100 for those shoes\"\n",
        "pattern = '\\$\\d+' #NOT \"paid\\s*\\(\\$\\d+)\"\n",
        "result = re.search(pattern, longstring)\n",
        "\n",
        "if result:\n",
        " print(result.group())"
      ]
    },
    {
      "cell_type": "markdown",
      "metadata": {
        "id": "dExzOvZhUOAY"
      },
      "source": [
        "*Using regular expressions to find cafes matching her pattern, Cynthia found the Face à Face Café, a small quaint cafe with the shades drawn.  But when she opened the door, she found not a quaint café, but a security checkpoint that reminded her of the TSA.  A Black man wearing clip-on sunglasses, a U2 T-shirt, and jeans beckoned her through the currently inert metal detector.*\n",
        "\n",
        "*He grinned.  \"You passed the interview, Cynthia,\" he said, offering his hand.  \"I'm Aubin.  Welcome to SAGE.\"*"
      ]
    },
    {
      "cell_type": "markdown",
      "metadata": {
        "id": "9UP_VGB4UOAY"
      },
      "source": [
        "# Image Credits\n",
        "\n",
        "\"I know regular expressions\" - xkcd 208 (https://xkcd.com/208/)"
      ]
    }
  ],
  "metadata": {
    "celltoolbar": "Slideshow",
    "colab": {
      "provenance": [],
      "include_colab_link": true
    },
    "kernelspec": {
      "display_name": "Python 3 (ipykernel)",
      "language": "python",
      "name": "python3"
    },
    "language_info": {
      "codemirror_mode": {
        "name": "ipython",
        "version": 3
      },
      "file_extension": ".py",
      "mimetype": "text/x-python",
      "name": "python",
      "nbconvert_exporter": "python",
      "pygments_lexer": "ipython3",
      "version": "3.8.8"
    },
    "rise": {
      "scroll": true
    }
  },
  "nbformat": 4,
  "nbformat_minor": 0
}